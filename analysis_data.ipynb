{
  "cells": [
    {
      "cell_type": "markdown",
      "metadata": {
        "id": "H9wADwK78DCz"
      },
      "source": [
        "# Proyek Analisis Data: E-Commerce Public Dataset\n",
        "- **Nama:** Oky Askal\n",
        "- **Email:** al3131624@gmail.com\n",
        "- **ID Dicoding:** oky_askal"
      ]
    },
    {
      "cell_type": "markdown",
      "metadata": {
        "id": "eE0raob58DC0"
      },
      "source": [
        "## Menentukan Pertanyaan Bisnis"
      ]
    },
    {
      "cell_type": "markdown",
      "metadata": {
        "id": "GmQeQ5YF8DC0"
      },
      "source": [
        "- Bagaimana distribusi geografis pelanggan jika dilihat berdasarkan jumlah transaksi di setiap kotanya?\n",
        "- Bagaimana distribusi pelanggan jika dilihat berdasarkan nilai pembelian yang dilakukannya?"
      ]
    },
    {
      "cell_type": "markdown",
      "metadata": {
        "id": "H-z4QGlO8DC1"
      },
      "source": [
        "## Import Semua Packages/Library yang Digunakan"
      ]
    },
    {
      "cell_type": "code",
      "execution_count": null,
      "metadata": {
        "id": "FVYwaObI8DC1"
      },
      "outputs": [],
      "source": [
        "import pandas as pd\n",
        "import matplotlib.pyplot as plt\n",
        "import seaborn as sns"
      ]
    },
    {
      "cell_type": "markdown",
      "metadata": {
        "id": "h_Sh51Xy8DC1"
      },
      "source": [
        "## Data Wrangling"
      ]
    },
    {
      "cell_type": "markdown",
      "metadata": {
        "id": "sXU2GBYu8DC1"
      },
      "source": [
        "### Gathering Data"
      ]
    },
    {
      "cell_type": "markdown",
      "metadata": {},
      "source": [
        "#### Load data orders"
      ]
    },
    {
      "cell_type": "code",
      "execution_count": 2,
      "metadata": {
        "id": "zjCBk1BI8DC1"
      },
      "outputs": [
        {
          "data": {
            "application/vnd.microsoft.datawrangler.viewer.v0+json": {
              "columns": [
                {
                  "name": "index",
                  "rawType": "int64",
                  "type": "integer"
                },
                {
                  "name": "order_id",
                  "rawType": "object",
                  "type": "string"
                },
                {
                  "name": "customer_id",
                  "rawType": "object",
                  "type": "string"
                },
                {
                  "name": "order_status",
                  "rawType": "object",
                  "type": "string"
                },
                {
                  "name": "order_purchase_timestamp",
                  "rawType": "object",
                  "type": "string"
                },
                {
                  "name": "order_approved_at",
                  "rawType": "object",
                  "type": "string"
                },
                {
                  "name": "order_delivered_carrier_date",
                  "rawType": "object",
                  "type": "string"
                },
                {
                  "name": "order_delivered_customer_date",
                  "rawType": "object",
                  "type": "string"
                },
                {
                  "name": "order_estimated_delivery_date",
                  "rawType": "object",
                  "type": "string"
                }
              ],
              "conversionMethod": "pd.DataFrame",
              "ref": "b9ea15c0-b77f-4dfd-ab45-aee2a6be0d8e",
              "rows": [
                [
                  "0",
                  "e481f51cbdc54678b7cc49136f2d6af7",
                  "9ef432eb6251297304e76186b10a928d",
                  "delivered",
                  "2017-10-02 10:56:33",
                  "2017-10-02 11:07:15",
                  "2017-10-04 19:55:00",
                  "2017-10-10 21:25:13",
                  "2017-10-18 00:00:00"
                ],
                [
                  "1",
                  "53cdb2fc8bc7dce0b6741e2150273451",
                  "b0830fb4747a6c6d20dea0b8c802d7ef",
                  "delivered",
                  "2018-07-24 20:41:37",
                  "2018-07-26 03:24:27",
                  "2018-07-26 14:31:00",
                  "2018-08-07 15:27:45",
                  "2018-08-13 00:00:00"
                ],
                [
                  "2",
                  "47770eb9100c2d0c44946d9cf07ec65d",
                  "41ce2a54c0b03bf3443c3d931a367089",
                  "delivered",
                  "2018-08-08 08:38:49",
                  "2018-08-08 08:55:23",
                  "2018-08-08 13:50:00",
                  "2018-08-17 18:06:29",
                  "2018-09-04 00:00:00"
                ],
                [
                  "3",
                  "949d5b44dbf5de918fe9c16f97b45f8a",
                  "f88197465ea7920adcdbec7375364d82",
                  "delivered",
                  "2017-11-18 19:28:06",
                  "2017-11-18 19:45:59",
                  "2017-11-22 13:39:59",
                  "2017-12-02 00:28:42",
                  "2017-12-15 00:00:00"
                ],
                [
                  "4",
                  "ad21c59c0840e6cb83a9ceb5573f8159",
                  "8ab97904e6daea8866dbdbc4fb7aad2c",
                  "delivered",
                  "2018-02-13 21:18:39",
                  "2018-02-13 22:20:29",
                  "2018-02-14 19:46:34",
                  "2018-02-16 18:17:02",
                  "2018-02-26 00:00:00"
                ]
              ],
              "shape": {
                "columns": 8,
                "rows": 5
              }
            },
            "text/html": [
              "<div>\n",
              "<style scoped>\n",
              "    .dataframe tbody tr th:only-of-type {\n",
              "        vertical-align: middle;\n",
              "    }\n",
              "\n",
              "    .dataframe tbody tr th {\n",
              "        vertical-align: top;\n",
              "    }\n",
              "\n",
              "    .dataframe thead th {\n",
              "        text-align: right;\n",
              "    }\n",
              "</style>\n",
              "<table border=\"1\" class=\"dataframe\">\n",
              "  <thead>\n",
              "    <tr style=\"text-align: right;\">\n",
              "      <th></th>\n",
              "      <th>order_id</th>\n",
              "      <th>customer_id</th>\n",
              "      <th>order_status</th>\n",
              "      <th>order_purchase_timestamp</th>\n",
              "      <th>order_approved_at</th>\n",
              "      <th>order_delivered_carrier_date</th>\n",
              "      <th>order_delivered_customer_date</th>\n",
              "      <th>order_estimated_delivery_date</th>\n",
              "    </tr>\n",
              "  </thead>\n",
              "  <tbody>\n",
              "    <tr>\n",
              "      <th>0</th>\n",
              "      <td>e481f51cbdc54678b7cc49136f2d6af7</td>\n",
              "      <td>9ef432eb6251297304e76186b10a928d</td>\n",
              "      <td>delivered</td>\n",
              "      <td>2017-10-02 10:56:33</td>\n",
              "      <td>2017-10-02 11:07:15</td>\n",
              "      <td>2017-10-04 19:55:00</td>\n",
              "      <td>2017-10-10 21:25:13</td>\n",
              "      <td>2017-10-18 00:00:00</td>\n",
              "    </tr>\n",
              "    <tr>\n",
              "      <th>1</th>\n",
              "      <td>53cdb2fc8bc7dce0b6741e2150273451</td>\n",
              "      <td>b0830fb4747a6c6d20dea0b8c802d7ef</td>\n",
              "      <td>delivered</td>\n",
              "      <td>2018-07-24 20:41:37</td>\n",
              "      <td>2018-07-26 03:24:27</td>\n",
              "      <td>2018-07-26 14:31:00</td>\n",
              "      <td>2018-08-07 15:27:45</td>\n",
              "      <td>2018-08-13 00:00:00</td>\n",
              "    </tr>\n",
              "    <tr>\n",
              "      <th>2</th>\n",
              "      <td>47770eb9100c2d0c44946d9cf07ec65d</td>\n",
              "      <td>41ce2a54c0b03bf3443c3d931a367089</td>\n",
              "      <td>delivered</td>\n",
              "      <td>2018-08-08 08:38:49</td>\n",
              "      <td>2018-08-08 08:55:23</td>\n",
              "      <td>2018-08-08 13:50:00</td>\n",
              "      <td>2018-08-17 18:06:29</td>\n",
              "      <td>2018-09-04 00:00:00</td>\n",
              "    </tr>\n",
              "    <tr>\n",
              "      <th>3</th>\n",
              "      <td>949d5b44dbf5de918fe9c16f97b45f8a</td>\n",
              "      <td>f88197465ea7920adcdbec7375364d82</td>\n",
              "      <td>delivered</td>\n",
              "      <td>2017-11-18 19:28:06</td>\n",
              "      <td>2017-11-18 19:45:59</td>\n",
              "      <td>2017-11-22 13:39:59</td>\n",
              "      <td>2017-12-02 00:28:42</td>\n",
              "      <td>2017-12-15 00:00:00</td>\n",
              "    </tr>\n",
              "    <tr>\n",
              "      <th>4</th>\n",
              "      <td>ad21c59c0840e6cb83a9ceb5573f8159</td>\n",
              "      <td>8ab97904e6daea8866dbdbc4fb7aad2c</td>\n",
              "      <td>delivered</td>\n",
              "      <td>2018-02-13 21:18:39</td>\n",
              "      <td>2018-02-13 22:20:29</td>\n",
              "      <td>2018-02-14 19:46:34</td>\n",
              "      <td>2018-02-16 18:17:02</td>\n",
              "      <td>2018-02-26 00:00:00</td>\n",
              "    </tr>\n",
              "  </tbody>\n",
              "</table>\n",
              "</div>"
            ],
            "text/plain": [
              "                           order_id                       customer_id  \\\n",
              "0  e481f51cbdc54678b7cc49136f2d6af7  9ef432eb6251297304e76186b10a928d   \n",
              "1  53cdb2fc8bc7dce0b6741e2150273451  b0830fb4747a6c6d20dea0b8c802d7ef   \n",
              "2  47770eb9100c2d0c44946d9cf07ec65d  41ce2a54c0b03bf3443c3d931a367089   \n",
              "3  949d5b44dbf5de918fe9c16f97b45f8a  f88197465ea7920adcdbec7375364d82   \n",
              "4  ad21c59c0840e6cb83a9ceb5573f8159  8ab97904e6daea8866dbdbc4fb7aad2c   \n",
              "\n",
              "  order_status order_purchase_timestamp    order_approved_at  \\\n",
              "0    delivered      2017-10-02 10:56:33  2017-10-02 11:07:15   \n",
              "1    delivered      2018-07-24 20:41:37  2018-07-26 03:24:27   \n",
              "2    delivered      2018-08-08 08:38:49  2018-08-08 08:55:23   \n",
              "3    delivered      2017-11-18 19:28:06  2017-11-18 19:45:59   \n",
              "4    delivered      2018-02-13 21:18:39  2018-02-13 22:20:29   \n",
              "\n",
              "  order_delivered_carrier_date order_delivered_customer_date  \\\n",
              "0          2017-10-04 19:55:00           2017-10-10 21:25:13   \n",
              "1          2018-07-26 14:31:00           2018-08-07 15:27:45   \n",
              "2          2018-08-08 13:50:00           2018-08-17 18:06:29   \n",
              "3          2017-11-22 13:39:59           2017-12-02 00:28:42   \n",
              "4          2018-02-14 19:46:34           2018-02-16 18:17:02   \n",
              "\n",
              "  order_estimated_delivery_date  \n",
              "0           2017-10-18 00:00:00  \n",
              "1           2018-08-13 00:00:00  \n",
              "2           2018-09-04 00:00:00  \n",
              "3           2017-12-15 00:00:00  \n",
              "4           2018-02-26 00:00:00  "
            ]
          },
          "execution_count": 2,
          "metadata": {},
          "output_type": "execute_result"
        }
      ],
      "source": [
        "# Notes: Data yg dipilih disesuaikan dengan pertanyaan bisnis yg ada, maka dari itu cuma 4 data csv dalam hal ini\n",
        "# Load data orders dataset\n",
        "orders_df = pd.read_csv('Dataset/orders_dataset.csv')\n",
        "orders_df.head()"
      ]
    },
    {
      "cell_type": "markdown",
      "metadata": {},
      "source": [
        "#### Load data order items"
      ]
    },
    {
      "cell_type": "code",
      "execution_count": 3,
      "metadata": {},
      "outputs": [
        {
          "data": {
            "application/vnd.microsoft.datawrangler.viewer.v0+json": {
              "columns": [
                {
                  "name": "index",
                  "rawType": "int64",
                  "type": "integer"
                },
                {
                  "name": "order_id",
                  "rawType": "object",
                  "type": "string"
                },
                {
                  "name": "order_item_id",
                  "rawType": "int64",
                  "type": "integer"
                },
                {
                  "name": "product_id",
                  "rawType": "object",
                  "type": "string"
                },
                {
                  "name": "seller_id",
                  "rawType": "object",
                  "type": "string"
                },
                {
                  "name": "shipping_limit_date",
                  "rawType": "object",
                  "type": "string"
                },
                {
                  "name": "price",
                  "rawType": "float64",
                  "type": "float"
                },
                {
                  "name": "freight_value",
                  "rawType": "float64",
                  "type": "float"
                }
              ],
              "conversionMethod": "pd.DataFrame",
              "ref": "6095db61-d5a1-4962-b015-8ae6d2f02a51",
              "rows": [
                [
                  "0",
                  "00010242fe8c5a6d1ba2dd792cb16214",
                  "1",
                  "4244733e06e7ecb4970a6e2683c13e61",
                  "48436dade18ac8b2bce089ec2a041202",
                  "2017-09-19 09:45:35",
                  "58.9",
                  "13.29"
                ],
                [
                  "1",
                  "00018f77f2f0320c557190d7a144bdd3",
                  "1",
                  "e5f2d52b802189ee658865ca93d83a8f",
                  "dd7ddc04e1b6c2c614352b383efe2d36",
                  "2017-05-03 11:05:13",
                  "239.9",
                  "19.93"
                ],
                [
                  "2",
                  "000229ec398224ef6ca0657da4fc703e",
                  "1",
                  "c777355d18b72b67abbeef9df44fd0fd",
                  "5b51032eddd242adc84c38acab88f23d",
                  "2018-01-18 14:48:30",
                  "199.0",
                  "17.87"
                ],
                [
                  "3",
                  "00024acbcdf0a6daa1e931b038114c75",
                  "1",
                  "7634da152a4610f1595efa32f14722fc",
                  "9d7a1d34a5052409006425275ba1c2b4",
                  "2018-08-15 10:10:18",
                  "12.99",
                  "12.79"
                ],
                [
                  "4",
                  "00042b26cf59d7ce69dfabb4e55b4fd9",
                  "1",
                  "ac6c3623068f30de03045865e4e10089",
                  "df560393f3a51e74553ab94004ba5c87",
                  "2017-02-13 13:57:51",
                  "199.9",
                  "18.14"
                ]
              ],
              "shape": {
                "columns": 7,
                "rows": 5
              }
            },
            "text/html": [
              "<div>\n",
              "<style scoped>\n",
              "    .dataframe tbody tr th:only-of-type {\n",
              "        vertical-align: middle;\n",
              "    }\n",
              "\n",
              "    .dataframe tbody tr th {\n",
              "        vertical-align: top;\n",
              "    }\n",
              "\n",
              "    .dataframe thead th {\n",
              "        text-align: right;\n",
              "    }\n",
              "</style>\n",
              "<table border=\"1\" class=\"dataframe\">\n",
              "  <thead>\n",
              "    <tr style=\"text-align: right;\">\n",
              "      <th></th>\n",
              "      <th>order_id</th>\n",
              "      <th>order_item_id</th>\n",
              "      <th>product_id</th>\n",
              "      <th>seller_id</th>\n",
              "      <th>shipping_limit_date</th>\n",
              "      <th>price</th>\n",
              "      <th>freight_value</th>\n",
              "    </tr>\n",
              "  </thead>\n",
              "  <tbody>\n",
              "    <tr>\n",
              "      <th>0</th>\n",
              "      <td>00010242fe8c5a6d1ba2dd792cb16214</td>\n",
              "      <td>1</td>\n",
              "      <td>4244733e06e7ecb4970a6e2683c13e61</td>\n",
              "      <td>48436dade18ac8b2bce089ec2a041202</td>\n",
              "      <td>2017-09-19 09:45:35</td>\n",
              "      <td>58.90</td>\n",
              "      <td>13.29</td>\n",
              "    </tr>\n",
              "    <tr>\n",
              "      <th>1</th>\n",
              "      <td>00018f77f2f0320c557190d7a144bdd3</td>\n",
              "      <td>1</td>\n",
              "      <td>e5f2d52b802189ee658865ca93d83a8f</td>\n",
              "      <td>dd7ddc04e1b6c2c614352b383efe2d36</td>\n",
              "      <td>2017-05-03 11:05:13</td>\n",
              "      <td>239.90</td>\n",
              "      <td>19.93</td>\n",
              "    </tr>\n",
              "    <tr>\n",
              "      <th>2</th>\n",
              "      <td>000229ec398224ef6ca0657da4fc703e</td>\n",
              "      <td>1</td>\n",
              "      <td>c777355d18b72b67abbeef9df44fd0fd</td>\n",
              "      <td>5b51032eddd242adc84c38acab88f23d</td>\n",
              "      <td>2018-01-18 14:48:30</td>\n",
              "      <td>199.00</td>\n",
              "      <td>17.87</td>\n",
              "    </tr>\n",
              "    <tr>\n",
              "      <th>3</th>\n",
              "      <td>00024acbcdf0a6daa1e931b038114c75</td>\n",
              "      <td>1</td>\n",
              "      <td>7634da152a4610f1595efa32f14722fc</td>\n",
              "      <td>9d7a1d34a5052409006425275ba1c2b4</td>\n",
              "      <td>2018-08-15 10:10:18</td>\n",
              "      <td>12.99</td>\n",
              "      <td>12.79</td>\n",
              "    </tr>\n",
              "    <tr>\n",
              "      <th>4</th>\n",
              "      <td>00042b26cf59d7ce69dfabb4e55b4fd9</td>\n",
              "      <td>1</td>\n",
              "      <td>ac6c3623068f30de03045865e4e10089</td>\n",
              "      <td>df560393f3a51e74553ab94004ba5c87</td>\n",
              "      <td>2017-02-13 13:57:51</td>\n",
              "      <td>199.90</td>\n",
              "      <td>18.14</td>\n",
              "    </tr>\n",
              "  </tbody>\n",
              "</table>\n",
              "</div>"
            ],
            "text/plain": [
              "                           order_id  order_item_id  \\\n",
              "0  00010242fe8c5a6d1ba2dd792cb16214              1   \n",
              "1  00018f77f2f0320c557190d7a144bdd3              1   \n",
              "2  000229ec398224ef6ca0657da4fc703e              1   \n",
              "3  00024acbcdf0a6daa1e931b038114c75              1   \n",
              "4  00042b26cf59d7ce69dfabb4e55b4fd9              1   \n",
              "\n",
              "                         product_id                         seller_id  \\\n",
              "0  4244733e06e7ecb4970a6e2683c13e61  48436dade18ac8b2bce089ec2a041202   \n",
              "1  e5f2d52b802189ee658865ca93d83a8f  dd7ddc04e1b6c2c614352b383efe2d36   \n",
              "2  c777355d18b72b67abbeef9df44fd0fd  5b51032eddd242adc84c38acab88f23d   \n",
              "3  7634da152a4610f1595efa32f14722fc  9d7a1d34a5052409006425275ba1c2b4   \n",
              "4  ac6c3623068f30de03045865e4e10089  df560393f3a51e74553ab94004ba5c87   \n",
              "\n",
              "   shipping_limit_date   price  freight_value  \n",
              "0  2017-09-19 09:45:35   58.90          13.29  \n",
              "1  2017-05-03 11:05:13  239.90          19.93  \n",
              "2  2018-01-18 14:48:30  199.00          17.87  \n",
              "3  2018-08-15 10:10:18   12.99          12.79  \n",
              "4  2017-02-13 13:57:51  199.90          18.14  "
            ]
          },
          "execution_count": 3,
          "metadata": {},
          "output_type": "execute_result"
        }
      ],
      "source": [
        "# Load data orders items dataset\n",
        "order_items_df = pd.read_csv('Dataset/order_items_dataset.csv')\n",
        "order_items_df.head()"
      ]
    },
    {
      "cell_type": "markdown",
      "metadata": {},
      "source": [
        "#### Load data customers"
      ]
    },
    {
      "cell_type": "code",
      "execution_count": 4,
      "metadata": {},
      "outputs": [
        {
          "data": {
            "application/vnd.microsoft.datawrangler.viewer.v0+json": {
              "columns": [
                {
                  "name": "index",
                  "rawType": "int64",
                  "type": "integer"
                },
                {
                  "name": "customer_id",
                  "rawType": "object",
                  "type": "string"
                },
                {
                  "name": "customer_unique_id",
                  "rawType": "object",
                  "type": "string"
                },
                {
                  "name": "customer_zip_code_prefix",
                  "rawType": "int64",
                  "type": "integer"
                },
                {
                  "name": "customer_city",
                  "rawType": "object",
                  "type": "string"
                },
                {
                  "name": "customer_state",
                  "rawType": "object",
                  "type": "string"
                }
              ],
              "conversionMethod": "pd.DataFrame",
              "ref": "8d92bfb8-0b09-4c00-a284-61ab2ade9015",
              "rows": [
                [
                  "0",
                  "06b8999e2fba1a1fbc88172c00ba8bc7",
                  "861eff4711a542e4b93843c6dd7febb0",
                  "14409",
                  "franca",
                  "SP"
                ],
                [
                  "1",
                  "18955e83d337fd6b2def6b18a428ac77",
                  "290c77bc529b7ac935b93aa66c333dc3",
                  "9790",
                  "sao bernardo do campo",
                  "SP"
                ],
                [
                  "2",
                  "4e7b3e00288586ebd08712fdd0374a03",
                  "060e732b5b29e8181a18229c7b0b2b5e",
                  "1151",
                  "sao paulo",
                  "SP"
                ],
                [
                  "3",
                  "b2b6027bc5c5109e529d4dc6358b12c3",
                  "259dac757896d24d7702b9acbbff3f3c",
                  "8775",
                  "mogi das cruzes",
                  "SP"
                ],
                [
                  "4",
                  "4f2d8ab171c80ec8364f7c12e35b23ad",
                  "345ecd01c38d18a9036ed96c73b8d066",
                  "13056",
                  "campinas",
                  "SP"
                ]
              ],
              "shape": {
                "columns": 5,
                "rows": 5
              }
            },
            "text/html": [
              "<div>\n",
              "<style scoped>\n",
              "    .dataframe tbody tr th:only-of-type {\n",
              "        vertical-align: middle;\n",
              "    }\n",
              "\n",
              "    .dataframe tbody tr th {\n",
              "        vertical-align: top;\n",
              "    }\n",
              "\n",
              "    .dataframe thead th {\n",
              "        text-align: right;\n",
              "    }\n",
              "</style>\n",
              "<table border=\"1\" class=\"dataframe\">\n",
              "  <thead>\n",
              "    <tr style=\"text-align: right;\">\n",
              "      <th></th>\n",
              "      <th>customer_id</th>\n",
              "      <th>customer_unique_id</th>\n",
              "      <th>customer_zip_code_prefix</th>\n",
              "      <th>customer_city</th>\n",
              "      <th>customer_state</th>\n",
              "    </tr>\n",
              "  </thead>\n",
              "  <tbody>\n",
              "    <tr>\n",
              "      <th>0</th>\n",
              "      <td>06b8999e2fba1a1fbc88172c00ba8bc7</td>\n",
              "      <td>861eff4711a542e4b93843c6dd7febb0</td>\n",
              "      <td>14409</td>\n",
              "      <td>franca</td>\n",
              "      <td>SP</td>\n",
              "    </tr>\n",
              "    <tr>\n",
              "      <th>1</th>\n",
              "      <td>18955e83d337fd6b2def6b18a428ac77</td>\n",
              "      <td>290c77bc529b7ac935b93aa66c333dc3</td>\n",
              "      <td>9790</td>\n",
              "      <td>sao bernardo do campo</td>\n",
              "      <td>SP</td>\n",
              "    </tr>\n",
              "    <tr>\n",
              "      <th>2</th>\n",
              "      <td>4e7b3e00288586ebd08712fdd0374a03</td>\n",
              "      <td>060e732b5b29e8181a18229c7b0b2b5e</td>\n",
              "      <td>1151</td>\n",
              "      <td>sao paulo</td>\n",
              "      <td>SP</td>\n",
              "    </tr>\n",
              "    <tr>\n",
              "      <th>3</th>\n",
              "      <td>b2b6027bc5c5109e529d4dc6358b12c3</td>\n",
              "      <td>259dac757896d24d7702b9acbbff3f3c</td>\n",
              "      <td>8775</td>\n",
              "      <td>mogi das cruzes</td>\n",
              "      <td>SP</td>\n",
              "    </tr>\n",
              "    <tr>\n",
              "      <th>4</th>\n",
              "      <td>4f2d8ab171c80ec8364f7c12e35b23ad</td>\n",
              "      <td>345ecd01c38d18a9036ed96c73b8d066</td>\n",
              "      <td>13056</td>\n",
              "      <td>campinas</td>\n",
              "      <td>SP</td>\n",
              "    </tr>\n",
              "  </tbody>\n",
              "</table>\n",
              "</div>"
            ],
            "text/plain": [
              "                        customer_id                customer_unique_id  \\\n",
              "0  06b8999e2fba1a1fbc88172c00ba8bc7  861eff4711a542e4b93843c6dd7febb0   \n",
              "1  18955e83d337fd6b2def6b18a428ac77  290c77bc529b7ac935b93aa66c333dc3   \n",
              "2  4e7b3e00288586ebd08712fdd0374a03  060e732b5b29e8181a18229c7b0b2b5e   \n",
              "3  b2b6027bc5c5109e529d4dc6358b12c3  259dac757896d24d7702b9acbbff3f3c   \n",
              "4  4f2d8ab171c80ec8364f7c12e35b23ad  345ecd01c38d18a9036ed96c73b8d066   \n",
              "\n",
              "   customer_zip_code_prefix          customer_city customer_state  \n",
              "0                     14409                 franca             SP  \n",
              "1                      9790  sao bernardo do campo             SP  \n",
              "2                      1151              sao paulo             SP  \n",
              "3                      8775        mogi das cruzes             SP  \n",
              "4                     13056               campinas             SP  "
            ]
          },
          "execution_count": 4,
          "metadata": {},
          "output_type": "execute_result"
        }
      ],
      "source": [
        "# Load data customers dataset\n",
        "customers_df = pd.read_csv('Dataset/customers_dataset.csv')\n",
        "customers_df.head()"
      ]
    },
    {
      "cell_type": "markdown",
      "metadata": {},
      "source": [
        "#### Load data payments"
      ]
    },
    {
      "cell_type": "code",
      "execution_count": 5,
      "metadata": {},
      "outputs": [
        {
          "data": {
            "application/vnd.microsoft.datawrangler.viewer.v0+json": {
              "columns": [
                {
                  "name": "index",
                  "rawType": "int64",
                  "type": "integer"
                },
                {
                  "name": "order_id",
                  "rawType": "object",
                  "type": "string"
                },
                {
                  "name": "payment_sequential",
                  "rawType": "int64",
                  "type": "integer"
                },
                {
                  "name": "payment_type",
                  "rawType": "object",
                  "type": "string"
                },
                {
                  "name": "payment_installments",
                  "rawType": "int64",
                  "type": "integer"
                },
                {
                  "name": "payment_value",
                  "rawType": "float64",
                  "type": "float"
                }
              ],
              "conversionMethod": "pd.DataFrame",
              "ref": "cbd09bf5-eeb4-4f8c-8fad-52fb1769a041",
              "rows": [
                [
                  "0",
                  "b81ef226f3fe1789b1e8b2acac839d17",
                  "1",
                  "credit_card",
                  "8",
                  "99.33"
                ],
                [
                  "1",
                  "a9810da82917af2d9aefd1278f1dcfa0",
                  "1",
                  "credit_card",
                  "1",
                  "24.39"
                ],
                [
                  "2",
                  "25e8ea4e93396b6fa0d3dd708e76c1bd",
                  "1",
                  "credit_card",
                  "1",
                  "65.71"
                ],
                [
                  "3",
                  "ba78997921bbcdc1373bb41e913ab953",
                  "1",
                  "credit_card",
                  "8",
                  "107.78"
                ],
                [
                  "4",
                  "42fdf880ba16b47b59251dd489d4441a",
                  "1",
                  "credit_card",
                  "2",
                  "128.45"
                ]
              ],
              "shape": {
                "columns": 5,
                "rows": 5
              }
            },
            "text/html": [
              "<div>\n",
              "<style scoped>\n",
              "    .dataframe tbody tr th:only-of-type {\n",
              "        vertical-align: middle;\n",
              "    }\n",
              "\n",
              "    .dataframe tbody tr th {\n",
              "        vertical-align: top;\n",
              "    }\n",
              "\n",
              "    .dataframe thead th {\n",
              "        text-align: right;\n",
              "    }\n",
              "</style>\n",
              "<table border=\"1\" class=\"dataframe\">\n",
              "  <thead>\n",
              "    <tr style=\"text-align: right;\">\n",
              "      <th></th>\n",
              "      <th>order_id</th>\n",
              "      <th>payment_sequential</th>\n",
              "      <th>payment_type</th>\n",
              "      <th>payment_installments</th>\n",
              "      <th>payment_value</th>\n",
              "    </tr>\n",
              "  </thead>\n",
              "  <tbody>\n",
              "    <tr>\n",
              "      <th>0</th>\n",
              "      <td>b81ef226f3fe1789b1e8b2acac839d17</td>\n",
              "      <td>1</td>\n",
              "      <td>credit_card</td>\n",
              "      <td>8</td>\n",
              "      <td>99.33</td>\n",
              "    </tr>\n",
              "    <tr>\n",
              "      <th>1</th>\n",
              "      <td>a9810da82917af2d9aefd1278f1dcfa0</td>\n",
              "      <td>1</td>\n",
              "      <td>credit_card</td>\n",
              "      <td>1</td>\n",
              "      <td>24.39</td>\n",
              "    </tr>\n",
              "    <tr>\n",
              "      <th>2</th>\n",
              "      <td>25e8ea4e93396b6fa0d3dd708e76c1bd</td>\n",
              "      <td>1</td>\n",
              "      <td>credit_card</td>\n",
              "      <td>1</td>\n",
              "      <td>65.71</td>\n",
              "    </tr>\n",
              "    <tr>\n",
              "      <th>3</th>\n",
              "      <td>ba78997921bbcdc1373bb41e913ab953</td>\n",
              "      <td>1</td>\n",
              "      <td>credit_card</td>\n",
              "      <td>8</td>\n",
              "      <td>107.78</td>\n",
              "    </tr>\n",
              "    <tr>\n",
              "      <th>4</th>\n",
              "      <td>42fdf880ba16b47b59251dd489d4441a</td>\n",
              "      <td>1</td>\n",
              "      <td>credit_card</td>\n",
              "      <td>2</td>\n",
              "      <td>128.45</td>\n",
              "    </tr>\n",
              "  </tbody>\n",
              "</table>\n",
              "</div>"
            ],
            "text/plain": [
              "                           order_id  payment_sequential payment_type  \\\n",
              "0  b81ef226f3fe1789b1e8b2acac839d17                   1  credit_card   \n",
              "1  a9810da82917af2d9aefd1278f1dcfa0                   1  credit_card   \n",
              "2  25e8ea4e93396b6fa0d3dd708e76c1bd                   1  credit_card   \n",
              "3  ba78997921bbcdc1373bb41e913ab953                   1  credit_card   \n",
              "4  42fdf880ba16b47b59251dd489d4441a                   1  credit_card   \n",
              "\n",
              "   payment_installments  payment_value  \n",
              "0                     8          99.33  \n",
              "1                     1          24.39  \n",
              "2                     1          65.71  \n",
              "3                     8         107.78  \n",
              "4                     2         128.45  "
            ]
          },
          "execution_count": 5,
          "metadata": {},
          "output_type": "execute_result"
        }
      ],
      "source": [
        "# Load data order payments dataset\n",
        "payments_df = pd.read_csv('Dataset/order_payments_dataset.csv')\n",
        "payments_df.head()"
      ]
    },
    {
      "cell_type": "markdown",
      "metadata": {
        "id": "MMi6xGaDkbCi"
      },
      "source": [
        "**Insight:**\n",
        "- Datasetnya berhasil diload, dapat dilihat datanya terdiri dari orders, order items, customers, dan payments.\n",
        "- Datasetnya customers berisi informasi geografis seperti zip code, kota dan statenya, ini cocok untuk analisis geospatial seperti yang dibutuhkan pada pertanyaan bisnis sebelumnya. Dapat dilihat juga pada data payments memiliki informasi yang dibutuhkan untuk melihat nilai pembelian yang dilakukan seperti pertanyaan bisnis sebelumnya juga."
      ]
    },
    {
      "cell_type": "markdown",
      "metadata": {
        "id": "FHSiqaZp8DC1"
      },
      "source": [
        "### Assessing Data"
      ]
    },
    {
      "cell_type": "markdown",
      "metadata": {},
      "source": [
        "#### Data bagian orders"
      ]
    },
    {
      "cell_type": "code",
      "execution_count": 6,
      "metadata": {
        "id": "ax-3tEjc9Cj1"
      },
      "outputs": [
        {
          "name": "stdout",
          "output_type": "stream",
          "text": [
            "<class 'pandas.core.frame.DataFrame'>\n",
            "RangeIndex: 99441 entries, 0 to 99440\n",
            "Data columns (total 8 columns):\n",
            " #   Column                         Non-Null Count  Dtype \n",
            "---  ------                         --------------  ----- \n",
            " 0   order_id                       99441 non-null  object\n",
            " 1   customer_id                    99441 non-null  object\n",
            " 2   order_status                   99441 non-null  object\n",
            " 3   order_purchase_timestamp       99441 non-null  object\n",
            " 4   order_approved_at              99281 non-null  object\n",
            " 5   order_delivered_carrier_date   97658 non-null  object\n",
            " 6   order_delivered_customer_date  96476 non-null  object\n",
            " 7   order_estimated_delivery_date  99441 non-null  object\n",
            "dtypes: object(8)\n",
            "memory usage: 6.1+ MB\n"
          ]
        }
      ],
      "source": [
        "# Cek info data orders secara umum\n",
        "orders_df.info()"
      ]
    },
    {
      "cell_type": "code",
      "execution_count": 7,
      "metadata": {},
      "outputs": [
        {
          "data": {
            "text/plain": [
              "order_id                            0\n",
              "customer_id                         0\n",
              "order_status                        0\n",
              "order_purchase_timestamp            0\n",
              "order_approved_at                 160\n",
              "order_delivered_carrier_date     1783\n",
              "order_delivered_customer_date    2965\n",
              "order_estimated_delivery_date       0\n",
              "dtype: int64"
            ]
          },
          "execution_count": 7,
          "metadata": {},
          "output_type": "execute_result"
        }
      ],
      "source": [
        "# Cek jumlah missing value dari data orders\n",
        "orders_df.isna().sum()"
      ]
    },
    {
      "cell_type": "code",
      "execution_count": 8,
      "metadata": {},
      "outputs": [
        {
          "name": "stdout",
          "output_type": "stream",
          "text": [
            "Jumlah duplikasi:  0\n"
          ]
        }
      ],
      "source": [
        "# Cek jumlah duplikasi pada data orders\n",
        "print(\"Jumlah duplikasi: \", orders_df.duplicated().sum())"
      ]
    },
    {
      "cell_type": "code",
      "execution_count": 9,
      "metadata": {},
      "outputs": [
        {
          "data": {
            "application/vnd.microsoft.datawrangler.viewer.v0+json": {
              "columns": [
                {
                  "name": "index",
                  "rawType": "object",
                  "type": "string"
                },
                {
                  "name": "order_id",
                  "rawType": "object",
                  "type": "unknown"
                },
                {
                  "name": "customer_id",
                  "rawType": "object",
                  "type": "unknown"
                },
                {
                  "name": "order_status",
                  "rawType": "object",
                  "type": "unknown"
                },
                {
                  "name": "order_purchase_timestamp",
                  "rawType": "object",
                  "type": "unknown"
                },
                {
                  "name": "order_approved_at",
                  "rawType": "object",
                  "type": "unknown"
                },
                {
                  "name": "order_delivered_carrier_date",
                  "rawType": "object",
                  "type": "unknown"
                },
                {
                  "name": "order_delivered_customer_date",
                  "rawType": "object",
                  "type": "unknown"
                },
                {
                  "name": "order_estimated_delivery_date",
                  "rawType": "object",
                  "type": "unknown"
                }
              ],
              "conversionMethod": "pd.DataFrame",
              "ref": "6cacef9e-d8d0-427c-b0d8-7ca6ca0cebae",
              "rows": [
                [
                  "count",
                  "99441",
                  "99441",
                  "99441",
                  "99441",
                  "99281",
                  "97658",
                  "96476",
                  "99441"
                ],
                [
                  "unique",
                  "99441",
                  "99441",
                  "8",
                  "98875",
                  "90733",
                  "81018",
                  "95664",
                  "459"
                ],
                [
                  "top",
                  "66dea50a8b16d9b4dee7af250b4be1a5",
                  "edb027a75a1449115f6b43211ae02a24",
                  "delivered",
                  "2018-08-02 12:05:26",
                  "2018-02-27 04:31:10",
                  "2018-05-09 15:48:00",
                  "2018-05-08 19:36:48",
                  "2017-12-20 00:00:00"
                ],
                [
                  "freq",
                  "1",
                  "1",
                  "96478",
                  "3",
                  "9",
                  "47",
                  "3",
                  "522"
                ]
              ],
              "shape": {
                "columns": 8,
                "rows": 4
              }
            },
            "text/html": [
              "<div>\n",
              "<style scoped>\n",
              "    .dataframe tbody tr th:only-of-type {\n",
              "        vertical-align: middle;\n",
              "    }\n",
              "\n",
              "    .dataframe tbody tr th {\n",
              "        vertical-align: top;\n",
              "    }\n",
              "\n",
              "    .dataframe thead th {\n",
              "        text-align: right;\n",
              "    }\n",
              "</style>\n",
              "<table border=\"1\" class=\"dataframe\">\n",
              "  <thead>\n",
              "    <tr style=\"text-align: right;\">\n",
              "      <th></th>\n",
              "      <th>order_id</th>\n",
              "      <th>customer_id</th>\n",
              "      <th>order_status</th>\n",
              "      <th>order_purchase_timestamp</th>\n",
              "      <th>order_approved_at</th>\n",
              "      <th>order_delivered_carrier_date</th>\n",
              "      <th>order_delivered_customer_date</th>\n",
              "      <th>order_estimated_delivery_date</th>\n",
              "    </tr>\n",
              "  </thead>\n",
              "  <tbody>\n",
              "    <tr>\n",
              "      <th>count</th>\n",
              "      <td>99441</td>\n",
              "      <td>99441</td>\n",
              "      <td>99441</td>\n",
              "      <td>99441</td>\n",
              "      <td>99281</td>\n",
              "      <td>97658</td>\n",
              "      <td>96476</td>\n",
              "      <td>99441</td>\n",
              "    </tr>\n",
              "    <tr>\n",
              "      <th>unique</th>\n",
              "      <td>99441</td>\n",
              "      <td>99441</td>\n",
              "      <td>8</td>\n",
              "      <td>98875</td>\n",
              "      <td>90733</td>\n",
              "      <td>81018</td>\n",
              "      <td>95664</td>\n",
              "      <td>459</td>\n",
              "    </tr>\n",
              "    <tr>\n",
              "      <th>top</th>\n",
              "      <td>66dea50a8b16d9b4dee7af250b4be1a5</td>\n",
              "      <td>edb027a75a1449115f6b43211ae02a24</td>\n",
              "      <td>delivered</td>\n",
              "      <td>2018-08-02 12:05:26</td>\n",
              "      <td>2018-02-27 04:31:10</td>\n",
              "      <td>2018-05-09 15:48:00</td>\n",
              "      <td>2018-05-08 19:36:48</td>\n",
              "      <td>2017-12-20 00:00:00</td>\n",
              "    </tr>\n",
              "    <tr>\n",
              "      <th>freq</th>\n",
              "      <td>1</td>\n",
              "      <td>1</td>\n",
              "      <td>96478</td>\n",
              "      <td>3</td>\n",
              "      <td>9</td>\n",
              "      <td>47</td>\n",
              "      <td>3</td>\n",
              "      <td>522</td>\n",
              "    </tr>\n",
              "  </tbody>\n",
              "</table>\n",
              "</div>"
            ],
            "text/plain": [
              "                                order_id                       customer_id  \\\n",
              "count                              99441                             99441   \n",
              "unique                             99441                             99441   \n",
              "top     66dea50a8b16d9b4dee7af250b4be1a5  edb027a75a1449115f6b43211ae02a24   \n",
              "freq                                   1                                 1   \n",
              "\n",
              "       order_status order_purchase_timestamp    order_approved_at  \\\n",
              "count         99441                    99441                99281   \n",
              "unique            8                    98875                90733   \n",
              "top       delivered      2018-08-02 12:05:26  2018-02-27 04:31:10   \n",
              "freq          96478                        3                    9   \n",
              "\n",
              "       order_delivered_carrier_date order_delivered_customer_date  \\\n",
              "count                         97658                         96476   \n",
              "unique                        81018                         95664   \n",
              "top             2018-05-09 15:48:00           2018-05-08 19:36:48   \n",
              "freq                             47                             3   \n",
              "\n",
              "       order_estimated_delivery_date  \n",
              "count                          99441  \n",
              "unique                           459  \n",
              "top              2017-12-20 00:00:00  \n",
              "freq                             522  "
            ]
          },
          "execution_count": 9,
          "metadata": {},
          "output_type": "execute_result"
        }
      ],
      "source": [
        "orders_df.describe()"
      ]
    },
    {
      "cell_type": "markdown",
      "metadata": {},
      "source": [
        "#### Data bagian orders items"
      ]
    },
    {
      "cell_type": "code",
      "execution_count": 10,
      "metadata": {},
      "outputs": [
        {
          "name": "stdout",
          "output_type": "stream",
          "text": [
            "<class 'pandas.core.frame.DataFrame'>\n",
            "RangeIndex: 112650 entries, 0 to 112649\n",
            "Data columns (total 7 columns):\n",
            " #   Column               Non-Null Count   Dtype  \n",
            "---  ------               --------------   -----  \n",
            " 0   order_id             112650 non-null  object \n",
            " 1   order_item_id        112650 non-null  int64  \n",
            " 2   product_id           112650 non-null  object \n",
            " 3   seller_id            112650 non-null  object \n",
            " 4   shipping_limit_date  112650 non-null  object \n",
            " 5   price                112650 non-null  float64\n",
            " 6   freight_value        112650 non-null  float64\n",
            "dtypes: float64(2), int64(1), object(4)\n",
            "memory usage: 6.0+ MB\n"
          ]
        }
      ],
      "source": [
        "order_items_df.info()"
      ]
    },
    {
      "cell_type": "code",
      "execution_count": 11,
      "metadata": {},
      "outputs": [
        {
          "data": {
            "text/plain": [
              "order_id               0\n",
              "order_item_id          0\n",
              "product_id             0\n",
              "seller_id              0\n",
              "shipping_limit_date    0\n",
              "price                  0\n",
              "freight_value          0\n",
              "dtype: int64"
            ]
          },
          "execution_count": 11,
          "metadata": {},
          "output_type": "execute_result"
        }
      ],
      "source": [
        "order_items_df.isna().sum()"
      ]
    },
    {
      "cell_type": "code",
      "execution_count": 12,
      "metadata": {},
      "outputs": [
        {
          "name": "stdout",
          "output_type": "stream",
          "text": [
            "Jumlah duplikasi:  0\n"
          ]
        }
      ],
      "source": [
        "print(\"Jumlah duplikasi: \", order_items_df.duplicated().sum())"
      ]
    },
    {
      "cell_type": "code",
      "execution_count": 13,
      "metadata": {},
      "outputs": [
        {
          "data": {
            "application/vnd.microsoft.datawrangler.viewer.v0+json": {
              "columns": [
                {
                  "name": "index",
                  "rawType": "object",
                  "type": "string"
                },
                {
                  "name": "order_item_id",
                  "rawType": "float64",
                  "type": "float"
                },
                {
                  "name": "price",
                  "rawType": "float64",
                  "type": "float"
                },
                {
                  "name": "freight_value",
                  "rawType": "float64",
                  "type": "float"
                }
              ],
              "conversionMethod": "pd.DataFrame",
              "ref": "bf254042-0079-4faa-87c2-0a9b59e2d625",
              "rows": [
                [
                  "count",
                  "112650.0",
                  "112650.0",
                  "112650.0"
                ],
                [
                  "mean",
                  "1.1978339991122948",
                  "120.65373901464716",
                  "19.990319928983578"
                ],
                [
                  "std",
                  "0.7051240313951733",
                  "183.63392805025939",
                  "15.806405412297083"
                ],
                [
                  "min",
                  "1.0",
                  "0.85",
                  "0.0"
                ],
                [
                  "25%",
                  "1.0",
                  "39.9",
                  "13.08"
                ],
                [
                  "50%",
                  "1.0",
                  "74.99",
                  "16.26"
                ],
                [
                  "75%",
                  "1.0",
                  "134.9",
                  "21.15"
                ],
                [
                  "max",
                  "21.0",
                  "6735.0",
                  "409.68"
                ]
              ],
              "shape": {
                "columns": 3,
                "rows": 8
              }
            },
            "text/html": [
              "<div>\n",
              "<style scoped>\n",
              "    .dataframe tbody tr th:only-of-type {\n",
              "        vertical-align: middle;\n",
              "    }\n",
              "\n",
              "    .dataframe tbody tr th {\n",
              "        vertical-align: top;\n",
              "    }\n",
              "\n",
              "    .dataframe thead th {\n",
              "        text-align: right;\n",
              "    }\n",
              "</style>\n",
              "<table border=\"1\" class=\"dataframe\">\n",
              "  <thead>\n",
              "    <tr style=\"text-align: right;\">\n",
              "      <th></th>\n",
              "      <th>order_item_id</th>\n",
              "      <th>price</th>\n",
              "      <th>freight_value</th>\n",
              "    </tr>\n",
              "  </thead>\n",
              "  <tbody>\n",
              "    <tr>\n",
              "      <th>count</th>\n",
              "      <td>112650.000000</td>\n",
              "      <td>112650.000000</td>\n",
              "      <td>112650.000000</td>\n",
              "    </tr>\n",
              "    <tr>\n",
              "      <th>mean</th>\n",
              "      <td>1.197834</td>\n",
              "      <td>120.653739</td>\n",
              "      <td>19.990320</td>\n",
              "    </tr>\n",
              "    <tr>\n",
              "      <th>std</th>\n",
              "      <td>0.705124</td>\n",
              "      <td>183.633928</td>\n",
              "      <td>15.806405</td>\n",
              "    </tr>\n",
              "    <tr>\n",
              "      <th>min</th>\n",
              "      <td>1.000000</td>\n",
              "      <td>0.850000</td>\n",
              "      <td>0.000000</td>\n",
              "    </tr>\n",
              "    <tr>\n",
              "      <th>25%</th>\n",
              "      <td>1.000000</td>\n",
              "      <td>39.900000</td>\n",
              "      <td>13.080000</td>\n",
              "    </tr>\n",
              "    <tr>\n",
              "      <th>50%</th>\n",
              "      <td>1.000000</td>\n",
              "      <td>74.990000</td>\n",
              "      <td>16.260000</td>\n",
              "    </tr>\n",
              "    <tr>\n",
              "      <th>75%</th>\n",
              "      <td>1.000000</td>\n",
              "      <td>134.900000</td>\n",
              "      <td>21.150000</td>\n",
              "    </tr>\n",
              "    <tr>\n",
              "      <th>max</th>\n",
              "      <td>21.000000</td>\n",
              "      <td>6735.000000</td>\n",
              "      <td>409.680000</td>\n",
              "    </tr>\n",
              "  </tbody>\n",
              "</table>\n",
              "</div>"
            ],
            "text/plain": [
              "       order_item_id          price  freight_value\n",
              "count  112650.000000  112650.000000  112650.000000\n",
              "mean        1.197834     120.653739      19.990320\n",
              "std         0.705124     183.633928      15.806405\n",
              "min         1.000000       0.850000       0.000000\n",
              "25%         1.000000      39.900000      13.080000\n",
              "50%         1.000000      74.990000      16.260000\n",
              "75%         1.000000     134.900000      21.150000\n",
              "max        21.000000    6735.000000     409.680000"
            ]
          },
          "execution_count": 13,
          "metadata": {},
          "output_type": "execute_result"
        }
      ],
      "source": [
        "order_items_df.describe()"
      ]
    },
    {
      "cell_type": "markdown",
      "metadata": {},
      "source": [
        "#### Data bagian customers"
      ]
    },
    {
      "cell_type": "code",
      "execution_count": 14,
      "metadata": {},
      "outputs": [
        {
          "name": "stdout",
          "output_type": "stream",
          "text": [
            "<class 'pandas.core.frame.DataFrame'>\n",
            "RangeIndex: 99441 entries, 0 to 99440\n",
            "Data columns (total 5 columns):\n",
            " #   Column                    Non-Null Count  Dtype \n",
            "---  ------                    --------------  ----- \n",
            " 0   customer_id               99441 non-null  object\n",
            " 1   customer_unique_id        99441 non-null  object\n",
            " 2   customer_zip_code_prefix  99441 non-null  int64 \n",
            " 3   customer_city             99441 non-null  object\n",
            " 4   customer_state            99441 non-null  object\n",
            "dtypes: int64(1), object(4)\n",
            "memory usage: 3.8+ MB\n"
          ]
        }
      ],
      "source": [
        "customers_df.info()"
      ]
    },
    {
      "cell_type": "code",
      "execution_count": 15,
      "metadata": {},
      "outputs": [
        {
          "data": {
            "text/plain": [
              "customer_id                 0\n",
              "customer_unique_id          0\n",
              "customer_zip_code_prefix    0\n",
              "customer_city               0\n",
              "customer_state              0\n",
              "dtype: int64"
            ]
          },
          "execution_count": 15,
          "metadata": {},
          "output_type": "execute_result"
        }
      ],
      "source": [
        "customers_df.isna().sum()"
      ]
    },
    {
      "cell_type": "code",
      "execution_count": 16,
      "metadata": {},
      "outputs": [
        {
          "name": "stdout",
          "output_type": "stream",
          "text": [
            "Jumlah duplikasi:  0\n"
          ]
        }
      ],
      "source": [
        "print(\"Jumlah duplikasi: \", customers_df.duplicated().sum())"
      ]
    },
    {
      "cell_type": "code",
      "execution_count": 17,
      "metadata": {},
      "outputs": [
        {
          "data": {
            "application/vnd.microsoft.datawrangler.viewer.v0+json": {
              "columns": [
                {
                  "name": "index",
                  "rawType": "object",
                  "type": "string"
                },
                {
                  "name": "customer_zip_code_prefix",
                  "rawType": "float64",
                  "type": "float"
                }
              ],
              "conversionMethod": "pd.DataFrame",
              "ref": "1c0475bc-4459-47ea-8c94-6f5296d15ea3",
              "rows": [
                [
                  "count",
                  "99441.0"
                ],
                [
                  "mean",
                  "35137.47458291851"
                ],
                [
                  "std",
                  "29797.938996206118"
                ],
                [
                  "min",
                  "1003.0"
                ],
                [
                  "25%",
                  "11347.0"
                ],
                [
                  "50%",
                  "24416.0"
                ],
                [
                  "75%",
                  "58900.0"
                ],
                [
                  "max",
                  "99990.0"
                ]
              ],
              "shape": {
                "columns": 1,
                "rows": 8
              }
            },
            "text/html": [
              "<div>\n",
              "<style scoped>\n",
              "    .dataframe tbody tr th:only-of-type {\n",
              "        vertical-align: middle;\n",
              "    }\n",
              "\n",
              "    .dataframe tbody tr th {\n",
              "        vertical-align: top;\n",
              "    }\n",
              "\n",
              "    .dataframe thead th {\n",
              "        text-align: right;\n",
              "    }\n",
              "</style>\n",
              "<table border=\"1\" class=\"dataframe\">\n",
              "  <thead>\n",
              "    <tr style=\"text-align: right;\">\n",
              "      <th></th>\n",
              "      <th>customer_zip_code_prefix</th>\n",
              "    </tr>\n",
              "  </thead>\n",
              "  <tbody>\n",
              "    <tr>\n",
              "      <th>count</th>\n",
              "      <td>99441.000000</td>\n",
              "    </tr>\n",
              "    <tr>\n",
              "      <th>mean</th>\n",
              "      <td>35137.474583</td>\n",
              "    </tr>\n",
              "    <tr>\n",
              "      <th>std</th>\n",
              "      <td>29797.938996</td>\n",
              "    </tr>\n",
              "    <tr>\n",
              "      <th>min</th>\n",
              "      <td>1003.000000</td>\n",
              "    </tr>\n",
              "    <tr>\n",
              "      <th>25%</th>\n",
              "      <td>11347.000000</td>\n",
              "    </tr>\n",
              "    <tr>\n",
              "      <th>50%</th>\n",
              "      <td>24416.000000</td>\n",
              "    </tr>\n",
              "    <tr>\n",
              "      <th>75%</th>\n",
              "      <td>58900.000000</td>\n",
              "    </tr>\n",
              "    <tr>\n",
              "      <th>max</th>\n",
              "      <td>99990.000000</td>\n",
              "    </tr>\n",
              "  </tbody>\n",
              "</table>\n",
              "</div>"
            ],
            "text/plain": [
              "       customer_zip_code_prefix\n",
              "count              99441.000000\n",
              "mean               35137.474583\n",
              "std                29797.938996\n",
              "min                 1003.000000\n",
              "25%                11347.000000\n",
              "50%                24416.000000\n",
              "75%                58900.000000\n",
              "max                99990.000000"
            ]
          },
          "execution_count": 17,
          "metadata": {},
          "output_type": "execute_result"
        }
      ],
      "source": [
        "customers_df.describe()"
      ]
    },
    {
      "cell_type": "markdown",
      "metadata": {},
      "source": [
        "#### Data bagian payments"
      ]
    },
    {
      "cell_type": "code",
      "execution_count": 18,
      "metadata": {},
      "outputs": [
        {
          "name": "stdout",
          "output_type": "stream",
          "text": [
            "<class 'pandas.core.frame.DataFrame'>\n",
            "RangeIndex: 103886 entries, 0 to 103885\n",
            "Data columns (total 5 columns):\n",
            " #   Column                Non-Null Count   Dtype  \n",
            "---  ------                --------------   -----  \n",
            " 0   order_id              103886 non-null  object \n",
            " 1   payment_sequential    103886 non-null  int64  \n",
            " 2   payment_type          103886 non-null  object \n",
            " 3   payment_installments  103886 non-null  int64  \n",
            " 4   payment_value         103886 non-null  float64\n",
            "dtypes: float64(1), int64(2), object(2)\n",
            "memory usage: 4.0+ MB\n"
          ]
        }
      ],
      "source": [
        "payments_df.info()"
      ]
    },
    {
      "cell_type": "code",
      "execution_count": 19,
      "metadata": {},
      "outputs": [
        {
          "data": {
            "text/plain": [
              "order_id                0\n",
              "payment_sequential      0\n",
              "payment_type            0\n",
              "payment_installments    0\n",
              "payment_value           0\n",
              "dtype: int64"
            ]
          },
          "execution_count": 19,
          "metadata": {},
          "output_type": "execute_result"
        }
      ],
      "source": [
        "payments_df.isna().sum()"
      ]
    },
    {
      "cell_type": "code",
      "execution_count": 20,
      "metadata": {},
      "outputs": [
        {
          "name": "stdout",
          "output_type": "stream",
          "text": [
            "Jumlah duplikasi:  0\n"
          ]
        }
      ],
      "source": [
        "print(\"Jumlah duplikasi: \", payments_df.duplicated().sum())"
      ]
    },
    {
      "cell_type": "code",
      "execution_count": 21,
      "metadata": {},
      "outputs": [
        {
          "data": {
            "application/vnd.microsoft.datawrangler.viewer.v0+json": {
              "columns": [
                {
                  "name": "index",
                  "rawType": "object",
                  "type": "string"
                },
                {
                  "name": "payment_sequential",
                  "rawType": "float64",
                  "type": "float"
                },
                {
                  "name": "payment_installments",
                  "rawType": "float64",
                  "type": "float"
                },
                {
                  "name": "payment_value",
                  "rawType": "float64",
                  "type": "float"
                }
              ],
              "conversionMethod": "pd.DataFrame",
              "ref": "c41df5d0-02ea-4d2a-8334-9ad25c7ac5ae",
              "rows": [
                [
                  "count",
                  "103886.0",
                  "103886.0",
                  "103886.0"
                ],
                [
                  "mean",
                  "1.0926785129853878",
                  "2.853348863176944",
                  "154.10038041699553"
                ],
                [
                  "std",
                  "0.7065837791949956",
                  "2.6870506738564797",
                  "217.49406386472435"
                ],
                [
                  "min",
                  "1.0",
                  "0.0",
                  "0.0"
                ],
                [
                  "25%",
                  "1.0",
                  "1.0",
                  "56.79"
                ],
                [
                  "50%",
                  "1.0",
                  "1.0",
                  "100.0"
                ],
                [
                  "75%",
                  "1.0",
                  "4.0",
                  "171.8375"
                ],
                [
                  "max",
                  "29.0",
                  "24.0",
                  "13664.08"
                ]
              ],
              "shape": {
                "columns": 3,
                "rows": 8
              }
            },
            "text/html": [
              "<div>\n",
              "<style scoped>\n",
              "    .dataframe tbody tr th:only-of-type {\n",
              "        vertical-align: middle;\n",
              "    }\n",
              "\n",
              "    .dataframe tbody tr th {\n",
              "        vertical-align: top;\n",
              "    }\n",
              "\n",
              "    .dataframe thead th {\n",
              "        text-align: right;\n",
              "    }\n",
              "</style>\n",
              "<table border=\"1\" class=\"dataframe\">\n",
              "  <thead>\n",
              "    <tr style=\"text-align: right;\">\n",
              "      <th></th>\n",
              "      <th>payment_sequential</th>\n",
              "      <th>payment_installments</th>\n",
              "      <th>payment_value</th>\n",
              "    </tr>\n",
              "  </thead>\n",
              "  <tbody>\n",
              "    <tr>\n",
              "      <th>count</th>\n",
              "      <td>103886.000000</td>\n",
              "      <td>103886.000000</td>\n",
              "      <td>103886.000000</td>\n",
              "    </tr>\n",
              "    <tr>\n",
              "      <th>mean</th>\n",
              "      <td>1.092679</td>\n",
              "      <td>2.853349</td>\n",
              "      <td>154.100380</td>\n",
              "    </tr>\n",
              "    <tr>\n",
              "      <th>std</th>\n",
              "      <td>0.706584</td>\n",
              "      <td>2.687051</td>\n",
              "      <td>217.494064</td>\n",
              "    </tr>\n",
              "    <tr>\n",
              "      <th>min</th>\n",
              "      <td>1.000000</td>\n",
              "      <td>0.000000</td>\n",
              "      <td>0.000000</td>\n",
              "    </tr>\n",
              "    <tr>\n",
              "      <th>25%</th>\n",
              "      <td>1.000000</td>\n",
              "      <td>1.000000</td>\n",
              "      <td>56.790000</td>\n",
              "    </tr>\n",
              "    <tr>\n",
              "      <th>50%</th>\n",
              "      <td>1.000000</td>\n",
              "      <td>1.000000</td>\n",
              "      <td>100.000000</td>\n",
              "    </tr>\n",
              "    <tr>\n",
              "      <th>75%</th>\n",
              "      <td>1.000000</td>\n",
              "      <td>4.000000</td>\n",
              "      <td>171.837500</td>\n",
              "    </tr>\n",
              "    <tr>\n",
              "      <th>max</th>\n",
              "      <td>29.000000</td>\n",
              "      <td>24.000000</td>\n",
              "      <td>13664.080000</td>\n",
              "    </tr>\n",
              "  </tbody>\n",
              "</table>\n",
              "</div>"
            ],
            "text/plain": [
              "       payment_sequential  payment_installments  payment_value\n",
              "count       103886.000000         103886.000000  103886.000000\n",
              "mean             1.092679              2.853349     154.100380\n",
              "std              0.706584              2.687051     217.494064\n",
              "min              1.000000              0.000000       0.000000\n",
              "25%              1.000000              1.000000      56.790000\n",
              "50%              1.000000              1.000000     100.000000\n",
              "75%              1.000000              4.000000     171.837500\n",
              "max             29.000000             24.000000   13664.080000"
            ]
          },
          "execution_count": 21,
          "metadata": {},
          "output_type": "execute_result"
        }
      ],
      "source": [
        "payments_df.describe()"
      ]
    },
    {
      "cell_type": "markdown",
      "metadata": {
        "id": "7dtxhAPrkhPL"
      },
      "source": [
        "**Insight:**\n",
        "- Pada bagian data orders, seharusnya order_purchase_timestamp, order_approved_at, order_delivered_carrier_date, order_delivered_customer_date, dan order_estimated_delivery_date seharusnya bertipe datetime karena menyimpan waktu. Terdapat juga missing value pada order_approved_at(160), order_delivered_carrier_date(1783) dan order_delivered_customer_date(2965). \n",
        "- Pada bagian data order_items, seharusnya shipping_limit_date itu juga bertipe datetime bukan object karena menyimpan waktu."
      ]
    },
    {
      "cell_type": "markdown",
      "metadata": {
        "id": "EhN5R4hr8DC1"
      },
      "source": [
        "### Cleaning Data"
      ]
    },
    {
      "cell_type": "markdown",
      "metadata": {},
      "source": [
        "#### Tangani tipe data yang salah"
      ]
    },
    {
      "cell_type": "code",
      "execution_count": 22,
      "metadata": {
        "id": "jVnYpprE9Evz"
      },
      "outputs": [],
      "source": [
        "datetime_columns = ['order_purchase_timestamp', 'order_approved_at', 'order_delivered_carrier_date', 'order_delivered_customer_date', 'order_estimated_delivery_date']\n",
        "\n",
        "order_items_df['shipping_limit_date'] = pd.to_datetime(order_items_df['shipping_limit_date'])\n",
        "\n",
        "for column in datetime_columns:\n",
        "    orders_df[column] = pd.to_datetime(orders_df[column])"
      ]
    },
    {
      "cell_type": "markdown",
      "metadata": {},
      "source": [
        "#### Tangani missing value"
      ]
    },
    {
      "cell_type": "code",
      "execution_count": 23,
      "metadata": {},
      "outputs": [
        {
          "data": {
            "application/vnd.microsoft.datawrangler.viewer.v0+json": {
              "columns": [
                {
                  "name": "index",
                  "rawType": "int64",
                  "type": "integer"
                },
                {
                  "name": "order_id",
                  "rawType": "object",
                  "type": "string"
                },
                {
                  "name": "customer_id",
                  "rawType": "object",
                  "type": "string"
                },
                {
                  "name": "order_status",
                  "rawType": "object",
                  "type": "string"
                },
                {
                  "name": "order_purchase_timestamp",
                  "rawType": "datetime64[ns]",
                  "type": "datetime"
                },
                {
                  "name": "order_approved_at",
                  "rawType": "datetime64[ns]",
                  "type": "datetime"
                },
                {
                  "name": "order_delivered_carrier_date",
                  "rawType": "datetime64[ns]",
                  "type": "datetime"
                },
                {
                  "name": "order_delivered_customer_date",
                  "rawType": "datetime64[ns]",
                  "type": "datetime"
                },
                {
                  "name": "order_estimated_delivery_date",
                  "rawType": "datetime64[ns]",
                  "type": "datetime"
                }
              ],
              "conversionMethod": "pd.DataFrame",
              "ref": "af680e5d-4322-4839-9134-0048149caad4",
              "rows": [
                [
                  "1130",
                  "00b1cb0320190ca0daa2c88b35206009",
                  "3532ba38a3fd242259a514ac2b6ae6b6",
                  "canceled",
                  "2018-08-28 15:26:39",
                  null,
                  null,
                  null,
                  "2018-09-12 00:00:00"
                ],
                [
                  "1801",
                  "ed3efbd3a87bea76c2812c66a0b32219",
                  "191984a8ba4cbb2145acb4fe35b69664",
                  "canceled",
                  "2018-09-20 13:54:16",
                  null,
                  null,
                  null,
                  "2018-10-17 00:00:00"
                ],
                [
                  "1868",
                  "df8282afe61008dc26c6c31011474d02",
                  "aa797b187b5466bc6925aaaa4bb3bed1",
                  "canceled",
                  "2017-03-04 12:14:30",
                  null,
                  null,
                  null,
                  "2017-04-10 00:00:00"
                ],
                [
                  "2029",
                  "8d4c637f1accf7a88a4555f02741e606",
                  "b1dd715db389a2077f43174e7a675d07",
                  "canceled",
                  "2018-08-29 16:27:49",
                  null,
                  null,
                  null,
                  "2018-09-13 00:00:00"
                ],
                [
                  "2161",
                  "7a9d4c7f9b068337875b95465330f2fc",
                  "7f71ae48074c0cfec9195f88fcbfac55",
                  "canceled",
                  "2017-05-01 16:12:39",
                  null,
                  null,
                  null,
                  "2017-05-30 00:00:00"
                ],
                [
                  "3056",
                  "ddaec6fff982b13e7e048b627a11d6da",
                  "68f4ad79cc0c2ad06e19088f5c00e9fa",
                  "canceled",
                  "2016-10-04 19:41:32",
                  null,
                  null,
                  null,
                  "2016-11-16 00:00:00"
                ],
                [
                  "3094",
                  "5290c34bd38a8a095b885f13958db1e1",
                  "92af427e290117f39d9ff908566072e0",
                  "canceled",
                  "2018-08-21 10:25:18",
                  null,
                  null,
                  null,
                  "2018-09-06 00:00:00"
                ],
                [
                  "3684",
                  "03310aa823a66056268a3bab36e827fb",
                  "25dbbf0c477fd4ae0880aaffbb12e8b3",
                  "canceled",
                  "2018-08-07 16:33:59",
                  null,
                  null,
                  null,
                  "2018-09-04 00:00:00"
                ],
                [
                  "4373",
                  "4c8b9947280829d0a8b7e81cc249b875",
                  "403c35c4d8813bf67b3d396b91ca1619",
                  "canceled",
                  "2018-08-09 14:54:47",
                  null,
                  null,
                  null,
                  "2018-08-21 00:00:00"
                ],
                [
                  "4939",
                  "b13ea375fe9c728832688264638f84cf",
                  "0dc5884bc5ffba283678229f27e07ff9",
                  "canceled",
                  "2018-08-22 18:52:29",
                  null,
                  null,
                  null,
                  "2018-09-19 00:00:00"
                ],
                [
                  "5149",
                  "ea844c92cf978ea23321fa7fe5871761",
                  "6ddc45ad08e6a2c885ca2255fc52d6df",
                  "canceled",
                  "2018-09-13 09:56:12",
                  null,
                  null,
                  null,
                  "2018-09-27 00:00:00"
                ],
                [
                  "5323",
                  "e04abd8149ef81b95221e88f6ed9ab6a",
                  "2127dc6603ac33544953ef05ec155771",
                  "delivered",
                  "2017-02-18 14:40:00",
                  null,
                  "2017-02-23 12:04:47",
                  "2017-03-01 13:25:33",
                  "2017-03-17 00:00:00"
                ],
                [
                  "5432",
                  "85e05c3c9aa9834518f35d4f286014be",
                  "1d07a80a15700b40cb15ff5870ee8b48",
                  "canceled",
                  "2018-08-28 08:18:22",
                  null,
                  null,
                  null,
                  "2018-10-10 00:00:00"
                ],
                [
                  "5518",
                  "38a86eb53c2309d6234fc9bad96331ac",
                  "82d98198f7fb1687858e03a5322e1621",
                  "canceled",
                  "2018-08-18 12:39:31",
                  null,
                  null,
                  null,
                  "2018-08-29 00:00:00"
                ],
                [
                  "5642",
                  "c5a468ae781ffb0ec6d36ae89fe512b0",
                  "ed7ef682569428c1afaf73b39a2f602b",
                  "canceled",
                  "2017-01-13 11:06:56",
                  null,
                  null,
                  null,
                  "2017-02-13 00:00:00"
                ],
                [
                  "6356",
                  "2bb02fdf5637a68cd5d13c78c37c3376",
                  "8c468917b274857623298a1627369866",
                  "canceled",
                  "2018-08-09 10:55:10",
                  null,
                  null,
                  null,
                  "2018-08-17 00:00:00"
                ],
                [
                  "7434",
                  "b5359909123fa03c50bdb0cfed07f098",
                  "438449d4af8980d107bf04571413a8e7",
                  "created",
                  "2017-12-05 01:07:52",
                  null,
                  null,
                  null,
                  "2018-01-11 00:00:00"
                ],
                [
                  "7457",
                  "9380c59012c11f49c549ef8dffef1367",
                  "07838708499d3eb9da748cb10b8ddf0a",
                  "canceled",
                  "2018-08-15 11:05:44",
                  null,
                  null,
                  null,
                  "2018-09-21 00:00:00"
                ],
                [
                  "8289",
                  "672ab3776d5b25e586521469609ae774",
                  "8c8b3a28c07f67148f86f297604b9875",
                  "canceled",
                  "2017-05-10 11:52:51",
                  null,
                  null,
                  null,
                  "2017-05-26 00:00:00"
                ],
                [
                  "9238",
                  "dba5062fbda3af4fb6c33b1e040ca38f",
                  "964a6df3d9bdf60fe3e7b8bb69ed893a",
                  "created",
                  "2018-02-09 17:21:04",
                  null,
                  null,
                  null,
                  "2018-03-07 00:00:00"
                ],
                [
                  "9976",
                  "87ae60ef8b08ae0e5f903cacb53a6904",
                  "fea4d57ed3a45455f89c25ef3dae8ee8",
                  "canceled",
                  "2018-09-11 16:45:54",
                  null,
                  null,
                  null,
                  "2018-09-26 00:00:00"
                ],
                [
                  "10183",
                  "651a89e11653d8df43a624a903fe0f5e",
                  "e536e3de6a1ac1c527acb004f4120d81",
                  "canceled",
                  "2017-06-06 20:31:46",
                  null,
                  null,
                  null,
                  "2017-06-29 00:00:00"
                ],
                [
                  "10456",
                  "947e9c6bfd83a06953c420ef92d3da6e",
                  "2737211835d5ea370af15ee145f7840c",
                  "canceled",
                  "2018-08-15 15:13:32",
                  null,
                  null,
                  null,
                  "2018-08-28 00:00:00"
                ],
                [
                  "11079",
                  "0e6dbbc7484dc1ee0392c9ca801035c2",
                  "90f65e1539426f18ab1941841d728c72",
                  "canceled",
                  "2018-03-01 22:40:51",
                  null,
                  null,
                  null,
                  "2018-03-23 00:00:00"
                ],
                [
                  "13103",
                  "186d3cd768be1890d832106f914ba37c",
                  "07b0857255ede98368d11c60ae263bfa",
                  "canceled",
                  "2017-06-09 10:16:21",
                  null,
                  null,
                  null,
                  "2017-07-05 00:00:00"
                ],
                [
                  "14460",
                  "2e9d8db9e132a9b5e1236618b7e8ef4a",
                  "51c6f517f4492a9c2ab4153e998b018e",
                  "canceled",
                  "2018-08-09 18:42:38",
                  null,
                  null,
                  null,
                  "2018-09-04 00:00:00"
                ],
                [
                  "14586",
                  "5d9e1e0e7084f2f9e90a7069e64cba61",
                  "5a0e3721a8ca7e273f07af1ead76605e",
                  "canceled",
                  "2017-11-05 13:58:19",
                  null,
                  null,
                  null,
                  "2017-11-17 00:00:00"
                ],
                [
                  "15882",
                  "252788350f9dad30b31847845fe119fe",
                  "43c2e0c2bffdba58e569a9cf02d9b508",
                  "canceled",
                  "2017-04-23 14:58:37",
                  null,
                  null,
                  null,
                  "2017-05-23 00:00:00"
                ],
                [
                  "16366",
                  "bd35b677fd239386e9861d11ae98ab56",
                  "ad2eb5d02c0808bcd8743117f6383cf6",
                  "canceled",
                  "2018-09-17 17:21:16",
                  null,
                  null,
                  null,
                  "2018-10-01 00:00:00"
                ],
                [
                  "16449",
                  "b642a3e08bfd10119c9b7e948c936e93",
                  "f623e071624706724ec88fbb991b6833",
                  "canceled",
                  "2017-02-03 01:03:44",
                  null,
                  null,
                  null,
                  "2017-03-06 00:00:00"
                ],
                [
                  "16536",
                  "00d0ffd14774da775ac832ba8520510f",
                  "a2f3de2a0a84803cef018776a2e76c9b",
                  "canceled",
                  "2017-12-23 22:25:00",
                  null,
                  null,
                  null,
                  "2018-01-19 00:00:00"
                ],
                [
                  "16567",
                  "8a9adc69528e1001fc68dd0aaebbb54a",
                  "4c1ccc74e00993733742a3c786dc3c1f",
                  "delivered",
                  "2017-02-18 12:45:31",
                  null,
                  "2017-02-23 09:01:52",
                  "2017-03-02 10:05:06",
                  "2017-03-21 00:00:00"
                ],
                [
                  "17046",
                  "63802c52ced9ff923c962ecbf4b3a2a2",
                  "8424f98d9254ad85c24141f3cd2fe8c5",
                  "canceled",
                  "2017-12-03 11:32:32",
                  null,
                  null,
                  null,
                  "2017-12-26 00:00:00"
                ],
                [
                  "17983",
                  "0a472c47d928bf4cd8b6a7a30345eeb7",
                  "8762d94c493b70216cd453ea2320234e",
                  "canceled",
                  "2018-08-30 10:14:00",
                  null,
                  null,
                  null,
                  "2018-10-02 00:00:00"
                ],
                [
                  "18638",
                  "ccd4eb95e68cb64e666ddcb84f8dfb1e",
                  "daac514ffdd2cc0cda0e9686c63a9cad",
                  "canceled",
                  "2018-03-05 22:57:35",
                  null,
                  null,
                  null,
                  "2018-03-21 00:00:00"
                ],
                [
                  "19031",
                  "7013bcfc1c97fe719a7b5e05e61c12db",
                  "2941af76d38100e0f8740a374f1a5dc3",
                  "delivered",
                  "2017-02-18 13:29:47",
                  null,
                  "2017-02-22 16:25:25",
                  "2017-03-01 08:07:38",
                  "2017-03-17 00:00:00"
                ],
                [
                  "20778",
                  "4d59cc2a2e7bb6c0a851725f5888a9b5",
                  "ead83a4f8f7be8c3034b2e98754a6147",
                  "canceled",
                  "2018-09-06 14:50:07",
                  null,
                  null,
                  null,
                  "2018-09-21 00:00:00"
                ],
                [
                  "21441",
                  "7a4df5d8cff4090e541401a20a22bb80",
                  "725e9c75605414b21fd8c8d5a1c2f1d6",
                  "created",
                  "2017-11-25 11:10:33",
                  null,
                  null,
                  null,
                  "2017-12-12 00:00:00"
                ],
                [
                  "22231",
                  "81b7c7bbc8ec003eeb67d87441a6a148",
                  "75c6e03e7206bd1dd59f427c9f75142a",
                  "canceled",
                  "2018-08-20 09:03:23",
                  null,
                  null,
                  null,
                  "2018-09-03 00:00:00"
                ],
                [
                  "22663",
                  "5cf925b116421afa85ee25e99b4c34fb",
                  "29c35fc91fc13fb5073c8f30505d860d",
                  "delivered",
                  "2017-02-18 16:48:35",
                  null,
                  "2017-02-22 11:23:10",
                  "2017-03-09 07:28:47",
                  "2017-03-31 00:00:00"
                ],
                [
                  "23156",
                  "12a95a3c06dbaec84bcfb0e2da5d228a",
                  "1e101e0daffaddce8159d25a8e53f2b2",
                  "delivered",
                  "2017-02-17 13:05:55",
                  null,
                  "2017-02-22 11:23:11",
                  "2017-03-02 11:09:19",
                  "2017-03-20 00:00:00"
                ],
                [
                  "23526",
                  "15ec3d48383c58c0dc96cd66f8884630",
                  "fc768a2275c44d9383cc6926adac469d",
                  "canceled",
                  "2018-08-23 15:17:19",
                  null,
                  null,
                  null,
                  "2018-09-20 00:00:00"
                ],
                [
                  "24115",
                  "33fe1cb532ac16a48902980e00c26da6",
                  "e0669fc658288e9aea6d958ea90fb9b7",
                  "canceled",
                  "2017-07-25 19:26:15",
                  null,
                  null,
                  null,
                  "2017-08-28 00:00:00"
                ],
                [
                  "24410",
                  "0d3adebce4bebc1f80a7f36e9833f497",
                  "a7c87c25dbdded68c26c640582cb5ddb",
                  "canceled",
                  "2018-09-03 18:40:50",
                  null,
                  null,
                  null,
                  "2018-10-02 00:00:00"
                ],
                [
                  "25651",
                  "1857e77a4bad8abb2db929f107430663",
                  "616833eaef04d25b67207119cd6936dc",
                  "canceled",
                  "2017-08-31 23:55:57",
                  null,
                  null,
                  null,
                  "2017-09-28 00:00:00"
                ],
                [
                  "25953",
                  "bb8edfe0742a6a0279b7dff848289568",
                  "c2a1740e781cc978dbab71735cf3ce84",
                  "canceled",
                  "2018-08-30 10:24:34",
                  null,
                  null,
                  null,
                  "2018-09-18 00:00:00"
                ],
                [
                  "26618",
                  "02e723e8edb4a123d414f56cc9c4665e",
                  "6e9f7d9e943f9c0bdea278d9d7a1c9b9",
                  "canceled",
                  "2017-08-18 14:30:19",
                  null,
                  null,
                  null,
                  "2017-09-21 00:00:00"
                ],
                [
                  "26800",
                  "c1d4211b3dae76144deccd6c74144a88",
                  "684cb238dc5b5d6366244e0e0776b450",
                  "delivered",
                  "2017-01-19 12:48:08",
                  null,
                  "2017-01-25 14:56:50",
                  "2017-01-30 18:16:01",
                  "2017-03-01 00:00:00"
                ],
                [
                  "28768",
                  "670e3b20191d3198a76069c8f9b12355",
                  "f76bd438480c183ffb510bad040f3bd9",
                  "canceled",
                  "2017-02-03 00:55:24",
                  null,
                  null,
                  null,
                  "2017-03-09 00:00:00"
                ],
                [
                  "28837",
                  "ba2821b49c92e278db491d3e19fa0556",
                  "159ca8ee3ba03b17c749a3bc8e099e87",
                  "canceled",
                  "2017-05-02 17:51:28",
                  null,
                  null,
                  null,
                  "2017-05-26 00:00:00"
                ]
              ],
              "shape": {
                "columns": 8,
                "rows": 160
              }
            },
            "text/html": [
              "<div>\n",
              "<style scoped>\n",
              "    .dataframe tbody tr th:only-of-type {\n",
              "        vertical-align: middle;\n",
              "    }\n",
              "\n",
              "    .dataframe tbody tr th {\n",
              "        vertical-align: top;\n",
              "    }\n",
              "\n",
              "    .dataframe thead th {\n",
              "        text-align: right;\n",
              "    }\n",
              "</style>\n",
              "<table border=\"1\" class=\"dataframe\">\n",
              "  <thead>\n",
              "    <tr style=\"text-align: right;\">\n",
              "      <th></th>\n",
              "      <th>order_id</th>\n",
              "      <th>customer_id</th>\n",
              "      <th>order_status</th>\n",
              "      <th>order_purchase_timestamp</th>\n",
              "      <th>order_approved_at</th>\n",
              "      <th>order_delivered_carrier_date</th>\n",
              "      <th>order_delivered_customer_date</th>\n",
              "      <th>order_estimated_delivery_date</th>\n",
              "    </tr>\n",
              "  </thead>\n",
              "  <tbody>\n",
              "    <tr>\n",
              "      <th>1130</th>\n",
              "      <td>00b1cb0320190ca0daa2c88b35206009</td>\n",
              "      <td>3532ba38a3fd242259a514ac2b6ae6b6</td>\n",
              "      <td>canceled</td>\n",
              "      <td>2018-08-28 15:26:39</td>\n",
              "      <td>NaT</td>\n",
              "      <td>NaT</td>\n",
              "      <td>NaT</td>\n",
              "      <td>2018-09-12</td>\n",
              "    </tr>\n",
              "    <tr>\n",
              "      <th>1801</th>\n",
              "      <td>ed3efbd3a87bea76c2812c66a0b32219</td>\n",
              "      <td>191984a8ba4cbb2145acb4fe35b69664</td>\n",
              "      <td>canceled</td>\n",
              "      <td>2018-09-20 13:54:16</td>\n",
              "      <td>NaT</td>\n",
              "      <td>NaT</td>\n",
              "      <td>NaT</td>\n",
              "      <td>2018-10-17</td>\n",
              "    </tr>\n",
              "    <tr>\n",
              "      <th>1868</th>\n",
              "      <td>df8282afe61008dc26c6c31011474d02</td>\n",
              "      <td>aa797b187b5466bc6925aaaa4bb3bed1</td>\n",
              "      <td>canceled</td>\n",
              "      <td>2017-03-04 12:14:30</td>\n",
              "      <td>NaT</td>\n",
              "      <td>NaT</td>\n",
              "      <td>NaT</td>\n",
              "      <td>2017-04-10</td>\n",
              "    </tr>\n",
              "    <tr>\n",
              "      <th>2029</th>\n",
              "      <td>8d4c637f1accf7a88a4555f02741e606</td>\n",
              "      <td>b1dd715db389a2077f43174e7a675d07</td>\n",
              "      <td>canceled</td>\n",
              "      <td>2018-08-29 16:27:49</td>\n",
              "      <td>NaT</td>\n",
              "      <td>NaT</td>\n",
              "      <td>NaT</td>\n",
              "      <td>2018-09-13</td>\n",
              "    </tr>\n",
              "    <tr>\n",
              "      <th>2161</th>\n",
              "      <td>7a9d4c7f9b068337875b95465330f2fc</td>\n",
              "      <td>7f71ae48074c0cfec9195f88fcbfac55</td>\n",
              "      <td>canceled</td>\n",
              "      <td>2017-05-01 16:12:39</td>\n",
              "      <td>NaT</td>\n",
              "      <td>NaT</td>\n",
              "      <td>NaT</td>\n",
              "      <td>2017-05-30</td>\n",
              "    </tr>\n",
              "    <tr>\n",
              "      <th>...</th>\n",
              "      <td>...</td>\n",
              "      <td>...</td>\n",
              "      <td>...</td>\n",
              "      <td>...</td>\n",
              "      <td>...</td>\n",
              "      <td>...</td>\n",
              "      <td>...</td>\n",
              "      <td>...</td>\n",
              "    </tr>\n",
              "    <tr>\n",
              "      <th>97696</th>\n",
              "      <td>5a00b4d35edffc56b825c3646a99ba9d</td>\n",
              "      <td>6a3bdf004ca96338fb5fad1b8d93c2e6</td>\n",
              "      <td>canceled</td>\n",
              "      <td>2017-07-02 15:38:46</td>\n",
              "      <td>NaT</td>\n",
              "      <td>NaT</td>\n",
              "      <td>NaT</td>\n",
              "      <td>2017-07-25</td>\n",
              "    </tr>\n",
              "    <tr>\n",
              "      <th>98415</th>\n",
              "      <td>227c804e2a44760671a6a5697ea549e4</td>\n",
              "      <td>62e7477e75e542243ee62a0ba73f410f</td>\n",
              "      <td>canceled</td>\n",
              "      <td>2017-09-28 15:02:56</td>\n",
              "      <td>NaT</td>\n",
              "      <td>NaT</td>\n",
              "      <td>NaT</td>\n",
              "      <td>2017-10-16</td>\n",
              "    </tr>\n",
              "    <tr>\n",
              "      <th>98909</th>\n",
              "      <td>e49e7ce1471b4693482d40c2bd3ad196</td>\n",
              "      <td>e4e7ab3f449aeb401f0216f86c2104db</td>\n",
              "      <td>canceled</td>\n",
              "      <td>2018-08-07 11:16:28</td>\n",
              "      <td>NaT</td>\n",
              "      <td>NaT</td>\n",
              "      <td>NaT</td>\n",
              "      <td>2018-08-10</td>\n",
              "    </tr>\n",
              "    <tr>\n",
              "      <th>99283</th>\n",
              "      <td>3a3cddda5a7c27851bd96c3313412840</td>\n",
              "      <td>0b0d6095c5555fe083844281f6b093bb</td>\n",
              "      <td>canceled</td>\n",
              "      <td>2018-08-31 16:13:44</td>\n",
              "      <td>NaT</td>\n",
              "      <td>NaT</td>\n",
              "      <td>NaT</td>\n",
              "      <td>2018-10-01</td>\n",
              "    </tr>\n",
              "    <tr>\n",
              "      <th>99347</th>\n",
              "      <td>a89abace0dcc01eeb267a9660b5ac126</td>\n",
              "      <td>2f0524a7b1b3845a1a57fcf3910c4333</td>\n",
              "      <td>canceled</td>\n",
              "      <td>2018-09-06 18:45:47</td>\n",
              "      <td>NaT</td>\n",
              "      <td>NaT</td>\n",
              "      <td>NaT</td>\n",
              "      <td>2018-09-27</td>\n",
              "    </tr>\n",
              "  </tbody>\n",
              "</table>\n",
              "<p>160 rows × 8 columns</p>\n",
              "</div>"
            ],
            "text/plain": [
              "                               order_id                       customer_id  \\\n",
              "1130   00b1cb0320190ca0daa2c88b35206009  3532ba38a3fd242259a514ac2b6ae6b6   \n",
              "1801   ed3efbd3a87bea76c2812c66a0b32219  191984a8ba4cbb2145acb4fe35b69664   \n",
              "1868   df8282afe61008dc26c6c31011474d02  aa797b187b5466bc6925aaaa4bb3bed1   \n",
              "2029   8d4c637f1accf7a88a4555f02741e606  b1dd715db389a2077f43174e7a675d07   \n",
              "2161   7a9d4c7f9b068337875b95465330f2fc  7f71ae48074c0cfec9195f88fcbfac55   \n",
              "...                                 ...                               ...   \n",
              "97696  5a00b4d35edffc56b825c3646a99ba9d  6a3bdf004ca96338fb5fad1b8d93c2e6   \n",
              "98415  227c804e2a44760671a6a5697ea549e4  62e7477e75e542243ee62a0ba73f410f   \n",
              "98909  e49e7ce1471b4693482d40c2bd3ad196  e4e7ab3f449aeb401f0216f86c2104db   \n",
              "99283  3a3cddda5a7c27851bd96c3313412840  0b0d6095c5555fe083844281f6b093bb   \n",
              "99347  a89abace0dcc01eeb267a9660b5ac126  2f0524a7b1b3845a1a57fcf3910c4333   \n",
              "\n",
              "      order_status order_purchase_timestamp order_approved_at  \\\n",
              "1130      canceled      2018-08-28 15:26:39               NaT   \n",
              "1801      canceled      2018-09-20 13:54:16               NaT   \n",
              "1868      canceled      2017-03-04 12:14:30               NaT   \n",
              "2029      canceled      2018-08-29 16:27:49               NaT   \n",
              "2161      canceled      2017-05-01 16:12:39               NaT   \n",
              "...            ...                      ...               ...   \n",
              "97696     canceled      2017-07-02 15:38:46               NaT   \n",
              "98415     canceled      2017-09-28 15:02:56               NaT   \n",
              "98909     canceled      2018-08-07 11:16:28               NaT   \n",
              "99283     canceled      2018-08-31 16:13:44               NaT   \n",
              "99347     canceled      2018-09-06 18:45:47               NaT   \n",
              "\n",
              "      order_delivered_carrier_date order_delivered_customer_date  \\\n",
              "1130                           NaT                           NaT   \n",
              "1801                           NaT                           NaT   \n",
              "1868                           NaT                           NaT   \n",
              "2029                           NaT                           NaT   \n",
              "2161                           NaT                           NaT   \n",
              "...                            ...                           ...   \n",
              "97696                          NaT                           NaT   \n",
              "98415                          NaT                           NaT   \n",
              "98909                          NaT                           NaT   \n",
              "99283                          NaT                           NaT   \n",
              "99347                          NaT                           NaT   \n",
              "\n",
              "      order_estimated_delivery_date  \n",
              "1130                     2018-09-12  \n",
              "1801                     2018-10-17  \n",
              "1868                     2017-04-10  \n",
              "2029                     2018-09-13  \n",
              "2161                     2017-05-30  \n",
              "...                             ...  \n",
              "97696                    2017-07-25  \n",
              "98415                    2017-10-16  \n",
              "98909                    2018-08-10  \n",
              "99283                    2018-10-01  \n",
              "99347                    2018-09-27  \n",
              "\n",
              "[160 rows x 8 columns]"
            ]
          },
          "execution_count": 23,
          "metadata": {},
          "output_type": "execute_result"
        }
      ],
      "source": [
        "# Cek bagiannya satu satu\n",
        "orders_df[orders_df.order_approved_at.isna()]"
      ]
    },
    {
      "cell_type": "code",
      "execution_count": 24,
      "metadata": {},
      "outputs": [
        {
          "data": {
            "text/plain": [
              "order_approved_at\n",
              "2018-02-27 04:31:10    9\n",
              "2017-11-07 07:30:38    7\n",
              "2018-02-06 05:31:52    7\n",
              "2017-12-05 10:30:42    7\n",
              "2017-11-07 07:30:29    7\n",
              "                      ..\n",
              "2018-02-04 14:50:22    1\n",
              "2018-06-05 04:51:42    1\n",
              "2017-11-26 10:36:06    1\n",
              "2018-06-27 11:06:41    1\n",
              "2017-07-09 22:10:13    1\n",
              "Name: count, Length: 90733, dtype: int64"
            ]
          },
          "execution_count": 24,
          "metadata": {},
          "output_type": "execute_result"
        }
      ],
      "source": [
        "orders_df.order_approved_at.value_counts()"
      ]
    },
    {
      "cell_type": "code",
      "execution_count": 25,
      "metadata": {},
      "outputs": [
        {
          "data": {
            "application/vnd.microsoft.datawrangler.viewer.v0+json": {
              "columns": [
                {
                  "name": "index",
                  "rawType": "int64",
                  "type": "integer"
                },
                {
                  "name": "order_id",
                  "rawType": "object",
                  "type": "string"
                },
                {
                  "name": "customer_id",
                  "rawType": "object",
                  "type": "string"
                },
                {
                  "name": "order_status",
                  "rawType": "object",
                  "type": "string"
                },
                {
                  "name": "order_purchase_timestamp",
                  "rawType": "datetime64[ns]",
                  "type": "datetime"
                },
                {
                  "name": "order_approved_at",
                  "rawType": "datetime64[ns]",
                  "type": "datetime"
                },
                {
                  "name": "order_delivered_carrier_date",
                  "rawType": "datetime64[ns]",
                  "type": "datetime"
                },
                {
                  "name": "order_delivered_customer_date",
                  "rawType": "datetime64[ns]",
                  "type": "datetime"
                },
                {
                  "name": "order_estimated_delivery_date",
                  "rawType": "datetime64[ns]",
                  "type": "datetime"
                }
              ],
              "conversionMethod": "pd.DataFrame",
              "ref": "5abf4468-df5e-482e-86f7-baa824335e24",
              "rows": [
                [
                  "6",
                  "136cce7faa42fdb2cefd53fdc79a6098",
                  "ed0271e0b7da060a393796590e7b737a",
                  "invoiced",
                  "2017-04-11 12:22:08",
                  "2017-04-13 13:25:17",
                  null,
                  null,
                  "2017-05-09 00:00:00"
                ],
                [
                  "103",
                  "0760a852e4e9d89eb77bf631eaaf1c84",
                  "d2a79636084590b7465af8ab374a8cf5",
                  "invoiced",
                  "2018-08-03 17:44:42",
                  "2018-08-07 06:15:14",
                  null,
                  null,
                  "2018-08-21 00:00:00"
                ],
                [
                  "128",
                  "15bed8e2fec7fdbadb186b57c46c92f2",
                  "f3f0e613e0bdb9c7cee75504f0f90679",
                  "processing",
                  "2017-09-03 14:22:03",
                  "2017-09-03 14:30:09",
                  null,
                  null,
                  "2017-10-03 00:00:00"
                ],
                [
                  "266",
                  "8e24261a7e58791d10cb1bf9da94df5c",
                  "64a254d30eed42cd0e6c36dddb88adf0",
                  "unavailable",
                  "2017-11-16 15:09:28",
                  "2017-11-16 15:26:57",
                  null,
                  null,
                  "2017-12-05 00:00:00"
                ],
                [
                  "324",
                  "d3c8851a6651eeff2f73b0e011ac45d0",
                  "957f8e082185574de25992dc659ebbc0",
                  "processing",
                  "2016-10-05 22:44:13",
                  "2016-10-06 15:51:05",
                  null,
                  null,
                  "2016-12-09 00:00:00"
                ],
                [
                  "397",
                  "1b9ecfe83cdc259250e1a8aca174f0ad",
                  "6d6b50b66d79f80827b6d96751528d30",
                  "canceled",
                  "2018-08-04 14:29:27",
                  "2018-08-07 04:10:26",
                  null,
                  null,
                  "2018-08-14 00:00:00"
                ],
                [
                  "455",
                  "38b7efdf33dd5561f4f5d4f6e07b0414",
                  "021e84751ba0ead75b6d314a6ead88d9",
                  "invoiced",
                  "2017-08-01 18:17:41",
                  "2017-08-01 18:32:30",
                  null,
                  null,
                  "2017-08-28 00:00:00"
                ],
                [
                  "586",
                  "c272bcd21c287498b4883c7512019702",
                  "9582c5bbecc65eb568e2c1d839b5cba1",
                  "unavailable",
                  "2018-01-31 11:31:37",
                  "2018-01-31 14:23:50",
                  null,
                  null,
                  "2018-02-16 00:00:00"
                ],
                [
                  "687",
                  "37553832a3a89c9b2db59701c357ca67",
                  "7607cd563696c27ede287e515812d528",
                  "unavailable",
                  "2017-08-14 17:38:02",
                  "2017-08-17 00:15:18",
                  null,
                  null,
                  "2017-09-05 00:00:00"
                ],
                [
                  "737",
                  "d57e15fb07fd180f06ab3926b39edcd2",
                  "470b93b3f1cde85550fc74cd3a476c78",
                  "unavailable",
                  "2018-01-08 19:39:03",
                  "2018-01-09 07:26:08",
                  null,
                  null,
                  "2018-02-06 00:00:00"
                ],
                [
                  "741",
                  "6a6c7d523fd59eb5bbefc007331af717",
                  "d954782ec6c0e911292c8a80757ef28d",
                  "processing",
                  "2017-11-24 20:09:33",
                  "2017-11-24 23:15:15",
                  null,
                  null,
                  "2017-12-20 00:00:00"
                ],
                [
                  "1130",
                  "00b1cb0320190ca0daa2c88b35206009",
                  "3532ba38a3fd242259a514ac2b6ae6b6",
                  "canceled",
                  "2018-08-28 15:26:39",
                  null,
                  null,
                  null,
                  "2018-09-12 00:00:00"
                ],
                [
                  "1160",
                  "2f634e2cebf8c0283e7ef0989f77d217",
                  "7353b0fb8e8d9675e3a704c60ca44ebe",
                  "unavailable",
                  "2017-09-27 20:55:33",
                  "2017-09-28 01:32:50",
                  null,
                  null,
                  "2017-10-27 00:00:00"
                ],
                [
                  "1192",
                  "745e1d4a7f8c4b548881788d4113bb1d",
                  "7198d7088442e4ddfe553353d8ddc957",
                  "processing",
                  "2017-11-17 06:34:36",
                  "2017-11-18 02:15:40",
                  null,
                  null,
                  "2017-12-12 00:00:00"
                ],
                [
                  "1516",
                  "1d52ba7197c7acebbb4f826f6585536f",
                  "c9c7fe860d602373a9e93f8bfe9d877a",
                  "processing",
                  "2017-02-13 18:32:55",
                  "2017-02-13 18:43:55",
                  null,
                  null,
                  "2017-04-04 00:00:00"
                ],
                [
                  "1579",
                  "ee0db22a8e742b752914016708470ec8",
                  "aae50600d30bf2efe013ca4c1754ded7",
                  "unavailable",
                  "2017-08-24 11:04:41",
                  "2017-08-24 11:15:11",
                  null,
                  null,
                  "2017-09-18 00:00:00"
                ],
                [
                  "1582",
                  "d815bd2c2bdd79e4c0e0263caa986d66",
                  "04d7d73089b39d83f81b829cbd98e43d",
                  "processing",
                  "2017-03-15 10:30:17",
                  "2017-03-15 10:30:17",
                  null,
                  null,
                  "2017-04-13 00:00:00"
                ],
                [
                  "1604",
                  "52b828f13e08788433adad4a7d135779",
                  "3c9a7cf7435eb8c2afd717c62809b521",
                  "processing",
                  "2018-05-05 22:32:38",
                  "2018-05-05 22:53:19",
                  null,
                  null,
                  "2018-06-01 00:00:00"
                ],
                [
                  "1619",
                  "56ab0ef6726f49b711b84ce62e305c7c",
                  "5a643f32f961a09e6046bad513aa588b",
                  "processing",
                  "2017-11-21 17:54:26",
                  "2017-11-22 17:59:31",
                  null,
                  null,
                  "2017-12-13 00:00:00"
                ],
                [
                  "1801",
                  "ed3efbd3a87bea76c2812c66a0b32219",
                  "191984a8ba4cbb2145acb4fe35b69664",
                  "canceled",
                  "2018-09-20 13:54:16",
                  null,
                  null,
                  null,
                  "2018-10-17 00:00:00"
                ],
                [
                  "1811",
                  "0966b61e30c4a07edbd7523f59b3f3e4",
                  "2fcc597b8934d99715dbfff7909dd27f",
                  "canceled",
                  "2018-05-22 18:50:55",
                  "2018-05-22 19:17:15",
                  null,
                  null,
                  "2018-07-03 00:00:00"
                ],
                [
                  "1819",
                  "9021cf1919f615a121410790dcce848f",
                  "7acf55df0298e1d2c31200fb4f6fb93b",
                  "canceled",
                  "2018-07-04 16:05:56",
                  "2018-07-06 02:55:16",
                  null,
                  null,
                  "2018-08-22 00:00:00"
                ],
                [
                  "1826",
                  "6ad57aecbae806a7e9cc2cdb6b380711",
                  "d31dbd02ac052d662285f678f8994326",
                  "unavailable",
                  "2017-11-30 07:48:24",
                  "2017-11-30 08:14:42",
                  null,
                  null,
                  "2017-12-29 00:00:00"
                ],
                [
                  "1833",
                  "51b0dccc8596ce37a930dff2d63a10a2",
                  "31bf1057b00f14804278590bbac18b1b",
                  "invoiced",
                  "2017-05-05 22:34:48",
                  "2017-05-05 22:45:12",
                  null,
                  null,
                  "2017-06-06 00:00:00"
                ],
                [
                  "1868",
                  "df8282afe61008dc26c6c31011474d02",
                  "aa797b187b5466bc6925aaaa4bb3bed1",
                  "canceled",
                  "2017-03-04 12:14:30",
                  null,
                  null,
                  null,
                  "2017-04-10 00:00:00"
                ],
                [
                  "1971",
                  "a39d3db795a5cf4c8b6c9dd050f0d326",
                  "ec66df2cb66dfda07c03050470e21f69",
                  "canceled",
                  "2017-03-13 16:12:24",
                  "2017-03-13 16:12:24",
                  null,
                  null,
                  "2017-03-30 00:00:00"
                ],
                [
                  "2029",
                  "8d4c637f1accf7a88a4555f02741e606",
                  "b1dd715db389a2077f43174e7a675d07",
                  "canceled",
                  "2018-08-29 16:27:49",
                  null,
                  null,
                  null,
                  "2018-09-13 00:00:00"
                ],
                [
                  "2116",
                  "5504eaa5a86eb25fa666cf2e6b96c701",
                  "a30be38e1ed0ffb39b318bf1d15e98d9",
                  "invoiced",
                  "2017-11-29 08:33:06",
                  "2017-11-29 08:56:23",
                  null,
                  null,
                  "2017-12-20 00:00:00"
                ],
                [
                  "2126",
                  "4ea3508e2de6e58640c0efe3ef758829",
                  "75776b1f1b023dd82d5fafe940616c1e",
                  "processing",
                  "2017-05-21 23:42:14",
                  "2017-05-22 00:35:23",
                  null,
                  null,
                  "2017-06-21 00:00:00"
                ],
                [
                  "2148",
                  "9f3458f0433d4cfa472f4682654b8d49",
                  "99ebfafde8b9e58fd12db9d5cc83132f",
                  "unavailable",
                  "2017-07-18 23:36:55",
                  "2017-07-18 23:50:17",
                  null,
                  null,
                  "2017-08-09 00:00:00"
                ],
                [
                  "2161",
                  "7a9d4c7f9b068337875b95465330f2fc",
                  "7f71ae48074c0cfec9195f88fcbfac55",
                  "canceled",
                  "2017-05-01 16:12:39",
                  null,
                  null,
                  null,
                  "2017-05-30 00:00:00"
                ],
                [
                  "2197",
                  "375f80ffc05feb35ce2680f1fa490575",
                  "8f6e5911262a8742393596bee2c09eac",
                  "canceled",
                  "2017-06-13 21:10:05",
                  "2017-06-13 21:22:35",
                  null,
                  null,
                  "2017-07-06 00:00:00"
                ],
                [
                  "2198",
                  "533e104c4193cf07d264603f7800fb71",
                  "2f95fc8f86679d432d77e9d0316fac48",
                  "processing",
                  "2017-02-06 15:33:57",
                  "2017-02-06 15:42:27",
                  null,
                  null,
                  "2017-03-03 00:00:00"
                ],
                [
                  "2278",
                  "6bfa92d3952f762df12752e4937cd63e",
                  "6ccb997c97b0734228b454ba220ed00e",
                  "canceled",
                  "2018-04-27 21:28:24",
                  "2018-04-27 21:52:18",
                  null,
                  null,
                  "2018-05-10 00:00:00"
                ],
                [
                  "2296",
                  "f0df036e9be21fc238f131bbfcdde769",
                  "1fa16395beca89233661543954ca6cf1",
                  "unavailable",
                  "2017-02-24 23:39:21",
                  "2017-02-24 23:45:14",
                  null,
                  null,
                  "2017-04-07 00:00:00"
                ],
                [
                  "2316",
                  "86f0bcd9b426a2c1022ae317c7f27be6",
                  "dd24965dd5aa551df36ce4baf180445b",
                  "unavailable",
                  "2017-03-08 15:13:03",
                  "2017-03-08 15:13:03",
                  null,
                  null,
                  "2017-03-29 00:00:00"
                ],
                [
                  "2649",
                  "c3a6dc9afef5794ea4a867b5a18e0ad1",
                  "0c305f688ce08dc9402a2164fd6f29d6",
                  "invoiced",
                  "2017-11-25 14:10:20",
                  "2017-11-25 17:32:57",
                  null,
                  null,
                  "2017-12-19 00:00:00"
                ],
                [
                  "2680",
                  "98fe01bc254b759c1f2c11d77c2891d5",
                  "30f3b26a06e5a67682305298f83e6be3",
                  "unavailable",
                  "2017-10-17 18:34:56",
                  "2017-10-18 18:37:08",
                  null,
                  null,
                  "2017-11-24 00:00:00"
                ],
                [
                  "2697",
                  "2eb5ba20812f78127f6243fa27fb40e5",
                  "d5420a7dc4c5c1f95b7912368419f59f",
                  "canceled",
                  "2017-05-29 18:10:06",
                  "2017-05-31 07:02:46",
                  null,
                  null,
                  "2017-06-20 00:00:00"
                ],
                [
                  "2707",
                  "f56dc9034c3962e36d49fb73baa12800",
                  "5c4795c07c0bd317adaf7406327bbfa9",
                  "unavailable",
                  "2017-08-10 22:20:51",
                  "2017-08-12 02:09:15",
                  null,
                  null,
                  "2017-09-14 00:00:00"
                ],
                [
                  "2799",
                  "880835c91a5227560bdb8d0f45c60579",
                  "410a24845e470f3c52bb78f084d359b5",
                  "processing",
                  "2017-03-08 09:10:55",
                  "2017-03-09 03:33:21",
                  null,
                  null,
                  "2017-04-04 00:00:00"
                ],
                [
                  "2873",
                  "566c5bff1142c9d6003a83fd2e8ad1e5",
                  "892022d497c9598ce4a313f64ceaa87e",
                  "invoiced",
                  "2017-11-23 18:03:23",
                  "2017-11-23 18:25:18",
                  null,
                  null,
                  "2017-12-18 00:00:00"
                ],
                [
                  "2948",
                  "369423839b4d9789d69665b7c2361443",
                  "fd09581178029df57e2c1f177fc8ef29",
                  "processing",
                  "2017-11-10 08:56:32",
                  "2017-11-11 03:10:33",
                  null,
                  null,
                  "2017-12-05 00:00:00"
                ],
                [
                  "2971",
                  "0130f0f71fb0e831d18e6a3b33a3a50c",
                  "e56f6dff7b8ac9813ddeb2312f0d834f",
                  "unavailable",
                  "2017-05-12 10:17:23",
                  "2017-05-13 03:10:13",
                  null,
                  null,
                  "2017-05-22 00:00:00"
                ],
                [
                  "3056",
                  "ddaec6fff982b13e7e048b627a11d6da",
                  "68f4ad79cc0c2ad06e19088f5c00e9fa",
                  "canceled",
                  "2016-10-04 19:41:32",
                  null,
                  null,
                  null,
                  "2016-11-16 00:00:00"
                ],
                [
                  "3084",
                  "84b8ba39037606b7b30a39d02e9e4154",
                  "7c2bf05f6902368e5d21040b68c2bbdb",
                  "unavailable",
                  "2018-06-27 19:51:02",
                  "2018-06-27 20:11:41",
                  null,
                  null,
                  "2018-07-12 00:00:00"
                ],
                [
                  "3094",
                  "5290c34bd38a8a095b885f13958db1e1",
                  "92af427e290117f39d9ff908566072e0",
                  "canceled",
                  "2018-08-21 10:25:18",
                  null,
                  null,
                  null,
                  "2018-09-06 00:00:00"
                ],
                [
                  "3121",
                  "b4c9f083bce61caf47fb38f9ba058bce",
                  "6ce60503e530d8a67926e9b8e3fdb635",
                  "invoiced",
                  "2017-08-05 16:00:56",
                  "2017-08-05 16:15:16",
                  null,
                  null,
                  "2017-08-30 00:00:00"
                ],
                [
                  "3239",
                  "db4d39113d1f1f359709384518d81e31",
                  "91aed284ce3e18b2be4cb2dafc798b51",
                  "processing",
                  "2017-09-19 11:08:41",
                  "2017-09-19 11:34:08",
                  null,
                  null,
                  "2017-10-10 00:00:00"
                ],
                [
                  "3352",
                  "6261f3240a8778c656bd28aeb2ba9985",
                  "59c0ac147fb499a0f14577f508a3657d",
                  "canceled",
                  "2017-05-31 13:21:35",
                  "2017-06-01 13:35:20",
                  null,
                  null,
                  "2017-07-04 00:00:00"
                ]
              ],
              "shape": {
                "columns": 8,
                "rows": 1783
              }
            },
            "text/html": [
              "<div>\n",
              "<style scoped>\n",
              "    .dataframe tbody tr th:only-of-type {\n",
              "        vertical-align: middle;\n",
              "    }\n",
              "\n",
              "    .dataframe tbody tr th {\n",
              "        vertical-align: top;\n",
              "    }\n",
              "\n",
              "    .dataframe thead th {\n",
              "        text-align: right;\n",
              "    }\n",
              "</style>\n",
              "<table border=\"1\" class=\"dataframe\">\n",
              "  <thead>\n",
              "    <tr style=\"text-align: right;\">\n",
              "      <th></th>\n",
              "      <th>order_id</th>\n",
              "      <th>customer_id</th>\n",
              "      <th>order_status</th>\n",
              "      <th>order_purchase_timestamp</th>\n",
              "      <th>order_approved_at</th>\n",
              "      <th>order_delivered_carrier_date</th>\n",
              "      <th>order_delivered_customer_date</th>\n",
              "      <th>order_estimated_delivery_date</th>\n",
              "    </tr>\n",
              "  </thead>\n",
              "  <tbody>\n",
              "    <tr>\n",
              "      <th>6</th>\n",
              "      <td>136cce7faa42fdb2cefd53fdc79a6098</td>\n",
              "      <td>ed0271e0b7da060a393796590e7b737a</td>\n",
              "      <td>invoiced</td>\n",
              "      <td>2017-04-11 12:22:08</td>\n",
              "      <td>2017-04-13 13:25:17</td>\n",
              "      <td>NaT</td>\n",
              "      <td>NaT</td>\n",
              "      <td>2017-05-09</td>\n",
              "    </tr>\n",
              "    <tr>\n",
              "      <th>103</th>\n",
              "      <td>0760a852e4e9d89eb77bf631eaaf1c84</td>\n",
              "      <td>d2a79636084590b7465af8ab374a8cf5</td>\n",
              "      <td>invoiced</td>\n",
              "      <td>2018-08-03 17:44:42</td>\n",
              "      <td>2018-08-07 06:15:14</td>\n",
              "      <td>NaT</td>\n",
              "      <td>NaT</td>\n",
              "      <td>2018-08-21</td>\n",
              "    </tr>\n",
              "    <tr>\n",
              "      <th>128</th>\n",
              "      <td>15bed8e2fec7fdbadb186b57c46c92f2</td>\n",
              "      <td>f3f0e613e0bdb9c7cee75504f0f90679</td>\n",
              "      <td>processing</td>\n",
              "      <td>2017-09-03 14:22:03</td>\n",
              "      <td>2017-09-03 14:30:09</td>\n",
              "      <td>NaT</td>\n",
              "      <td>NaT</td>\n",
              "      <td>2017-10-03</td>\n",
              "    </tr>\n",
              "    <tr>\n",
              "      <th>266</th>\n",
              "      <td>8e24261a7e58791d10cb1bf9da94df5c</td>\n",
              "      <td>64a254d30eed42cd0e6c36dddb88adf0</td>\n",
              "      <td>unavailable</td>\n",
              "      <td>2017-11-16 15:09:28</td>\n",
              "      <td>2017-11-16 15:26:57</td>\n",
              "      <td>NaT</td>\n",
              "      <td>NaT</td>\n",
              "      <td>2017-12-05</td>\n",
              "    </tr>\n",
              "    <tr>\n",
              "      <th>324</th>\n",
              "      <td>d3c8851a6651eeff2f73b0e011ac45d0</td>\n",
              "      <td>957f8e082185574de25992dc659ebbc0</td>\n",
              "      <td>processing</td>\n",
              "      <td>2016-10-05 22:44:13</td>\n",
              "      <td>2016-10-06 15:51:05</td>\n",
              "      <td>NaT</td>\n",
              "      <td>NaT</td>\n",
              "      <td>2016-12-09</td>\n",
              "    </tr>\n",
              "    <tr>\n",
              "      <th>...</th>\n",
              "      <td>...</td>\n",
              "      <td>...</td>\n",
              "      <td>...</td>\n",
              "      <td>...</td>\n",
              "      <td>...</td>\n",
              "      <td>...</td>\n",
              "      <td>...</td>\n",
              "      <td>...</td>\n",
              "    </tr>\n",
              "    <tr>\n",
              "      <th>99283</th>\n",
              "      <td>3a3cddda5a7c27851bd96c3313412840</td>\n",
              "      <td>0b0d6095c5555fe083844281f6b093bb</td>\n",
              "      <td>canceled</td>\n",
              "      <td>2018-08-31 16:13:44</td>\n",
              "      <td>NaT</td>\n",
              "      <td>NaT</td>\n",
              "      <td>NaT</td>\n",
              "      <td>2018-10-01</td>\n",
              "    </tr>\n",
              "    <tr>\n",
              "      <th>99313</th>\n",
              "      <td>e9e64a17afa9653aacf2616d94c005b8</td>\n",
              "      <td>b4cd0522e632e481f8eaf766a2646e86</td>\n",
              "      <td>processing</td>\n",
              "      <td>2018-01-05 23:07:24</td>\n",
              "      <td>2018-01-09 07:18:05</td>\n",
              "      <td>NaT</td>\n",
              "      <td>NaT</td>\n",
              "      <td>2018-02-06</td>\n",
              "    </tr>\n",
              "    <tr>\n",
              "      <th>99347</th>\n",
              "      <td>a89abace0dcc01eeb267a9660b5ac126</td>\n",
              "      <td>2f0524a7b1b3845a1a57fcf3910c4333</td>\n",
              "      <td>canceled</td>\n",
              "      <td>2018-09-06 18:45:47</td>\n",
              "      <td>NaT</td>\n",
              "      <td>NaT</td>\n",
              "      <td>NaT</td>\n",
              "      <td>2018-09-27</td>\n",
              "    </tr>\n",
              "    <tr>\n",
              "      <th>99348</th>\n",
              "      <td>a69ba794cc7deb415c3e15a0a3877e69</td>\n",
              "      <td>726f0894b5becdf952ea537d5266e543</td>\n",
              "      <td>unavailable</td>\n",
              "      <td>2017-08-23 16:28:04</td>\n",
              "      <td>2017-08-28 15:44:47</td>\n",
              "      <td>NaT</td>\n",
              "      <td>NaT</td>\n",
              "      <td>2017-09-15</td>\n",
              "    </tr>\n",
              "    <tr>\n",
              "      <th>99415</th>\n",
              "      <td>5fabc81b6322c8443648e1b21a6fef21</td>\n",
              "      <td>32c9df889d41b0ee8309a5efb6855dcb</td>\n",
              "      <td>unavailable</td>\n",
              "      <td>2017-10-10 10:50:03</td>\n",
              "      <td>2017-10-14 18:35:57</td>\n",
              "      <td>NaT</td>\n",
              "      <td>NaT</td>\n",
              "      <td>2017-10-23</td>\n",
              "    </tr>\n",
              "  </tbody>\n",
              "</table>\n",
              "<p>1783 rows × 8 columns</p>\n",
              "</div>"
            ],
            "text/plain": [
              "                               order_id                       customer_id  \\\n",
              "6      136cce7faa42fdb2cefd53fdc79a6098  ed0271e0b7da060a393796590e7b737a   \n",
              "103    0760a852e4e9d89eb77bf631eaaf1c84  d2a79636084590b7465af8ab374a8cf5   \n",
              "128    15bed8e2fec7fdbadb186b57c46c92f2  f3f0e613e0bdb9c7cee75504f0f90679   \n",
              "266    8e24261a7e58791d10cb1bf9da94df5c  64a254d30eed42cd0e6c36dddb88adf0   \n",
              "324    d3c8851a6651eeff2f73b0e011ac45d0  957f8e082185574de25992dc659ebbc0   \n",
              "...                                 ...                               ...   \n",
              "99283  3a3cddda5a7c27851bd96c3313412840  0b0d6095c5555fe083844281f6b093bb   \n",
              "99313  e9e64a17afa9653aacf2616d94c005b8  b4cd0522e632e481f8eaf766a2646e86   \n",
              "99347  a89abace0dcc01eeb267a9660b5ac126  2f0524a7b1b3845a1a57fcf3910c4333   \n",
              "99348  a69ba794cc7deb415c3e15a0a3877e69  726f0894b5becdf952ea537d5266e543   \n",
              "99415  5fabc81b6322c8443648e1b21a6fef21  32c9df889d41b0ee8309a5efb6855dcb   \n",
              "\n",
              "      order_status order_purchase_timestamp   order_approved_at  \\\n",
              "6         invoiced      2017-04-11 12:22:08 2017-04-13 13:25:17   \n",
              "103       invoiced      2018-08-03 17:44:42 2018-08-07 06:15:14   \n",
              "128     processing      2017-09-03 14:22:03 2017-09-03 14:30:09   \n",
              "266    unavailable      2017-11-16 15:09:28 2017-11-16 15:26:57   \n",
              "324     processing      2016-10-05 22:44:13 2016-10-06 15:51:05   \n",
              "...            ...                      ...                 ...   \n",
              "99283     canceled      2018-08-31 16:13:44                 NaT   \n",
              "99313   processing      2018-01-05 23:07:24 2018-01-09 07:18:05   \n",
              "99347     canceled      2018-09-06 18:45:47                 NaT   \n",
              "99348  unavailable      2017-08-23 16:28:04 2017-08-28 15:44:47   \n",
              "99415  unavailable      2017-10-10 10:50:03 2017-10-14 18:35:57   \n",
              "\n",
              "      order_delivered_carrier_date order_delivered_customer_date  \\\n",
              "6                              NaT                           NaT   \n",
              "103                            NaT                           NaT   \n",
              "128                            NaT                           NaT   \n",
              "266                            NaT                           NaT   \n",
              "324                            NaT                           NaT   \n",
              "...                            ...                           ...   \n",
              "99283                          NaT                           NaT   \n",
              "99313                          NaT                           NaT   \n",
              "99347                          NaT                           NaT   \n",
              "99348                          NaT                           NaT   \n",
              "99415                          NaT                           NaT   \n",
              "\n",
              "      order_estimated_delivery_date  \n",
              "6                        2017-05-09  \n",
              "103                      2018-08-21  \n",
              "128                      2017-10-03  \n",
              "266                      2017-12-05  \n",
              "324                      2016-12-09  \n",
              "...                             ...  \n",
              "99283                    2018-10-01  \n",
              "99313                    2018-02-06  \n",
              "99347                    2018-09-27  \n",
              "99348                    2017-09-15  \n",
              "99415                    2017-10-23  \n",
              "\n",
              "[1783 rows x 8 columns]"
            ]
          },
          "execution_count": 25,
          "metadata": {},
          "output_type": "execute_result"
        }
      ],
      "source": [
        "orders_df[orders_df.order_delivered_carrier_date.isna()]\n"
      ]
    },
    {
      "cell_type": "code",
      "execution_count": 26,
      "metadata": {},
      "outputs": [
        {
          "data": {
            "application/vnd.microsoft.datawrangler.viewer.v0+json": {
              "columns": [
                {
                  "name": "index",
                  "rawType": "int64",
                  "type": "integer"
                },
                {
                  "name": "order_id",
                  "rawType": "object",
                  "type": "string"
                },
                {
                  "name": "customer_id",
                  "rawType": "object",
                  "type": "string"
                },
                {
                  "name": "order_status",
                  "rawType": "object",
                  "type": "string"
                },
                {
                  "name": "order_purchase_timestamp",
                  "rawType": "datetime64[ns]",
                  "type": "datetime"
                },
                {
                  "name": "order_approved_at",
                  "rawType": "datetime64[ns]",
                  "type": "datetime"
                },
                {
                  "name": "order_delivered_carrier_date",
                  "rawType": "datetime64[ns]",
                  "type": "datetime"
                },
                {
                  "name": "order_delivered_customer_date",
                  "rawType": "datetime64[ns]",
                  "type": "datetime"
                },
                {
                  "name": "order_estimated_delivery_date",
                  "rawType": "datetime64[ns]",
                  "type": "datetime"
                }
              ],
              "conversionMethod": "pd.DataFrame",
              "ref": "e7f4c24f-7008-4383-8092-c5d560bfe4bf",
              "rows": [
                [
                  "6",
                  "136cce7faa42fdb2cefd53fdc79a6098",
                  "ed0271e0b7da060a393796590e7b737a",
                  "invoiced",
                  "2017-04-11 12:22:08",
                  "2017-04-13 13:25:17",
                  null,
                  null,
                  "2017-05-09 00:00:00"
                ],
                [
                  "44",
                  "ee64d42b8cf066f35eac1cf57de1aa85",
                  "caded193e8e47b8362864762a83db3c5",
                  "shipped",
                  "2018-06-04 16:44:48",
                  "2018-06-05 04:31:18",
                  "2018-06-05 14:32:00",
                  null,
                  "2018-06-28 00:00:00"
                ],
                [
                  "103",
                  "0760a852e4e9d89eb77bf631eaaf1c84",
                  "d2a79636084590b7465af8ab374a8cf5",
                  "invoiced",
                  "2018-08-03 17:44:42",
                  "2018-08-07 06:15:14",
                  null,
                  null,
                  "2018-08-21 00:00:00"
                ],
                [
                  "128",
                  "15bed8e2fec7fdbadb186b57c46c92f2",
                  "f3f0e613e0bdb9c7cee75504f0f90679",
                  "processing",
                  "2017-09-03 14:22:03",
                  "2017-09-03 14:30:09",
                  null,
                  null,
                  "2017-10-03 00:00:00"
                ],
                [
                  "154",
                  "6942b8da583c2f9957e990d028607019",
                  "52006a9383bf149a4fb24226b173106f",
                  "shipped",
                  "2018-01-10 11:33:07",
                  "2018-01-11 02:32:30",
                  "2018-01-11 19:39:23",
                  null,
                  "2018-02-07 00:00:00"
                ],
                [
                  "162",
                  "36530871a5e80138db53bcfd8a104d90",
                  "4dafe3c841d2d6cc8a8b6d25b35704b9",
                  "shipped",
                  "2017-05-09 11:48:37",
                  "2017-05-11 11:45:14",
                  "2017-05-11 13:21:47",
                  null,
                  "2017-06-08 00:00:00"
                ],
                [
                  "231",
                  "4d630f57194f5aba1a3d12ce23e71cd9",
                  "6d491c9fe2f04f6e2af6ec033cd8907c",
                  "shipped",
                  "2017-11-17 19:53:21",
                  "2017-11-18 19:50:31",
                  "2017-11-22 17:28:34",
                  null,
                  "2017-12-13 00:00:00"
                ],
                [
                  "266",
                  "8e24261a7e58791d10cb1bf9da94df5c",
                  "64a254d30eed42cd0e6c36dddb88adf0",
                  "unavailable",
                  "2017-11-16 15:09:28",
                  "2017-11-16 15:26:57",
                  null,
                  null,
                  "2017-12-05 00:00:00"
                ],
                [
                  "299",
                  "3b4ad687e7e5190db827e1ae5a8989dd",
                  "1a87b8517b7d31373b50396eb15cb445",
                  "shipped",
                  "2018-06-28 12:52:15",
                  "2018-06-28 13:11:09",
                  "2018-07-04 15:20:00",
                  null,
                  "2018-08-03 00:00:00"
                ],
                [
                  "305",
                  "b68d69564a79dea4776afa33d1d2fcab",
                  "de1e5517fb50896bbdcff5814fb31802",
                  "shipped",
                  "2018-02-28 08:57:03",
                  "2018-02-28 10:40:35",
                  "2018-03-05 16:10:13",
                  null,
                  "2018-03-23 00:00:00"
                ],
                [
                  "324",
                  "d3c8851a6651eeff2f73b0e011ac45d0",
                  "957f8e082185574de25992dc659ebbc0",
                  "processing",
                  "2016-10-05 22:44:13",
                  "2016-10-06 15:51:05",
                  null,
                  null,
                  "2016-12-09 00:00:00"
                ],
                [
                  "333",
                  "f373335aac9a659de916f7170b8bc07a",
                  "f06a94a401e52fb019c72f2e8bbf6a2f",
                  "shipped",
                  "2018-03-17 15:32:31",
                  "2018-03-17 15:48:40",
                  "2018-03-20 21:08:28",
                  null,
                  "2018-04-13 00:00:00"
                ],
                [
                  "374",
                  "5869074071e0f56e9085dc3742c97b2a",
                  "7203eb38fea2b4a15dd6c39575314aa4",
                  "shipped",
                  "2018-06-08 20:06:48",
                  "2018-06-12 04:35:37",
                  "2018-06-12 14:09:00",
                  null,
                  "2018-06-28 00:00:00"
                ],
                [
                  "397",
                  "1b9ecfe83cdc259250e1a8aca174f0ad",
                  "6d6b50b66d79f80827b6d96751528d30",
                  "canceled",
                  "2018-08-04 14:29:27",
                  "2018-08-07 04:10:26",
                  null,
                  null,
                  "2018-08-14 00:00:00"
                ],
                [
                  "430",
                  "6147a4d49752afd35a119d794e481588",
                  "938698ae953596e231326da5ff220f68",
                  "shipped",
                  "2017-04-25 13:35:09",
                  "2017-04-25 13:45:16",
                  "2017-05-02 15:29:33",
                  null,
                  "2017-05-29 00:00:00"
                ],
                [
                  "444",
                  "95e42e6aaf6264cd3e77c06b32dc3003",
                  "29ef1f160ce630146dafa02052e2c5bf",
                  "shipped",
                  "2017-11-24 09:23:33",
                  "2017-11-24 10:51:26",
                  "2017-11-24 19:07:43",
                  null,
                  "2017-12-08 00:00:00"
                ],
                [
                  "455",
                  "38b7efdf33dd5561f4f5d4f6e07b0414",
                  "021e84751ba0ead75b6d314a6ead88d9",
                  "invoiced",
                  "2017-08-01 18:17:41",
                  "2017-08-01 18:32:30",
                  null,
                  null,
                  "2017-08-28 00:00:00"
                ],
                [
                  "540",
                  "10918fe4d665fda80034712895c2b92f",
                  "e05a24d2c1d2cd3ae0482ecc1b4d069f",
                  "shipped",
                  "2017-06-26 07:04:39",
                  "2017-06-26 10:32:39",
                  "2017-07-04 11:27:21",
                  null,
                  "2017-08-03 00:00:00"
                ],
                [
                  "583",
                  "f633c884a99eb63866600655356d973e",
                  "b6e18008af6aeb4a5ce5574c15ca2b48",
                  "shipped",
                  "2018-04-04 00:33:47",
                  "2018-04-04 00:48:50",
                  "2018-04-05 19:16:46",
                  null,
                  "2018-04-25 00:00:00"
                ],
                [
                  "586",
                  "c272bcd21c287498b4883c7512019702",
                  "9582c5bbecc65eb568e2c1d839b5cba1",
                  "unavailable",
                  "2018-01-31 11:31:37",
                  "2018-01-31 14:23:50",
                  null,
                  null,
                  "2018-02-16 00:00:00"
                ],
                [
                  "613",
                  "714fb133a6730ab81fa1d3c1b2007291",
                  "e3fe72696c4713d64d3c10afe71e75ed",
                  "canceled",
                  "2018-01-26 21:34:08",
                  "2018-01-26 21:58:39",
                  "2018-01-29 22:33:25",
                  null,
                  "2018-02-22 00:00:00"
                ],
                [
                  "687",
                  "37553832a3a89c9b2db59701c357ca67",
                  "7607cd563696c27ede287e515812d528",
                  "unavailable",
                  "2017-08-14 17:38:02",
                  "2017-08-17 00:15:18",
                  null,
                  null,
                  "2017-09-05 00:00:00"
                ],
                [
                  "716",
                  "662823ed689412b9a2e5085620e06070",
                  "b4214b2e14c916724d94efe51fcbd1f0",
                  "shipped",
                  "2018-03-15 15:57:24",
                  "2018-03-15 16:11:07",
                  "2018-03-19 20:28:42",
                  null,
                  "2018-04-05 00:00:00"
                ],
                [
                  "737",
                  "d57e15fb07fd180f06ab3926b39edcd2",
                  "470b93b3f1cde85550fc74cd3a476c78",
                  "unavailable",
                  "2018-01-08 19:39:03",
                  "2018-01-09 07:26:08",
                  null,
                  null,
                  "2018-02-06 00:00:00"
                ],
                [
                  "741",
                  "6a6c7d523fd59eb5bbefc007331af717",
                  "d954782ec6c0e911292c8a80757ef28d",
                  "processing",
                  "2017-11-24 20:09:33",
                  "2017-11-24 23:15:15",
                  null,
                  null,
                  "2017-12-20 00:00:00"
                ],
                [
                  "1006",
                  "c5e1ff5a434a0e128ac186bd92c1060d",
                  "9408366cfabe249cc4e4680dffb79c5c",
                  "shipped",
                  "2018-03-10 13:39:36",
                  "2018-03-10 13:50:29",
                  "2018-03-21 19:18:22",
                  null,
                  "2018-04-06 00:00:00"
                ],
                [
                  "1058",
                  "3a129877493c8189c59c60eb71d97c29",
                  "0913cdce793684e52bbfac69d87e91fd",
                  "canceled",
                  "2018-01-25 13:34:24",
                  "2018-01-25 13:50:20",
                  "2018-01-26 21:42:18",
                  null,
                  "2018-02-23 00:00:00"
                ],
                [
                  "1130",
                  "00b1cb0320190ca0daa2c88b35206009",
                  "3532ba38a3fd242259a514ac2b6ae6b6",
                  "canceled",
                  "2018-08-28 15:26:39",
                  null,
                  null,
                  null,
                  "2018-09-12 00:00:00"
                ],
                [
                  "1160",
                  "2f634e2cebf8c0283e7ef0989f77d217",
                  "7353b0fb8e8d9675e3a704c60ca44ebe",
                  "unavailable",
                  "2017-09-27 20:55:33",
                  "2017-09-28 01:32:50",
                  null,
                  null,
                  "2017-10-27 00:00:00"
                ],
                [
                  "1175",
                  "c4abf2eb2ea936ee6fc6e630b152fb77",
                  "d7314e9d240737da330e0f83ac4bd257",
                  "shipped",
                  "2017-03-09 20:50:46",
                  "2017-03-09 20:50:46",
                  "2017-03-14 10:01:57",
                  null,
                  "2017-04-03 00:00:00"
                ],
                [
                  "1192",
                  "745e1d4a7f8c4b548881788d4113bb1d",
                  "7198d7088442e4ddfe553353d8ddc957",
                  "processing",
                  "2017-11-17 06:34:36",
                  "2017-11-18 02:15:40",
                  null,
                  null,
                  "2017-12-12 00:00:00"
                ],
                [
                  "1282",
                  "504ec2b6f69e898c557955750272d563",
                  "ba0a799b8a7b0b1a1ac522a0a8839bff",
                  "shipped",
                  "2018-05-07 21:43:48",
                  "2018-05-07 21:54:31",
                  "2018-05-08 14:17:00",
                  null,
                  "2018-05-21 00:00:00"
                ],
                [
                  "1368",
                  "ed1407b1e486fadba3e6cd4460dccd56",
                  "d83913dc23a7f3c90ff7a10d1b4bd4c6",
                  "shipped",
                  "2017-10-22 12:55:42",
                  "2017-10-22 13:14:28",
                  "2017-10-24 11:46:06",
                  null,
                  "2017-11-14 00:00:00"
                ],
                [
                  "1396",
                  "dd94f2867bcd2be2229f44d7a0df4e5b",
                  "786ee3fc4d3b8097f9759d512efb5540",
                  "shipped",
                  "2017-03-28 09:43:17",
                  "2017-03-29 02:10:56",
                  "2017-03-29 15:20:18",
                  null,
                  "2017-04-17 00:00:00"
                ],
                [
                  "1440",
                  "362cc20bf09835f4398cedd319fb7d8e",
                  "9eb0d8ae0777405811966250213e28a2",
                  "shipped",
                  "2018-03-27 12:10:05",
                  "2018-03-29 03:28:46",
                  "2018-04-04 19:08:37",
                  null,
                  "2018-04-19 00:00:00"
                ],
                [
                  "1476",
                  "f05b87cae9d521c780bc3dfc281ca892",
                  "1a7edcadd05cd374c32cc5e4f87d9832",
                  "shipped",
                  "2018-08-04 12:49:06",
                  "2018-08-05 12:45:15",
                  "2018-08-06 11:55:00",
                  null,
                  "2018-08-24 00:00:00"
                ],
                [
                  "1516",
                  "1d52ba7197c7acebbb4f826f6585536f",
                  "c9c7fe860d602373a9e93f8bfe9d877a",
                  "processing",
                  "2017-02-13 18:32:55",
                  "2017-02-13 18:43:55",
                  null,
                  null,
                  "2017-04-04 00:00:00"
                ],
                [
                  "1517",
                  "ad27779fb29796c8d798f29aefedf3d0",
                  "aceb1218ab19cb199ebe711d613f9fae",
                  "shipped",
                  "2018-04-05 11:39:33",
                  "2018-04-05 11:55:21",
                  "2018-04-05 21:32:19",
                  null,
                  "2018-04-27 00:00:00"
                ],
                [
                  "1565",
                  "38d6205cb4508e8d63dcbae0aac1fe96",
                  "d0ca4d9e8fa6fca510ed593effc04df5",
                  "shipped",
                  "2018-05-02 09:02:58",
                  "2018-05-03 03:55:26",
                  "2018-05-03 14:18:00",
                  null,
                  "2018-05-25 00:00:00"
                ],
                [
                  "1579",
                  "ee0db22a8e742b752914016708470ec8",
                  "aae50600d30bf2efe013ca4c1754ded7",
                  "unavailable",
                  "2017-08-24 11:04:41",
                  "2017-08-24 11:15:11",
                  null,
                  null,
                  "2017-09-18 00:00:00"
                ],
                [
                  "1582",
                  "d815bd2c2bdd79e4c0e0263caa986d66",
                  "04d7d73089b39d83f81b829cbd98e43d",
                  "processing",
                  "2017-03-15 10:30:17",
                  "2017-03-15 10:30:17",
                  null,
                  null,
                  "2017-04-13 00:00:00"
                ],
                [
                  "1604",
                  "52b828f13e08788433adad4a7d135779",
                  "3c9a7cf7435eb8c2afd717c62809b521",
                  "processing",
                  "2018-05-05 22:32:38",
                  "2018-05-05 22:53:19",
                  null,
                  null,
                  "2018-06-01 00:00:00"
                ],
                [
                  "1619",
                  "56ab0ef6726f49b711b84ce62e305c7c",
                  "5a643f32f961a09e6046bad513aa588b",
                  "processing",
                  "2017-11-21 17:54:26",
                  "2017-11-22 17:59:31",
                  null,
                  null,
                  "2017-12-13 00:00:00"
                ],
                [
                  "1633",
                  "9a01e11eb3e82a6d9e7bd3f3acafa7ca",
                  "49206e681a7405da8d06cf16883575ff",
                  "shipped",
                  "2018-03-02 22:07:38",
                  "2018-03-03 15:35:24",
                  "2018-03-06 00:04:29",
                  null,
                  "2018-04-02 00:00:00"
                ],
                [
                  "1771",
                  "1488ee1c0dc7439e64d5df80ae9f6089",
                  "42396af504e7592889a5e54951ce2cb8",
                  "shipped",
                  "2018-03-16 17:44:05",
                  "2018-03-16 17:55:36",
                  "2018-03-22 20:33:27",
                  null,
                  "2018-04-13 00:00:00"
                ],
                [
                  "1801",
                  "ed3efbd3a87bea76c2812c66a0b32219",
                  "191984a8ba4cbb2145acb4fe35b69664",
                  "canceled",
                  "2018-09-20 13:54:16",
                  null,
                  null,
                  null,
                  "2018-10-17 00:00:00"
                ],
                [
                  "1811",
                  "0966b61e30c4a07edbd7523f59b3f3e4",
                  "2fcc597b8934d99715dbfff7909dd27f",
                  "canceled",
                  "2018-05-22 18:50:55",
                  "2018-05-22 19:17:15",
                  null,
                  null,
                  "2018-07-03 00:00:00"
                ],
                [
                  "1819",
                  "9021cf1919f615a121410790dcce848f",
                  "7acf55df0298e1d2c31200fb4f6fb93b",
                  "canceled",
                  "2018-07-04 16:05:56",
                  "2018-07-06 02:55:16",
                  null,
                  null,
                  "2018-08-22 00:00:00"
                ],
                [
                  "1826",
                  "6ad57aecbae806a7e9cc2cdb6b380711",
                  "d31dbd02ac052d662285f678f8994326",
                  "unavailable",
                  "2017-11-30 07:48:24",
                  "2017-11-30 08:14:42",
                  null,
                  null,
                  "2017-12-29 00:00:00"
                ],
                [
                  "1833",
                  "51b0dccc8596ce37a930dff2d63a10a2",
                  "31bf1057b00f14804278590bbac18b1b",
                  "invoiced",
                  "2017-05-05 22:34:48",
                  "2017-05-05 22:45:12",
                  null,
                  null,
                  "2017-06-06 00:00:00"
                ]
              ],
              "shape": {
                "columns": 8,
                "rows": 2965
              }
            },
            "text/html": [
              "<div>\n",
              "<style scoped>\n",
              "    .dataframe tbody tr th:only-of-type {\n",
              "        vertical-align: middle;\n",
              "    }\n",
              "\n",
              "    .dataframe tbody tr th {\n",
              "        vertical-align: top;\n",
              "    }\n",
              "\n",
              "    .dataframe thead th {\n",
              "        text-align: right;\n",
              "    }\n",
              "</style>\n",
              "<table border=\"1\" class=\"dataframe\">\n",
              "  <thead>\n",
              "    <tr style=\"text-align: right;\">\n",
              "      <th></th>\n",
              "      <th>order_id</th>\n",
              "      <th>customer_id</th>\n",
              "      <th>order_status</th>\n",
              "      <th>order_purchase_timestamp</th>\n",
              "      <th>order_approved_at</th>\n",
              "      <th>order_delivered_carrier_date</th>\n",
              "      <th>order_delivered_customer_date</th>\n",
              "      <th>order_estimated_delivery_date</th>\n",
              "    </tr>\n",
              "  </thead>\n",
              "  <tbody>\n",
              "    <tr>\n",
              "      <th>6</th>\n",
              "      <td>136cce7faa42fdb2cefd53fdc79a6098</td>\n",
              "      <td>ed0271e0b7da060a393796590e7b737a</td>\n",
              "      <td>invoiced</td>\n",
              "      <td>2017-04-11 12:22:08</td>\n",
              "      <td>2017-04-13 13:25:17</td>\n",
              "      <td>NaT</td>\n",
              "      <td>NaT</td>\n",
              "      <td>2017-05-09</td>\n",
              "    </tr>\n",
              "    <tr>\n",
              "      <th>44</th>\n",
              "      <td>ee64d42b8cf066f35eac1cf57de1aa85</td>\n",
              "      <td>caded193e8e47b8362864762a83db3c5</td>\n",
              "      <td>shipped</td>\n",
              "      <td>2018-06-04 16:44:48</td>\n",
              "      <td>2018-06-05 04:31:18</td>\n",
              "      <td>2018-06-05 14:32:00</td>\n",
              "      <td>NaT</td>\n",
              "      <td>2018-06-28</td>\n",
              "    </tr>\n",
              "    <tr>\n",
              "      <th>103</th>\n",
              "      <td>0760a852e4e9d89eb77bf631eaaf1c84</td>\n",
              "      <td>d2a79636084590b7465af8ab374a8cf5</td>\n",
              "      <td>invoiced</td>\n",
              "      <td>2018-08-03 17:44:42</td>\n",
              "      <td>2018-08-07 06:15:14</td>\n",
              "      <td>NaT</td>\n",
              "      <td>NaT</td>\n",
              "      <td>2018-08-21</td>\n",
              "    </tr>\n",
              "    <tr>\n",
              "      <th>128</th>\n",
              "      <td>15bed8e2fec7fdbadb186b57c46c92f2</td>\n",
              "      <td>f3f0e613e0bdb9c7cee75504f0f90679</td>\n",
              "      <td>processing</td>\n",
              "      <td>2017-09-03 14:22:03</td>\n",
              "      <td>2017-09-03 14:30:09</td>\n",
              "      <td>NaT</td>\n",
              "      <td>NaT</td>\n",
              "      <td>2017-10-03</td>\n",
              "    </tr>\n",
              "    <tr>\n",
              "      <th>154</th>\n",
              "      <td>6942b8da583c2f9957e990d028607019</td>\n",
              "      <td>52006a9383bf149a4fb24226b173106f</td>\n",
              "      <td>shipped</td>\n",
              "      <td>2018-01-10 11:33:07</td>\n",
              "      <td>2018-01-11 02:32:30</td>\n",
              "      <td>2018-01-11 19:39:23</td>\n",
              "      <td>NaT</td>\n",
              "      <td>2018-02-07</td>\n",
              "    </tr>\n",
              "    <tr>\n",
              "      <th>...</th>\n",
              "      <td>...</td>\n",
              "      <td>...</td>\n",
              "      <td>...</td>\n",
              "      <td>...</td>\n",
              "      <td>...</td>\n",
              "      <td>...</td>\n",
              "      <td>...</td>\n",
              "      <td>...</td>\n",
              "    </tr>\n",
              "    <tr>\n",
              "      <th>99283</th>\n",
              "      <td>3a3cddda5a7c27851bd96c3313412840</td>\n",
              "      <td>0b0d6095c5555fe083844281f6b093bb</td>\n",
              "      <td>canceled</td>\n",
              "      <td>2018-08-31 16:13:44</td>\n",
              "      <td>NaT</td>\n",
              "      <td>NaT</td>\n",
              "      <td>NaT</td>\n",
              "      <td>2018-10-01</td>\n",
              "    </tr>\n",
              "    <tr>\n",
              "      <th>99313</th>\n",
              "      <td>e9e64a17afa9653aacf2616d94c005b8</td>\n",
              "      <td>b4cd0522e632e481f8eaf766a2646e86</td>\n",
              "      <td>processing</td>\n",
              "      <td>2018-01-05 23:07:24</td>\n",
              "      <td>2018-01-09 07:18:05</td>\n",
              "      <td>NaT</td>\n",
              "      <td>NaT</td>\n",
              "      <td>2018-02-06</td>\n",
              "    </tr>\n",
              "    <tr>\n",
              "      <th>99347</th>\n",
              "      <td>a89abace0dcc01eeb267a9660b5ac126</td>\n",
              "      <td>2f0524a7b1b3845a1a57fcf3910c4333</td>\n",
              "      <td>canceled</td>\n",
              "      <td>2018-09-06 18:45:47</td>\n",
              "      <td>NaT</td>\n",
              "      <td>NaT</td>\n",
              "      <td>NaT</td>\n",
              "      <td>2018-09-27</td>\n",
              "    </tr>\n",
              "    <tr>\n",
              "      <th>99348</th>\n",
              "      <td>a69ba794cc7deb415c3e15a0a3877e69</td>\n",
              "      <td>726f0894b5becdf952ea537d5266e543</td>\n",
              "      <td>unavailable</td>\n",
              "      <td>2017-08-23 16:28:04</td>\n",
              "      <td>2017-08-28 15:44:47</td>\n",
              "      <td>NaT</td>\n",
              "      <td>NaT</td>\n",
              "      <td>2017-09-15</td>\n",
              "    </tr>\n",
              "    <tr>\n",
              "      <th>99415</th>\n",
              "      <td>5fabc81b6322c8443648e1b21a6fef21</td>\n",
              "      <td>32c9df889d41b0ee8309a5efb6855dcb</td>\n",
              "      <td>unavailable</td>\n",
              "      <td>2017-10-10 10:50:03</td>\n",
              "      <td>2017-10-14 18:35:57</td>\n",
              "      <td>NaT</td>\n",
              "      <td>NaT</td>\n",
              "      <td>2017-10-23</td>\n",
              "    </tr>\n",
              "  </tbody>\n",
              "</table>\n",
              "<p>2965 rows × 8 columns</p>\n",
              "</div>"
            ],
            "text/plain": [
              "                               order_id                       customer_id  \\\n",
              "6      136cce7faa42fdb2cefd53fdc79a6098  ed0271e0b7da060a393796590e7b737a   \n",
              "44     ee64d42b8cf066f35eac1cf57de1aa85  caded193e8e47b8362864762a83db3c5   \n",
              "103    0760a852e4e9d89eb77bf631eaaf1c84  d2a79636084590b7465af8ab374a8cf5   \n",
              "128    15bed8e2fec7fdbadb186b57c46c92f2  f3f0e613e0bdb9c7cee75504f0f90679   \n",
              "154    6942b8da583c2f9957e990d028607019  52006a9383bf149a4fb24226b173106f   \n",
              "...                                 ...                               ...   \n",
              "99283  3a3cddda5a7c27851bd96c3313412840  0b0d6095c5555fe083844281f6b093bb   \n",
              "99313  e9e64a17afa9653aacf2616d94c005b8  b4cd0522e632e481f8eaf766a2646e86   \n",
              "99347  a89abace0dcc01eeb267a9660b5ac126  2f0524a7b1b3845a1a57fcf3910c4333   \n",
              "99348  a69ba794cc7deb415c3e15a0a3877e69  726f0894b5becdf952ea537d5266e543   \n",
              "99415  5fabc81b6322c8443648e1b21a6fef21  32c9df889d41b0ee8309a5efb6855dcb   \n",
              "\n",
              "      order_status order_purchase_timestamp   order_approved_at  \\\n",
              "6         invoiced      2017-04-11 12:22:08 2017-04-13 13:25:17   \n",
              "44         shipped      2018-06-04 16:44:48 2018-06-05 04:31:18   \n",
              "103       invoiced      2018-08-03 17:44:42 2018-08-07 06:15:14   \n",
              "128     processing      2017-09-03 14:22:03 2017-09-03 14:30:09   \n",
              "154        shipped      2018-01-10 11:33:07 2018-01-11 02:32:30   \n",
              "...            ...                      ...                 ...   \n",
              "99283     canceled      2018-08-31 16:13:44                 NaT   \n",
              "99313   processing      2018-01-05 23:07:24 2018-01-09 07:18:05   \n",
              "99347     canceled      2018-09-06 18:45:47                 NaT   \n",
              "99348  unavailable      2017-08-23 16:28:04 2017-08-28 15:44:47   \n",
              "99415  unavailable      2017-10-10 10:50:03 2017-10-14 18:35:57   \n",
              "\n",
              "      order_delivered_carrier_date order_delivered_customer_date  \\\n",
              "6                              NaT                           NaT   \n",
              "44             2018-06-05 14:32:00                           NaT   \n",
              "103                            NaT                           NaT   \n",
              "128                            NaT                           NaT   \n",
              "154            2018-01-11 19:39:23                           NaT   \n",
              "...                            ...                           ...   \n",
              "99283                          NaT                           NaT   \n",
              "99313                          NaT                           NaT   \n",
              "99347                          NaT                           NaT   \n",
              "99348                          NaT                           NaT   \n",
              "99415                          NaT                           NaT   \n",
              "\n",
              "      order_estimated_delivery_date  \n",
              "6                        2017-05-09  \n",
              "44                       2018-06-28  \n",
              "103                      2018-08-21  \n",
              "128                      2017-10-03  \n",
              "154                      2018-02-07  \n",
              "...                             ...  \n",
              "99283                    2018-10-01  \n",
              "99313                    2018-02-06  \n",
              "99347                    2018-09-27  \n",
              "99348                    2017-09-15  \n",
              "99415                    2017-10-23  \n",
              "\n",
              "[2965 rows x 8 columns]"
            ]
          },
          "execution_count": 26,
          "metadata": {},
          "output_type": "execute_result"
        }
      ],
      "source": [
        "orders_df[orders_df.order_delivered_customer_date.isna()]"
      ]
    },
    {
      "cell_type": "code",
      "execution_count": 27,
      "metadata": {},
      "outputs": [
        {
          "name": "stdout",
          "output_type": "stream",
          "text": [
            "Missing Values setelah pembersihan:\n",
            "order_id                          0\n",
            "customer_id                       0\n",
            "order_status                      0\n",
            "order_purchase_timestamp          0\n",
            "order_approved_at                14\n",
            "order_delivered_carrier_date      2\n",
            "order_delivered_customer_date     8\n",
            "order_estimated_delivery_date     0\n",
            "dtype: int64\n"
          ]
        }
      ],
      "source": [
        "# diputuskan mari gunakan yang sudah di delivered saja, karena yang lain masih ambigu, misal processing, shipped, unavailable dll\n",
        "orders_df = orders_df[orders_df['order_status'] == 'delivered']\n",
        "\n",
        "print('Missing Values setelah pembersihan:')\n",
        "print(orders_df.isnull().sum())"
      ]
    },
    {
      "cell_type": "code",
      "execution_count": 30,
      "metadata": {},
      "outputs": [
        {
          "data": {
            "application/vnd.microsoft.datawrangler.viewer.v0+json": {
              "columns": [
                {
                  "name": "index",
                  "rawType": "int64",
                  "type": "integer"
                },
                {
                  "name": "order_id",
                  "rawType": "object",
                  "type": "string"
                },
                {
                  "name": "customer_id",
                  "rawType": "object",
                  "type": "string"
                },
                {
                  "name": "order_status",
                  "rawType": "object",
                  "type": "string"
                },
                {
                  "name": "order_purchase_timestamp",
                  "rawType": "datetime64[ns]",
                  "type": "datetime"
                },
                {
                  "name": "order_approved_at",
                  "rawType": "datetime64[ns]",
                  "type": "datetime"
                },
                {
                  "name": "order_delivered_carrier_date",
                  "rawType": "datetime64[ns]",
                  "type": "datetime"
                },
                {
                  "name": "order_delivered_customer_date",
                  "rawType": "datetime64[ns]",
                  "type": "datetime"
                },
                {
                  "name": "order_estimated_delivery_date",
                  "rawType": "datetime64[ns]",
                  "type": "datetime"
                }
              ],
              "conversionMethod": "pd.DataFrame",
              "ref": "43d7b60e-c2e0-4a14-b6f5-50a2408725e9",
              "rows": [
                [
                  "5323",
                  "e04abd8149ef81b95221e88f6ed9ab6a",
                  "2127dc6603ac33544953ef05ec155771",
                  "delivered",
                  "2017-02-18 14:40:00",
                  null,
                  "2017-02-23 12:04:47",
                  "2017-03-01 13:25:33",
                  "2017-03-17 00:00:00"
                ],
                [
                  "16567",
                  "8a9adc69528e1001fc68dd0aaebbb54a",
                  "4c1ccc74e00993733742a3c786dc3c1f",
                  "delivered",
                  "2017-02-18 12:45:31",
                  null,
                  "2017-02-23 09:01:52",
                  "2017-03-02 10:05:06",
                  "2017-03-21 00:00:00"
                ],
                [
                  "19031",
                  "7013bcfc1c97fe719a7b5e05e61c12db",
                  "2941af76d38100e0f8740a374f1a5dc3",
                  "delivered",
                  "2017-02-18 13:29:47",
                  null,
                  "2017-02-22 16:25:25",
                  "2017-03-01 08:07:38",
                  "2017-03-17 00:00:00"
                ],
                [
                  "22663",
                  "5cf925b116421afa85ee25e99b4c34fb",
                  "29c35fc91fc13fb5073c8f30505d860d",
                  "delivered",
                  "2017-02-18 16:48:35",
                  null,
                  "2017-02-22 11:23:10",
                  "2017-03-09 07:28:47",
                  "2017-03-31 00:00:00"
                ],
                [
                  "23156",
                  "12a95a3c06dbaec84bcfb0e2da5d228a",
                  "1e101e0daffaddce8159d25a8e53f2b2",
                  "delivered",
                  "2017-02-17 13:05:55",
                  null,
                  "2017-02-22 11:23:11",
                  "2017-03-02 11:09:19",
                  "2017-03-20 00:00:00"
                ],
                [
                  "26800",
                  "c1d4211b3dae76144deccd6c74144a88",
                  "684cb238dc5b5d6366244e0e0776b450",
                  "delivered",
                  "2017-01-19 12:48:08",
                  null,
                  "2017-01-25 14:56:50",
                  "2017-01-30 18:16:01",
                  "2017-03-01 00:00:00"
                ],
                [
                  "38290",
                  "d69e5d356402adc8cf17e08b5033acfb",
                  "68d081753ad4fe22fc4d410a9eb1ca01",
                  "delivered",
                  "2017-02-19 01:28:47",
                  null,
                  "2017-02-23 03:11:48",
                  "2017-03-02 03:41:58",
                  "2017-03-27 00:00:00"
                ],
                [
                  "39334",
                  "d77031d6a3c8a52f019764e68f211c69",
                  "0bf35cac6cc7327065da879e2d90fae8",
                  "delivered",
                  "2017-02-18 11:04:19",
                  null,
                  "2017-02-23 07:23:36",
                  "2017-03-02 16:15:23",
                  "2017-03-22 00:00:00"
                ],
                [
                  "48401",
                  "7002a78c79c519ac54022d4f8a65e6e8",
                  "d5de688c321096d15508faae67a27051",
                  "delivered",
                  "2017-01-19 22:26:59",
                  null,
                  "2017-01-27 11:08:05",
                  "2017-02-06 14:22:19",
                  "2017-03-16 00:00:00"
                ],
                [
                  "61743",
                  "2eecb0d85f281280f79fa00f9cec1a95",
                  "a3d3c38e58b9d2dfb9207cab690b6310",
                  "delivered",
                  "2017-02-17 17:21:55",
                  null,
                  "2017-02-22 11:42:51",
                  "2017-03-03 12:16:03",
                  "2017-03-20 00:00:00"
                ],
                [
                  "63052",
                  "51eb2eebd5d76a24625b31c33dd41449",
                  "07a2a7e0f63fd8cb757ed77d4245623c",
                  "delivered",
                  "2017-02-18 15:52:27",
                  null,
                  "2017-02-23 03:09:14",
                  "2017-03-07 13:57:47",
                  "2017-03-29 00:00:00"
                ],
                [
                  "67697",
                  "88083e8f64d95b932164187484d90212",
                  "f67cd1a215aae2a1074638bbd35a223a",
                  "delivered",
                  "2017-02-18 22:49:19",
                  null,
                  "2017-02-22 11:31:06",
                  "2017-03-02 12:06:06",
                  "2017-03-21 00:00:00"
                ],
                [
                  "72407",
                  "3c0b8706b065f9919d0505d3b3343881",
                  "d85919cb3c0529589c6fa617f5f43281",
                  "delivered",
                  "2017-02-17 15:53:27",
                  null,
                  "2017-02-22 11:31:30",
                  "2017-03-03 11:47:47",
                  "2017-03-23 00:00:00"
                ],
                [
                  "84999",
                  "2babbb4b15e6d2dfe95e2de765c97bce",
                  "74bebaf46603f9340e3b50c6b086f992",
                  "delivered",
                  "2017-02-18 17:15:03",
                  null,
                  "2017-02-22 11:23:11",
                  "2017-03-03 18:43:43",
                  "2017-03-31 00:00:00"
                ]
              ],
              "shape": {
                "columns": 8,
                "rows": 14
              }
            },
            "text/html": [
              "<div>\n",
              "<style scoped>\n",
              "    .dataframe tbody tr th:only-of-type {\n",
              "        vertical-align: middle;\n",
              "    }\n",
              "\n",
              "    .dataframe tbody tr th {\n",
              "        vertical-align: top;\n",
              "    }\n",
              "\n",
              "    .dataframe thead th {\n",
              "        text-align: right;\n",
              "    }\n",
              "</style>\n",
              "<table border=\"1\" class=\"dataframe\">\n",
              "  <thead>\n",
              "    <tr style=\"text-align: right;\">\n",
              "      <th></th>\n",
              "      <th>order_id</th>\n",
              "      <th>customer_id</th>\n",
              "      <th>order_status</th>\n",
              "      <th>order_purchase_timestamp</th>\n",
              "      <th>order_approved_at</th>\n",
              "      <th>order_delivered_carrier_date</th>\n",
              "      <th>order_delivered_customer_date</th>\n",
              "      <th>order_estimated_delivery_date</th>\n",
              "    </tr>\n",
              "  </thead>\n",
              "  <tbody>\n",
              "    <tr>\n",
              "      <th>5323</th>\n",
              "      <td>e04abd8149ef81b95221e88f6ed9ab6a</td>\n",
              "      <td>2127dc6603ac33544953ef05ec155771</td>\n",
              "      <td>delivered</td>\n",
              "      <td>2017-02-18 14:40:00</td>\n",
              "      <td>NaT</td>\n",
              "      <td>2017-02-23 12:04:47</td>\n",
              "      <td>2017-03-01 13:25:33</td>\n",
              "      <td>2017-03-17</td>\n",
              "    </tr>\n",
              "    <tr>\n",
              "      <th>16567</th>\n",
              "      <td>8a9adc69528e1001fc68dd0aaebbb54a</td>\n",
              "      <td>4c1ccc74e00993733742a3c786dc3c1f</td>\n",
              "      <td>delivered</td>\n",
              "      <td>2017-02-18 12:45:31</td>\n",
              "      <td>NaT</td>\n",
              "      <td>2017-02-23 09:01:52</td>\n",
              "      <td>2017-03-02 10:05:06</td>\n",
              "      <td>2017-03-21</td>\n",
              "    </tr>\n",
              "    <tr>\n",
              "      <th>19031</th>\n",
              "      <td>7013bcfc1c97fe719a7b5e05e61c12db</td>\n",
              "      <td>2941af76d38100e0f8740a374f1a5dc3</td>\n",
              "      <td>delivered</td>\n",
              "      <td>2017-02-18 13:29:47</td>\n",
              "      <td>NaT</td>\n",
              "      <td>2017-02-22 16:25:25</td>\n",
              "      <td>2017-03-01 08:07:38</td>\n",
              "      <td>2017-03-17</td>\n",
              "    </tr>\n",
              "    <tr>\n",
              "      <th>22663</th>\n",
              "      <td>5cf925b116421afa85ee25e99b4c34fb</td>\n",
              "      <td>29c35fc91fc13fb5073c8f30505d860d</td>\n",
              "      <td>delivered</td>\n",
              "      <td>2017-02-18 16:48:35</td>\n",
              "      <td>NaT</td>\n",
              "      <td>2017-02-22 11:23:10</td>\n",
              "      <td>2017-03-09 07:28:47</td>\n",
              "      <td>2017-03-31</td>\n",
              "    </tr>\n",
              "    <tr>\n",
              "      <th>23156</th>\n",
              "      <td>12a95a3c06dbaec84bcfb0e2da5d228a</td>\n",
              "      <td>1e101e0daffaddce8159d25a8e53f2b2</td>\n",
              "      <td>delivered</td>\n",
              "      <td>2017-02-17 13:05:55</td>\n",
              "      <td>NaT</td>\n",
              "      <td>2017-02-22 11:23:11</td>\n",
              "      <td>2017-03-02 11:09:19</td>\n",
              "      <td>2017-03-20</td>\n",
              "    </tr>\n",
              "    <tr>\n",
              "      <th>26800</th>\n",
              "      <td>c1d4211b3dae76144deccd6c74144a88</td>\n",
              "      <td>684cb238dc5b5d6366244e0e0776b450</td>\n",
              "      <td>delivered</td>\n",
              "      <td>2017-01-19 12:48:08</td>\n",
              "      <td>NaT</td>\n",
              "      <td>2017-01-25 14:56:50</td>\n",
              "      <td>2017-01-30 18:16:01</td>\n",
              "      <td>2017-03-01</td>\n",
              "    </tr>\n",
              "    <tr>\n",
              "      <th>38290</th>\n",
              "      <td>d69e5d356402adc8cf17e08b5033acfb</td>\n",
              "      <td>68d081753ad4fe22fc4d410a9eb1ca01</td>\n",
              "      <td>delivered</td>\n",
              "      <td>2017-02-19 01:28:47</td>\n",
              "      <td>NaT</td>\n",
              "      <td>2017-02-23 03:11:48</td>\n",
              "      <td>2017-03-02 03:41:58</td>\n",
              "      <td>2017-03-27</td>\n",
              "    </tr>\n",
              "    <tr>\n",
              "      <th>39334</th>\n",
              "      <td>d77031d6a3c8a52f019764e68f211c69</td>\n",
              "      <td>0bf35cac6cc7327065da879e2d90fae8</td>\n",
              "      <td>delivered</td>\n",
              "      <td>2017-02-18 11:04:19</td>\n",
              "      <td>NaT</td>\n",
              "      <td>2017-02-23 07:23:36</td>\n",
              "      <td>2017-03-02 16:15:23</td>\n",
              "      <td>2017-03-22</td>\n",
              "    </tr>\n",
              "    <tr>\n",
              "      <th>48401</th>\n",
              "      <td>7002a78c79c519ac54022d4f8a65e6e8</td>\n",
              "      <td>d5de688c321096d15508faae67a27051</td>\n",
              "      <td>delivered</td>\n",
              "      <td>2017-01-19 22:26:59</td>\n",
              "      <td>NaT</td>\n",
              "      <td>2017-01-27 11:08:05</td>\n",
              "      <td>2017-02-06 14:22:19</td>\n",
              "      <td>2017-03-16</td>\n",
              "    </tr>\n",
              "    <tr>\n",
              "      <th>61743</th>\n",
              "      <td>2eecb0d85f281280f79fa00f9cec1a95</td>\n",
              "      <td>a3d3c38e58b9d2dfb9207cab690b6310</td>\n",
              "      <td>delivered</td>\n",
              "      <td>2017-02-17 17:21:55</td>\n",
              "      <td>NaT</td>\n",
              "      <td>2017-02-22 11:42:51</td>\n",
              "      <td>2017-03-03 12:16:03</td>\n",
              "      <td>2017-03-20</td>\n",
              "    </tr>\n",
              "    <tr>\n",
              "      <th>63052</th>\n",
              "      <td>51eb2eebd5d76a24625b31c33dd41449</td>\n",
              "      <td>07a2a7e0f63fd8cb757ed77d4245623c</td>\n",
              "      <td>delivered</td>\n",
              "      <td>2017-02-18 15:52:27</td>\n",
              "      <td>NaT</td>\n",
              "      <td>2017-02-23 03:09:14</td>\n",
              "      <td>2017-03-07 13:57:47</td>\n",
              "      <td>2017-03-29</td>\n",
              "    </tr>\n",
              "    <tr>\n",
              "      <th>67697</th>\n",
              "      <td>88083e8f64d95b932164187484d90212</td>\n",
              "      <td>f67cd1a215aae2a1074638bbd35a223a</td>\n",
              "      <td>delivered</td>\n",
              "      <td>2017-02-18 22:49:19</td>\n",
              "      <td>NaT</td>\n",
              "      <td>2017-02-22 11:31:06</td>\n",
              "      <td>2017-03-02 12:06:06</td>\n",
              "      <td>2017-03-21</td>\n",
              "    </tr>\n",
              "    <tr>\n",
              "      <th>72407</th>\n",
              "      <td>3c0b8706b065f9919d0505d3b3343881</td>\n",
              "      <td>d85919cb3c0529589c6fa617f5f43281</td>\n",
              "      <td>delivered</td>\n",
              "      <td>2017-02-17 15:53:27</td>\n",
              "      <td>NaT</td>\n",
              "      <td>2017-02-22 11:31:30</td>\n",
              "      <td>2017-03-03 11:47:47</td>\n",
              "      <td>2017-03-23</td>\n",
              "    </tr>\n",
              "    <tr>\n",
              "      <th>84999</th>\n",
              "      <td>2babbb4b15e6d2dfe95e2de765c97bce</td>\n",
              "      <td>74bebaf46603f9340e3b50c6b086f992</td>\n",
              "      <td>delivered</td>\n",
              "      <td>2017-02-18 17:15:03</td>\n",
              "      <td>NaT</td>\n",
              "      <td>2017-02-22 11:23:11</td>\n",
              "      <td>2017-03-03 18:43:43</td>\n",
              "      <td>2017-03-31</td>\n",
              "    </tr>\n",
              "  </tbody>\n",
              "</table>\n",
              "</div>"
            ],
            "text/plain": [
              "                               order_id                       customer_id  \\\n",
              "5323   e04abd8149ef81b95221e88f6ed9ab6a  2127dc6603ac33544953ef05ec155771   \n",
              "16567  8a9adc69528e1001fc68dd0aaebbb54a  4c1ccc74e00993733742a3c786dc3c1f   \n",
              "19031  7013bcfc1c97fe719a7b5e05e61c12db  2941af76d38100e0f8740a374f1a5dc3   \n",
              "22663  5cf925b116421afa85ee25e99b4c34fb  29c35fc91fc13fb5073c8f30505d860d   \n",
              "23156  12a95a3c06dbaec84bcfb0e2da5d228a  1e101e0daffaddce8159d25a8e53f2b2   \n",
              "26800  c1d4211b3dae76144deccd6c74144a88  684cb238dc5b5d6366244e0e0776b450   \n",
              "38290  d69e5d356402adc8cf17e08b5033acfb  68d081753ad4fe22fc4d410a9eb1ca01   \n",
              "39334  d77031d6a3c8a52f019764e68f211c69  0bf35cac6cc7327065da879e2d90fae8   \n",
              "48401  7002a78c79c519ac54022d4f8a65e6e8  d5de688c321096d15508faae67a27051   \n",
              "61743  2eecb0d85f281280f79fa00f9cec1a95  a3d3c38e58b9d2dfb9207cab690b6310   \n",
              "63052  51eb2eebd5d76a24625b31c33dd41449  07a2a7e0f63fd8cb757ed77d4245623c   \n",
              "67697  88083e8f64d95b932164187484d90212  f67cd1a215aae2a1074638bbd35a223a   \n",
              "72407  3c0b8706b065f9919d0505d3b3343881  d85919cb3c0529589c6fa617f5f43281   \n",
              "84999  2babbb4b15e6d2dfe95e2de765c97bce  74bebaf46603f9340e3b50c6b086f992   \n",
              "\n",
              "      order_status order_purchase_timestamp order_approved_at  \\\n",
              "5323     delivered      2017-02-18 14:40:00               NaT   \n",
              "16567    delivered      2017-02-18 12:45:31               NaT   \n",
              "19031    delivered      2017-02-18 13:29:47               NaT   \n",
              "22663    delivered      2017-02-18 16:48:35               NaT   \n",
              "23156    delivered      2017-02-17 13:05:55               NaT   \n",
              "26800    delivered      2017-01-19 12:48:08               NaT   \n",
              "38290    delivered      2017-02-19 01:28:47               NaT   \n",
              "39334    delivered      2017-02-18 11:04:19               NaT   \n",
              "48401    delivered      2017-01-19 22:26:59               NaT   \n",
              "61743    delivered      2017-02-17 17:21:55               NaT   \n",
              "63052    delivered      2017-02-18 15:52:27               NaT   \n",
              "67697    delivered      2017-02-18 22:49:19               NaT   \n",
              "72407    delivered      2017-02-17 15:53:27               NaT   \n",
              "84999    delivered      2017-02-18 17:15:03               NaT   \n",
              "\n",
              "      order_delivered_carrier_date order_delivered_customer_date  \\\n",
              "5323           2017-02-23 12:04:47           2017-03-01 13:25:33   \n",
              "16567          2017-02-23 09:01:52           2017-03-02 10:05:06   \n",
              "19031          2017-02-22 16:25:25           2017-03-01 08:07:38   \n",
              "22663          2017-02-22 11:23:10           2017-03-09 07:28:47   \n",
              "23156          2017-02-22 11:23:11           2017-03-02 11:09:19   \n",
              "26800          2017-01-25 14:56:50           2017-01-30 18:16:01   \n",
              "38290          2017-02-23 03:11:48           2017-03-02 03:41:58   \n",
              "39334          2017-02-23 07:23:36           2017-03-02 16:15:23   \n",
              "48401          2017-01-27 11:08:05           2017-02-06 14:22:19   \n",
              "61743          2017-02-22 11:42:51           2017-03-03 12:16:03   \n",
              "63052          2017-02-23 03:09:14           2017-03-07 13:57:47   \n",
              "67697          2017-02-22 11:31:06           2017-03-02 12:06:06   \n",
              "72407          2017-02-22 11:31:30           2017-03-03 11:47:47   \n",
              "84999          2017-02-22 11:23:11           2017-03-03 18:43:43   \n",
              "\n",
              "      order_estimated_delivery_date  \n",
              "5323                     2017-03-17  \n",
              "16567                    2017-03-21  \n",
              "19031                    2017-03-17  \n",
              "22663                    2017-03-31  \n",
              "23156                    2017-03-20  \n",
              "26800                    2017-03-01  \n",
              "38290                    2017-03-27  \n",
              "39334                    2017-03-22  \n",
              "48401                    2017-03-16  \n",
              "61743                    2017-03-20  \n",
              "63052                    2017-03-29  \n",
              "67697                    2017-03-21  \n",
              "72407                    2017-03-23  \n",
              "84999                    2017-03-31  "
            ]
          },
          "execution_count": 30,
          "metadata": {},
          "output_type": "execute_result"
        }
      ],
      "source": [
        "# cek lagi\n",
        "orders_df[orders_df.order_approved_at.isna()]\n"
      ]
    },
    {
      "cell_type": "code",
      "execution_count": 31,
      "metadata": {},
      "outputs": [
        {
          "data": {
            "application/vnd.microsoft.datawrangler.viewer.v0+json": {
              "columns": [
                {
                  "name": "index",
                  "rawType": "int64",
                  "type": "integer"
                },
                {
                  "name": "order_id",
                  "rawType": "object",
                  "type": "string"
                },
                {
                  "name": "customer_id",
                  "rawType": "object",
                  "type": "string"
                },
                {
                  "name": "order_status",
                  "rawType": "object",
                  "type": "string"
                },
                {
                  "name": "order_purchase_timestamp",
                  "rawType": "datetime64[ns]",
                  "type": "datetime"
                },
                {
                  "name": "order_approved_at",
                  "rawType": "datetime64[ns]",
                  "type": "datetime"
                },
                {
                  "name": "order_delivered_carrier_date",
                  "rawType": "datetime64[ns]",
                  "type": "datetime"
                },
                {
                  "name": "order_delivered_customer_date",
                  "rawType": "datetime64[ns]",
                  "type": "datetime"
                },
                {
                  "name": "order_estimated_delivery_date",
                  "rawType": "datetime64[ns]",
                  "type": "datetime"
                }
              ],
              "conversionMethod": "pd.DataFrame",
              "ref": "ecde22e7-0616-471b-b65a-10b5ac438bc3",
              "rows": [
                [
                  "73222",
                  "2aa91108853cecb43c84a5dc5b277475",
                  "afeb16c7f46396c0ed54acb45ccaaa40",
                  "delivered",
                  "2017-09-29 08:52:58",
                  "2017-09-29 09:07:16",
                  null,
                  "2017-11-20 19:44:47",
                  "2017-11-14 00:00:00"
                ],
                [
                  "92643",
                  "2d858f451373b04fb5c984a1cc2defaf",
                  "e08caf668d499a6d643dafd7c5cc498a",
                  "delivered",
                  "2017-05-25 23:22:43",
                  "2017-05-25 23:30:16",
                  null,
                  null,
                  "2017-06-23 00:00:00"
                ]
              ],
              "shape": {
                "columns": 8,
                "rows": 2
              }
            },
            "text/html": [
              "<div>\n",
              "<style scoped>\n",
              "    .dataframe tbody tr th:only-of-type {\n",
              "        vertical-align: middle;\n",
              "    }\n",
              "\n",
              "    .dataframe tbody tr th {\n",
              "        vertical-align: top;\n",
              "    }\n",
              "\n",
              "    .dataframe thead th {\n",
              "        text-align: right;\n",
              "    }\n",
              "</style>\n",
              "<table border=\"1\" class=\"dataframe\">\n",
              "  <thead>\n",
              "    <tr style=\"text-align: right;\">\n",
              "      <th></th>\n",
              "      <th>order_id</th>\n",
              "      <th>customer_id</th>\n",
              "      <th>order_status</th>\n",
              "      <th>order_purchase_timestamp</th>\n",
              "      <th>order_approved_at</th>\n",
              "      <th>order_delivered_carrier_date</th>\n",
              "      <th>order_delivered_customer_date</th>\n",
              "      <th>order_estimated_delivery_date</th>\n",
              "    </tr>\n",
              "  </thead>\n",
              "  <tbody>\n",
              "    <tr>\n",
              "      <th>73222</th>\n",
              "      <td>2aa91108853cecb43c84a5dc5b277475</td>\n",
              "      <td>afeb16c7f46396c0ed54acb45ccaaa40</td>\n",
              "      <td>delivered</td>\n",
              "      <td>2017-09-29 08:52:58</td>\n",
              "      <td>2017-09-29 09:07:16</td>\n",
              "      <td>NaT</td>\n",
              "      <td>2017-11-20 19:44:47</td>\n",
              "      <td>2017-11-14</td>\n",
              "    </tr>\n",
              "    <tr>\n",
              "      <th>92643</th>\n",
              "      <td>2d858f451373b04fb5c984a1cc2defaf</td>\n",
              "      <td>e08caf668d499a6d643dafd7c5cc498a</td>\n",
              "      <td>delivered</td>\n",
              "      <td>2017-05-25 23:22:43</td>\n",
              "      <td>2017-05-25 23:30:16</td>\n",
              "      <td>NaT</td>\n",
              "      <td>NaT</td>\n",
              "      <td>2017-06-23</td>\n",
              "    </tr>\n",
              "  </tbody>\n",
              "</table>\n",
              "</div>"
            ],
            "text/plain": [
              "                               order_id                       customer_id  \\\n",
              "73222  2aa91108853cecb43c84a5dc5b277475  afeb16c7f46396c0ed54acb45ccaaa40   \n",
              "92643  2d858f451373b04fb5c984a1cc2defaf  e08caf668d499a6d643dafd7c5cc498a   \n",
              "\n",
              "      order_status order_purchase_timestamp   order_approved_at  \\\n",
              "73222    delivered      2017-09-29 08:52:58 2017-09-29 09:07:16   \n",
              "92643    delivered      2017-05-25 23:22:43 2017-05-25 23:30:16   \n",
              "\n",
              "      order_delivered_carrier_date order_delivered_customer_date  \\\n",
              "73222                          NaT           2017-11-20 19:44:47   \n",
              "92643                          NaT                           NaT   \n",
              "\n",
              "      order_estimated_delivery_date  \n",
              "73222                    2017-11-14  \n",
              "92643                    2017-06-23  "
            ]
          },
          "execution_count": 31,
          "metadata": {},
          "output_type": "execute_result"
        }
      ],
      "source": [
        "orders_df[orders_df.order_delivered_carrier_date.isna()]"
      ]
    },
    {
      "cell_type": "code",
      "execution_count": 32,
      "metadata": {},
      "outputs": [
        {
          "data": {
            "application/vnd.microsoft.datawrangler.viewer.v0+json": {
              "columns": [
                {
                  "name": "index",
                  "rawType": "int64",
                  "type": "integer"
                },
                {
                  "name": "order_id",
                  "rawType": "object",
                  "type": "string"
                },
                {
                  "name": "customer_id",
                  "rawType": "object",
                  "type": "string"
                },
                {
                  "name": "order_status",
                  "rawType": "object",
                  "type": "string"
                },
                {
                  "name": "order_purchase_timestamp",
                  "rawType": "datetime64[ns]",
                  "type": "datetime"
                },
                {
                  "name": "order_approved_at",
                  "rawType": "datetime64[ns]",
                  "type": "datetime"
                },
                {
                  "name": "order_delivered_carrier_date",
                  "rawType": "datetime64[ns]",
                  "type": "datetime"
                },
                {
                  "name": "order_delivered_customer_date",
                  "rawType": "datetime64[ns]",
                  "type": "datetime"
                },
                {
                  "name": "order_estimated_delivery_date",
                  "rawType": "datetime64[ns]",
                  "type": "datetime"
                }
              ],
              "conversionMethod": "pd.DataFrame",
              "ref": "25128533-de4a-4c87-84af-4190a7894b54",
              "rows": [
                [
                  "3002",
                  "2d1e2d5bf4dc7227b3bfebb81328c15f",
                  "ec05a6d8558c6455f0cbbd8a420ad34f",
                  "delivered",
                  "2017-11-28 17:44:07",
                  "2017-11-28 17:56:40",
                  "2017-11-30 18:12:23",
                  null,
                  "2017-12-18 00:00:00"
                ],
                [
                  "20618",
                  "f5dd62b788049ad9fc0526e3ad11a097",
                  "5e89028e024b381dc84a13a3570decb4",
                  "delivered",
                  "2018-06-20 06:58:43",
                  "2018-06-20 07:19:05",
                  "2018-06-25 08:05:00",
                  null,
                  "2018-07-16 00:00:00"
                ],
                [
                  "43834",
                  "2ebdfc4f15f23b91474edf87475f108e",
                  "29f0540231702fda0cfdee0a310f11aa",
                  "delivered",
                  "2018-07-01 17:05:11",
                  "2018-07-01 17:15:12",
                  "2018-07-03 13:57:00",
                  null,
                  "2018-07-30 00:00:00"
                ],
                [
                  "79263",
                  "e69f75a717d64fc5ecdfae42b2e8e086",
                  "cfda40ca8dd0a5d486a9635b611b398a",
                  "delivered",
                  "2018-07-01 22:05:55",
                  "2018-07-01 22:15:14",
                  "2018-07-03 13:57:00",
                  null,
                  "2018-07-30 00:00:00"
                ],
                [
                  "82868",
                  "0d3268bad9b086af767785e3f0fc0133",
                  "4f1d63d35fb7c8999853b2699f5c7649",
                  "delivered",
                  "2018-07-01 21:14:02",
                  "2018-07-01 21:29:54",
                  "2018-07-03 09:28:00",
                  null,
                  "2018-07-24 00:00:00"
                ],
                [
                  "92643",
                  "2d858f451373b04fb5c984a1cc2defaf",
                  "e08caf668d499a6d643dafd7c5cc498a",
                  "delivered",
                  "2017-05-25 23:22:43",
                  "2017-05-25 23:30:16",
                  null,
                  null,
                  "2017-06-23 00:00:00"
                ],
                [
                  "97647",
                  "ab7c89dc1bf4a1ead9d6ec1ec8968a84",
                  "dd1b84a7286eb4524d52af4256c0ba24",
                  "delivered",
                  "2018-06-08 12:09:39",
                  "2018-06-08 12:36:39",
                  "2018-06-12 14:10:00",
                  null,
                  "2018-06-26 00:00:00"
                ],
                [
                  "98038",
                  "20edc82cf5400ce95e1afacc25798b31",
                  "28c37425f1127d887d7337f284080a0f",
                  "delivered",
                  "2018-06-27 16:09:12",
                  "2018-06-27 16:29:30",
                  "2018-07-03 19:26:00",
                  null,
                  "2018-07-19 00:00:00"
                ]
              ],
              "shape": {
                "columns": 8,
                "rows": 8
              }
            },
            "text/html": [
              "<div>\n",
              "<style scoped>\n",
              "    .dataframe tbody tr th:only-of-type {\n",
              "        vertical-align: middle;\n",
              "    }\n",
              "\n",
              "    .dataframe tbody tr th {\n",
              "        vertical-align: top;\n",
              "    }\n",
              "\n",
              "    .dataframe thead th {\n",
              "        text-align: right;\n",
              "    }\n",
              "</style>\n",
              "<table border=\"1\" class=\"dataframe\">\n",
              "  <thead>\n",
              "    <tr style=\"text-align: right;\">\n",
              "      <th></th>\n",
              "      <th>order_id</th>\n",
              "      <th>customer_id</th>\n",
              "      <th>order_status</th>\n",
              "      <th>order_purchase_timestamp</th>\n",
              "      <th>order_approved_at</th>\n",
              "      <th>order_delivered_carrier_date</th>\n",
              "      <th>order_delivered_customer_date</th>\n",
              "      <th>order_estimated_delivery_date</th>\n",
              "    </tr>\n",
              "  </thead>\n",
              "  <tbody>\n",
              "    <tr>\n",
              "      <th>3002</th>\n",
              "      <td>2d1e2d5bf4dc7227b3bfebb81328c15f</td>\n",
              "      <td>ec05a6d8558c6455f0cbbd8a420ad34f</td>\n",
              "      <td>delivered</td>\n",
              "      <td>2017-11-28 17:44:07</td>\n",
              "      <td>2017-11-28 17:56:40</td>\n",
              "      <td>2017-11-30 18:12:23</td>\n",
              "      <td>NaT</td>\n",
              "      <td>2017-12-18</td>\n",
              "    </tr>\n",
              "    <tr>\n",
              "      <th>20618</th>\n",
              "      <td>f5dd62b788049ad9fc0526e3ad11a097</td>\n",
              "      <td>5e89028e024b381dc84a13a3570decb4</td>\n",
              "      <td>delivered</td>\n",
              "      <td>2018-06-20 06:58:43</td>\n",
              "      <td>2018-06-20 07:19:05</td>\n",
              "      <td>2018-06-25 08:05:00</td>\n",
              "      <td>NaT</td>\n",
              "      <td>2018-07-16</td>\n",
              "    </tr>\n",
              "    <tr>\n",
              "      <th>43834</th>\n",
              "      <td>2ebdfc4f15f23b91474edf87475f108e</td>\n",
              "      <td>29f0540231702fda0cfdee0a310f11aa</td>\n",
              "      <td>delivered</td>\n",
              "      <td>2018-07-01 17:05:11</td>\n",
              "      <td>2018-07-01 17:15:12</td>\n",
              "      <td>2018-07-03 13:57:00</td>\n",
              "      <td>NaT</td>\n",
              "      <td>2018-07-30</td>\n",
              "    </tr>\n",
              "    <tr>\n",
              "      <th>79263</th>\n",
              "      <td>e69f75a717d64fc5ecdfae42b2e8e086</td>\n",
              "      <td>cfda40ca8dd0a5d486a9635b611b398a</td>\n",
              "      <td>delivered</td>\n",
              "      <td>2018-07-01 22:05:55</td>\n",
              "      <td>2018-07-01 22:15:14</td>\n",
              "      <td>2018-07-03 13:57:00</td>\n",
              "      <td>NaT</td>\n",
              "      <td>2018-07-30</td>\n",
              "    </tr>\n",
              "    <tr>\n",
              "      <th>82868</th>\n",
              "      <td>0d3268bad9b086af767785e3f0fc0133</td>\n",
              "      <td>4f1d63d35fb7c8999853b2699f5c7649</td>\n",
              "      <td>delivered</td>\n",
              "      <td>2018-07-01 21:14:02</td>\n",
              "      <td>2018-07-01 21:29:54</td>\n",
              "      <td>2018-07-03 09:28:00</td>\n",
              "      <td>NaT</td>\n",
              "      <td>2018-07-24</td>\n",
              "    </tr>\n",
              "    <tr>\n",
              "      <th>92643</th>\n",
              "      <td>2d858f451373b04fb5c984a1cc2defaf</td>\n",
              "      <td>e08caf668d499a6d643dafd7c5cc498a</td>\n",
              "      <td>delivered</td>\n",
              "      <td>2017-05-25 23:22:43</td>\n",
              "      <td>2017-05-25 23:30:16</td>\n",
              "      <td>NaT</td>\n",
              "      <td>NaT</td>\n",
              "      <td>2017-06-23</td>\n",
              "    </tr>\n",
              "    <tr>\n",
              "      <th>97647</th>\n",
              "      <td>ab7c89dc1bf4a1ead9d6ec1ec8968a84</td>\n",
              "      <td>dd1b84a7286eb4524d52af4256c0ba24</td>\n",
              "      <td>delivered</td>\n",
              "      <td>2018-06-08 12:09:39</td>\n",
              "      <td>2018-06-08 12:36:39</td>\n",
              "      <td>2018-06-12 14:10:00</td>\n",
              "      <td>NaT</td>\n",
              "      <td>2018-06-26</td>\n",
              "    </tr>\n",
              "    <tr>\n",
              "      <th>98038</th>\n",
              "      <td>20edc82cf5400ce95e1afacc25798b31</td>\n",
              "      <td>28c37425f1127d887d7337f284080a0f</td>\n",
              "      <td>delivered</td>\n",
              "      <td>2018-06-27 16:09:12</td>\n",
              "      <td>2018-06-27 16:29:30</td>\n",
              "      <td>2018-07-03 19:26:00</td>\n",
              "      <td>NaT</td>\n",
              "      <td>2018-07-19</td>\n",
              "    </tr>\n",
              "  </tbody>\n",
              "</table>\n",
              "</div>"
            ],
            "text/plain": [
              "                               order_id                       customer_id  \\\n",
              "3002   2d1e2d5bf4dc7227b3bfebb81328c15f  ec05a6d8558c6455f0cbbd8a420ad34f   \n",
              "20618  f5dd62b788049ad9fc0526e3ad11a097  5e89028e024b381dc84a13a3570decb4   \n",
              "43834  2ebdfc4f15f23b91474edf87475f108e  29f0540231702fda0cfdee0a310f11aa   \n",
              "79263  e69f75a717d64fc5ecdfae42b2e8e086  cfda40ca8dd0a5d486a9635b611b398a   \n",
              "82868  0d3268bad9b086af767785e3f0fc0133  4f1d63d35fb7c8999853b2699f5c7649   \n",
              "92643  2d858f451373b04fb5c984a1cc2defaf  e08caf668d499a6d643dafd7c5cc498a   \n",
              "97647  ab7c89dc1bf4a1ead9d6ec1ec8968a84  dd1b84a7286eb4524d52af4256c0ba24   \n",
              "98038  20edc82cf5400ce95e1afacc25798b31  28c37425f1127d887d7337f284080a0f   \n",
              "\n",
              "      order_status order_purchase_timestamp   order_approved_at  \\\n",
              "3002     delivered      2017-11-28 17:44:07 2017-11-28 17:56:40   \n",
              "20618    delivered      2018-06-20 06:58:43 2018-06-20 07:19:05   \n",
              "43834    delivered      2018-07-01 17:05:11 2018-07-01 17:15:12   \n",
              "79263    delivered      2018-07-01 22:05:55 2018-07-01 22:15:14   \n",
              "82868    delivered      2018-07-01 21:14:02 2018-07-01 21:29:54   \n",
              "92643    delivered      2017-05-25 23:22:43 2017-05-25 23:30:16   \n",
              "97647    delivered      2018-06-08 12:09:39 2018-06-08 12:36:39   \n",
              "98038    delivered      2018-06-27 16:09:12 2018-06-27 16:29:30   \n",
              "\n",
              "      order_delivered_carrier_date order_delivered_customer_date  \\\n",
              "3002           2017-11-30 18:12:23                           NaT   \n",
              "20618          2018-06-25 08:05:00                           NaT   \n",
              "43834          2018-07-03 13:57:00                           NaT   \n",
              "79263          2018-07-03 13:57:00                           NaT   \n",
              "82868          2018-07-03 09:28:00                           NaT   \n",
              "92643                          NaT                           NaT   \n",
              "97647          2018-06-12 14:10:00                           NaT   \n",
              "98038          2018-07-03 19:26:00                           NaT   \n",
              "\n",
              "      order_estimated_delivery_date  \n",
              "3002                     2017-12-18  \n",
              "20618                    2018-07-16  \n",
              "43834                    2018-07-30  \n",
              "79263                    2018-07-30  \n",
              "82868                    2018-07-24  \n",
              "92643                    2017-06-23  \n",
              "97647                    2018-06-26  \n",
              "98038                    2018-07-19  "
            ]
          },
          "execution_count": 32,
          "metadata": {},
          "output_type": "execute_result"
        }
      ],
      "source": [
        "orders_df[orders_df.order_delivered_customer_date.isna()]"
      ]
    },
    {
      "cell_type": "code",
      "execution_count": 33,
      "metadata": {},
      "outputs": [],
      "source": [
        "# Masih ada missing value, mari asumsi saja akan saya sesuaikan\n",
        "orders_df['order_approved_at'] = orders_df['order_approved_at'].fillna(orders_df['order_purchase_timestamp'])"
      ]
    },
    {
      "cell_type": "code",
      "execution_count": 34,
      "metadata": {},
      "outputs": [],
      "source": [
        "orders_df['order_delivered_carrier_date'] = orders_df['order_delivered_carrier_date'].fillna(\n",
        "    orders_df['order_approved_at'] + pd.Timedelta(days=1)\n",
        ")"
      ]
    },
    {
      "cell_type": "code",
      "execution_count": 35,
      "metadata": {},
      "outputs": [],
      "source": [
        "orders_df['order_delivered_customer_date'] = orders_df['order_delivered_customer_date'].fillna(\n",
        "    orders_df['order_estimated_delivery_date'])"
      ]
    },
    {
      "cell_type": "code",
      "execution_count": 36,
      "metadata": {},
      "outputs": [
        {
          "name": "stdout",
          "output_type": "stream",
          "text": [
            "Missing Values setelah pembersihan:\n",
            "order_id                         0\n",
            "customer_id                      0\n",
            "order_status                     0\n",
            "order_purchase_timestamp         0\n",
            "order_approved_at                0\n",
            "order_delivered_carrier_date     0\n",
            "order_delivered_customer_date    0\n",
            "order_estimated_delivery_date    0\n",
            "dtype: int64\n"
          ]
        }
      ],
      "source": [
        "# Cek ulang datanya\n",
        "orders_df = orders_df[orders_df['order_status'] == 'delivered']\n",
        "\n",
        "print('Missing Values setelah pembersihan:')\n",
        "print(orders_df.isnull().sum())"
      ]
    },
    {
      "cell_type": "markdown",
      "metadata": {
        "id": "Q_5ejIqckiSP"
      },
      "source": [
        "**Insight:**\n",
        "- Semua bentuk data yang seharusnya datetime sudah diubah sesuai dengan yang seharusnya.\n",
        "- Terdapat lumayan missing value dan perbedaan order status pada data, maka dari itu order status langsung dipilih saja, jika bukan \"delivered\" telah dihapus untuk memastikan analisis hanya menggunakan transaksi yang selesai saja. Meski begitu dalam delivered masih terdapat nilai yang missing, maka saya buat asumsi saja agar disesuaikan, misalnya order_approved_at di isi dengan order_purchase_timestamp (asumsinya order otomatis disetujui saat pembelian), lalu order_delivered_carrier_date disesuaikan dengan di isi order_approved_at + 1 hari (asumsinya butuh 1 hari untuk proses pengiriman setelah persetujuan) dan terakhir rder_delivered_customer_date di isi dengan order_estimated_delivery_date (asumsinya order diterima tepat sesuai estimasi). Memang terdapat beberapa perulangan penggunaan skrip yang sama untuk pengecekan, namun tidak apa karena ini submission tugas, agar jelas flownya."
      ]
    },
    {
      "cell_type": "markdown",
      "metadata": {
        "id": "gp-Y6wU38DC1"
      },
      "source": [
        "## Exploratory Data Analysis (EDA)"
      ]
    },
    {
      "cell_type": "markdown",
      "metadata": {
        "id": "MW7WF2kr8DC1"
      },
      "source": [
        "### Explore ..."
      ]
    },
    {
      "cell_type": "code",
      "execution_count": null,
      "metadata": {
        "id": "e9CQCZjk8DC2"
      },
      "outputs": [
        {
          "name": "stdout",
          "output_type": "stream",
          "text": [
            "       payment_value\n",
            "count  100756.000000\n",
            "mean      153.067428\n",
            "std       214.451418\n",
            "min         0.000000\n",
            "25%        56.780000\n",
            "50%       100.000000\n",
            "75%       171.290000\n",
            "max     13664.080000\n"
          ]
        }
      ],
      "source": [
        "# Mari gabung data\n",
        "merged_df = orders_df.merge(customers_df, on='customer_id').merge(payments_df, on='order_id')\n",
        "\n",
        "# Statistik deskriptif\n",
        "print(merged_df[['payment_value']].describe(include=\"all\"))"
      ]
    },
    {
      "cell_type": "code",
      "execution_count": 38,
      "metadata": {},
      "outputs": [
        {
          "name": "stdout",
          "output_type": "stream",
          "text": [
            "              customer_city  transaction_count\n",
            "3563              sao paulo              15697\n",
            "3126         rio de janeiro               6917\n",
            "449          belo horizonte               2792\n",
            "553                brasilia               2131\n",
            "1135               curitiba               1544\n",
            "700                campinas               1477\n",
            "2936           porto alegre               1380\n",
            "3218               salvador               1290\n",
            "1518              guarulhos               1203\n",
            "3398  sao bernardo do campo                952\n"
          ]
        }
      ],
      "source": [
        "# Jumlah transaksi per kota\n",
        "city_transactions = merged_df.groupby('customer_city')['order_id'].count().reset_index()\n",
        "city_transactions.columns = ['customer_city', 'transaction_count']\n",
        "print(city_transactions.sort_values('transaction_count', ascending=False).head(10))"
      ]
    },
    {
      "cell_type": "markdown",
      "metadata": {
        "id": "th_Lzl2Fkj9O"
      },
      "source": [
        "**Insight:**\n",
        "- Dapat terlihat bahwa nilai pembayaran payment_value memiliki distribusi yang bervariasi, dengan rata-rata sekitar 153.067428.\n",
        "- Dapat terlihat bahwa kota-kota seperti sao paulo dan rio de janeiro memiliki jumlah transaksi tertinggi, ini menunjukkan jika aktivitas e-commercenya tinggi."
      ]
    },
    {
      "cell_type": "markdown",
      "metadata": {
        "id": "zsyZjqak8DC2"
      },
      "source": [
        "## Visualization & Explanatory Analysis"
      ]
    },
    {
      "cell_type": "markdown",
      "metadata": {
        "id": "HZxOiQ6n8DC2"
      },
      "source": [
        "### Pertanyaan 1: Bagaimana distribusi geografis pelanggan jika dilihat berdasarkan jumlah transaksi di setiap kotanya?"
      ]
    },
    {
      "cell_type": "code",
      "execution_count": 58,
      "metadata": {
        "id": "1swJUdAD8DC2"
      },
      "outputs": [
        {
          "name": "stdout",
          "output_type": "stream",
          "text": [
            "Peta berhasil disimpan.\n"
          ]
        },
        {
          "data": {
            "text/html": [
              "\n",
              "        <iframe\n",
              "            width=\"700\"\n",
              "            height=\"500\"\n",
              "            src=\"transaction_heatmap.html\"\n",
              "            frameborder=\"0\"\n",
              "            allowfullscreen\n",
              "            \n",
              "        ></iframe>\n",
              "        "
            ],
            "text/plain": [
              "<IPython.lib.display.IFrame at 0x1680b3703d0>"
            ]
          },
          "execution_count": 58,
          "metadata": {},
          "output_type": "execute_result"
        }
      ],
      "source": [
        "import folium\n",
        "from folium.plugins import HeatMap\n",
        "\n",
        "# Mari gunakan koordinat kotanya, saya ambil dari \"https://www.geonames.org/search.html?q=Brazil&country=BR\"\n",
        "'''\n",
        "city_coords = {\n",
        "    'sao paulo': [-23.5475, -46.63611],\n",
        "    'rio de janeiro': [-22.90642, -43.18223],\n",
        "    'belo horizonte': [-19.92083, -43.93778],\n",
        "    'brasilia': [-15.77972, -47.92972],\n",
        "    'curitiba': [-25.42778, -49.27306],\n",
        "    'campinas': [-22.90556, -47.06083],\n",
        "    'porto alegre': [-30.03283, -51.23019],\n",
        "    'salvador': [-12.97563, -38.49096],\n",
        "    'guarulhos': [-23.46278, -46.53333],\n",
        "    'sao bernardo do campo': [-23.69389, -46.565],\n",
        "}\n",
        "'''\n",
        "\n",
        "# Karena beberapa problem dengan tipe data, saya akan buat dataframe baru secara manual saja mulai dari sini, namun tetep dengan data asli yang ada diatas\n",
        "# Data\n",
        "geo_data = pd.DataFrame({\n",
        "    'customer_city': [\n",
        "        'belo horizonte', 'brasilia', 'campinas', 'curitiba', 'guarulhos',\n",
        "        'porto alegre', 'rio de janeiro', 'salvador', 'sao bernardo do campo', 'sao paulo'\n",
        "    ],\n",
        "    'transaction_count': [2792, 2131, 1477, 1544, 1203, 1380, 6917, 1290, 952, 15697],\n",
        "    'latitude': [-19.92083, -15.77972, -22.90556, -25.42778, -23.46278,\n",
        "                 -30.03283, -22.90642, -12.97563, -23.69389, -23.5475],\n",
        "    'longitude': [-43.93778, -47.92972, -47.06083, -49.27306, -46.53333,\n",
        "                  -51.23019, -43.18223, -38.49096, -46.565, -46.63611]\n",
        "})\n",
        "\n",
        "# Pastikan tetap clean, meski harusnya clean,-\n",
        "geo_data = geo_data.dropna(subset=['latitude', 'longitude', 'transaction_count'])\n",
        "\n",
        "# Buat list heatmapnya\n",
        "heat_data = [\n",
        "    [row['latitude'], row['longitude'], row['transaction_count']]\n",
        "    for _, row in geo_data.iterrows()\n",
        "]\n",
        "\n",
        "# Buat peta\n",
        "m = folium.Map(location=[-15.77972, -47.92972], zoom_start=4, tiles='CartoDB positron')\n",
        "HeatMap(heat_data).add_to(m)\n",
        "\n",
        "# Simpan peta\n",
        "m.save('transaction_heatmap.html')\n",
        "print(\"Peta berhasil disimpan.\")\n",
        "# Tampilkan di notebook\n",
        "from IPython.display import IFrame\n",
        "IFrame('transaction_heatmap.html', width=700, height=500)"
      ]
    },
    {
      "cell_type": "code",
      "execution_count": null,
      "metadata": {},
      "outputs": [
        {
          "name": "stdout",
          "output_type": "stream",
          "text": [
            "           customer_city  transaction_count  percentage\n",
            "9              sao paulo              15697       44.36\n",
            "6         rio de janeiro               6917       19.55\n",
            "0         belo horizonte               2792        7.89\n",
            "1               brasilia               2131        6.02\n",
            "3               curitiba               1544        4.36\n",
            "2               campinas               1477        4.17\n",
            "5           porto alegre               1380        3.90\n",
            "7               salvador               1290        3.65\n",
            "4              guarulhos               1203        3.40\n",
            "8  sao bernardo do campo                952        2.69\n"
          ]
        }
      ],
      "source": [
        "# Informasi tambahan persentase kontribusi transaksi per kota\n",
        "total_transactions = geo_data['transaction_count'].sum()\n",
        "geo_data['percentage'] = (geo_data['transaction_count'] / total_transactions * 100).round(2)\n",
        "\n",
        "print(geo_data[['customer_city', 'transaction_count', 'percentage']].sort_values('percentage', ascending=False))"
      ]
    },
    {
      "cell_type": "code",
      "execution_count": null,
      "metadata": {},
      "outputs": [
        {
          "data": {
            "image/png": "[encoded data removed]",
            "text/plain": [
              "<Figure size 640x480 with 1 Axes>"
            ]
          },
          "metadata": {},
          "output_type": "display_data"
        }
      ],
      "source": [
        "# Visualisasi top 5 kotanya\n",
        "top_cities = geo_data.nlargest(5, 'transaction_count')\n",
        "plt.barh(top_cities['customer_city'], top_cities['transaction_count'], color='skyblue')\n",
        "plt.xlabel('Jumlah Transaksi')\n",
        "plt.title('Top 5 Kota dengan Transaksi Terbanyak')\n",
        "plt.show()"
      ]
    },
    {
      "cell_type": "markdown",
      "metadata": {
        "id": "DgHI7CiU8DC2"
      },
      "source": [
        "### Pertanyaan 2: Bagaimana distribusi pelanggan jika dilihat berdasarkan nilai pembelian yang dilakukannya?"
      ]
    },
    {
      "cell_type": "code",
      "execution_count": 64,
      "metadata": {
        "id": "Go0lCsvO8DC2"
      },
      "outputs": [
        {
          "data": {
            "image/png": "[encoded data removed]",
            "text/plain": [
              "<Figure size 1000x600 with 1 Axes>"
            ]
          },
          "metadata": {},
          "output_type": "display_data"
        }
      ],
      "source": [
        "# Menghitung total pembelian per pelanggannya, notes: campur sedikit inggris-indo gapapa ya karena tidak ada ketentuan bahasa juga diinformasinya, asal paham\n",
        "customer_spending = merged_df.groupby('customer_unique_id')['payment_value'].sum().reset_index()\n",
        "customer_spending.columns = ['customer_unique_id', 'total_spending']\n",
        "\n",
        "# Hitung kuartil dan tambah kategorinya\n",
        "q1, q3 = customer_spending['total_spending'].quantile([0.25, 0.75])\n",
        "\n",
        "def categorize_spending(value):\n",
        "    if value <= q1:\n",
        "        return 'Low Spender'\n",
        "    elif value <= q3:\n",
        "        return 'Medium Spender'\n",
        "    else:\n",
        "        return 'High Spender'\n",
        "\n",
        "customer_spending['spending_category'] = customer_spending['total_spending'].apply(categorize_spending)\n",
        "\n",
        "# Hitung persentase setiap kategorinya\n",
        "category_pct = customer_spending['spending_category'].value_counts(normalize=True) * 100\n",
        "\n",
        "# Visualisasi\n",
        "plt.figure(figsize=(10, 6))\n",
        "ax = sns.barplot(\n",
        "    x=category_pct.index,\n",
        "    y=category_pct.values,\n",
        "    order=['Low Spender', 'Medium Spender', 'High Spender'],\n",
        "    palette='viridis',\n",
        "    hue=['Low', 'Medium', 'High'],\n",
        "    dodge=False\n",
        ")\n",
        "\n",
        "# Tambah label dan annotasi\n",
        "plt.title('Customer Spending Segmentation (Q1={:.2f}, Q3={:.2f})'.format(q1, q3), pad=20)\n",
        "plt.xlabel('Spending Category', labelpad=10)\n",
        "plt.ylabel('Percentage of Customers (%)', labelpad=10)\n",
        "plt.ylim(0, 100)\n",
        "\n",
        "# Tambah nilai persentase di atas bar\n",
        "for p in ax.patches:\n",
        "    ax.annotate(\n",
        "        f'{p.get_height():.1f}%', \n",
        "        (p.get_x() + p.get_width() / 2., p.get_height()),\n",
        "        ha='center', va='center', \n",
        "        xytext=(0, 10), \n",
        "        textcoords='offset points'\n",
        "    )\n",
        "\n",
        "plt.tight_layout()\n",
        "plt.savefig('spending_segmentation.png', dpi=300, bbox_inches='tight')\n",
        "plt.show()"
      ]
    },
    {
      "cell_type": "markdown",
      "metadata": {
        "id": "_0-36BDLklRg"
      },
      "source": [
        "**Insight:**\n",
        "- Heat map menunjukkan bahwa kota sao paulo memiliki konsentrasi transaksi tertinggi, yang mana menjadi pusat aktivitas e-commerce, dan dalam data tercatat 15697 transaksi dan berkontribusi 44.36 % dalam data. Jika ditarik sedikit keatas, akan sangat terlihat bahwa persebaran heatmapnya sao paulo akan menjadi pusatnya, karena memang berkontribusi dalam transaksi hampir setengah dari keseluruhan transaksi yang ada.\n",
        "- Dapat dilihat bahwa sebagian pelanggan termasuk dalam kategori \"Medium Spender\", dengan jumlah \"High Spender\" dan \"Low Spender\" yang lebih sedikit. Distribusi 25-50-25 menunjukkan basis pelanggan menengah yang kuat dan ini menunjukkan distribusi sehat."
      ]
    },
    {
      "cell_type": "markdown",
      "metadata": {
        "id": "9y4VUsmcYNZ5"
      },
      "source": [
        "## Analisis Lanjutan (Opsional)"
      ]
    },
    {
      "cell_type": "code",
      "execution_count": 65,
      "metadata": {
        "id": "iWhnzsJGYUCO"
      },
      "outputs": [
        {
          "name": "stdout",
          "output_type": "stream",
          "text": [
            "Distribusi Kategori Spending:\n",
            "spending_category\n",
            "Medium Spender    46677\n",
            "Low Spender       23341\n",
            "High Spender      23339\n",
            "Name: count, dtype: int64\n"
          ]
        }
      ],
      "source": [
        "# Save data untuk dashboard\n",
        "geo_data.to_csv('dashboard/main_data.csv', index=False)\n",
        "\n",
        "# Distribusi kategori spending\n",
        "spending_dist = customer_spending['spending_category'].value_counts()\n",
        "print('Distribusi Kategori Spending:')\n",
        "print(spending_dist)"
      ]
    },
    {
      "cell_type": "markdown",
      "metadata": {
        "id": "_WeHlCeX8DC2"
      },
      "source": [
        "## Conclusion"
      ]
    },
    {
      "cell_type": "markdown",
      "metadata": {
        "id": "ZTcyR48Y8DC2"
      },
      "source": [
        "- Maka conclution dari pertanyaan pertama adalah, distribusi geografis pelanggan jika dilihat berdasarkan jumlah transaksi di setiap kotanya sangat terlihat bahwa kontribusi jumlah transaksi tertinggi di dominasi oleh kota kota besar seperti sao paulo dan rio de janeiro misalnya, terlihat juga dalam heatmap meski jumlah transaksinya dibawah dari sao paulo, tapi kota disekitar sao paulo juga memiliki kontribusi, hal ini menunjukkan bahwa efek kontribusi kota besar seperti sao paulo yang mana diketahui sebelumnya hampir setengahnya sepertinya juga mempengaruhi jumlah transaksi kota sekitarnya, meski hal ini bisa diselidiki lebih dalam lagi, namun dalam hal ini saja kita bisa asumsikan seperti itu. \n",
        "- Maka conculution dari pertanyaan dua adalah, distribusi pelanggan jika dilihat berdasarkan nilai pembelian yang dilakukannya, maka terlihat bahwa sebagian pelanggan termasuk dalam kategori \"Medium Spender\", dengan jumlah \"High Spender\" dan \"Low Spender\" yang lebih sedikit. Hal ini menunjukkan basis pelanggan menengah yang kuat. Diketahui \"Medium Spender\" berkontribusi 46677 sedangkan \"Low Spender\" 23341, dan \"High Spender\" 23339. \"Medium Spender\" berkontribusi setengahnya dari insight data yang dibutuhkan, sangat jelas sekali bahwa ini menunjukkan distribusi sehat."
      ]
    }
  ],
  "metadata": {
    "colab": {
      "provenance": []
    },
    "kernelspec": {
      "display_name": "main-ds",
      "language": "python",
      "name": "python3"
    },
    "language_info": {
      "codemirror_mode": {
        "name": "ipython",
        "version": 3
      },
      "file_extension": ".py",
      "mimetype": "text/x-python",
      "name": "python",
      "nbconvert_exporter": "python",
      "pygments_lexer": "ipython3",
      "version": "3.9.21"
    },
    "orig_nbformat": 4
  },
  "nbformat": 4,
  "nbformat_minor": 0
}
